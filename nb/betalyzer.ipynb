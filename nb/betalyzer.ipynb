{
 "cells": [
  {
   "cell_type": "markdown",
   "metadata": {},
   "source": [
    "# Betalyzer\n"
   ]
  },
  {
   "cell_type": "markdown",
   "metadata": {},
   "source": [
    "## Installation\n",
    "\n",
    "I'm running Anaconda with the version dump below. I've tested this code using the latest builds of most libraries. The only library that I'm using that does not come default with Anaconda is Quandl, which would need to be installed using `pip install Quandl`. Note that unless you Recalculate (where Quandl is necessary), you don't need to install Quandl to run this application.\n",
    "\n",
    "Run the app by running `python app.py` and navigating to http://localhost:5000/."
   ]
  },
  {
   "cell_type": "code",
   "execution_count": 1,
   "metadata": {
    "ExecuteTime": {
     "end_time": "2017-01-22T15:39:24.383164",
     "start_time": "2017-01-22T15:39:24.381164"
    },
    "collapsed": false
   },
   "outputs": [
    {
     "data": {
      "text/plain": [
       "'3.5.2 |Anaconda custom (64-bit)| (default, Jul  5 2016, 11:41:13) [MSC v.1900 64 bit (AMD64)]'"
      ]
     },
     "execution_count": 1,
     "metadata": {},
     "output_type": "execute_result"
    }
   ],
   "source": [
    "import sys\n",
    "sys.version"
   ]
  },
  {
   "cell_type": "markdown",
   "metadata": {},
   "source": [
    "## Technologies\n",
    "I used the following components (other than the obvious like Python, HTML, CSS, jQuery).\n",
    " - **[Quandl](http://www.quandl.com):** I chose Quandl as the primary datasource because the API is documented and the data sources are much fuller than Yahoo Finance.\n",
    " - **[Pandas](http://pandas.pydata.org/):** Most calculations are done in pandas. Pandas uses numpy in the backend, but provides a layer of abstraction as well as a variety of tools built on top. \n",
    " - **[Flask](http://flask.pocoo.org/):** Flask is a lightweight web framework written in Python. As they say, the Navy uses Django; pirates use Flask. \n",
    " - **[Bokeh](http://bokeh.pydata.org/en/latest/):** Though I've used primarily Highcharts and D3 before, this is my first project using bokeh for data visualization. I'm extremely impressed by the ease of data viz that it provides as well as its seamless integration with both web output as well as pandas DataFrame inputs.\n",
    " - **[Bootstrap](http://getbootstrap.com/):** I use Twitter's Bootstrap v3 on the frontend.\n",
    " - **[Datatables](https://datatables.net/):** Datatables is a jQuery plugin that renders tables for the web extremely quickly. It has a lot of functionality around sorting, viewing, etc.\n",
    " - **[Jupyter Notebook](http://jupyter.org/):** I do most of my prototyping in Jupyter, as well as use it to write these reports."
   ]
  },
  {
   "cell_type": "markdown",
   "metadata": {},
   "source": [
    "## Application Structure\n",
    "Betalyzer is a Flask app but there are several files.\n",
    " - **`betalyzer.py`:** All of the business logic is in this file.\n",
    " - **`app.py`:** This is the Flask app and handles the execution of the web app.\n",
    " - **`templates/`:** We have three pages -- `index.html` which has our app's outline, `main.html` which displays the content on the main page (the Datatable and the charts) and `ticker.html` which shows the timeseries of beta for a single ticker.\n",
    " - **Pickles:** For performance reasons, I do not want to fetch the data and recalculate the historical betas every time a user opens the web page. So I store the calculations in pickle files, including `df_tickers` for all the tickers, `df_betas` as a timeseries for historical betas by ticker and `df_changes` as a timeseries for daily changes by ticker.\n",
    " - **`betalyzer.ipynb`:** This file. This is the resulting report.\n",
    " - **`beta-calc-optimizations.ipynb`:** This shows the optimizations performed to improve the calculation speed by a factor of 3000x.\n",
    " - **`play.ipynb`:** I have left the play Notebooks in place where I did some of my sratch work, though none of them are actually used."
   ]
  },
  {
   "cell_type": "markdown",
   "metadata": {},
   "source": [
    "## Data Issues\n",
    "There were a variety of data issues that I came across. \n",
    "\n",
    "First, getting a list of current tickers was a bit tricky. Neither Quandl nor Yahoo Finance provided an easy way to accomplish this. However, NASDAQ publishes a daily list of securities traded on its exchange. `nasdaq_url` in `betalyzer.py` sets this source. So I only have NASDAQ stocks in Betalyzer currently.\n",
    "\n",
    "Second, according to Quandl, their best data source for daily stock price data is WIKI. However, WIKI does not have ETFs, and to calculate the market move, I would like to use an ETF such as SPY. Therefore, I use WIKI for all individual stock price data, and I use GOOG for SPY data.\n",
    "\n",
    "Third, GOOG is not perfect. It does not seem to have a very good calendar in the API, and contains non business days (primarily holidays as opposed to weekends). Also, GOOG does not adjust for stock splits and dividends. Since we only get SPY from GOOG, the main issue is that it is not dividend adjusted. Meanwhile, WIKI has adjusted for dividends and splits as we use the column 'Adj Close'.\n",
    "\n",
    "Fourth, there is missing data in WIKI from Quandl. For example, GOOG only starts in mid 2014. Also, a ticker like 'CELG' (randomly chosen) has several missing data points:\n",
    "\n",
    "```\n",
    "[In] df_changes['CELG'][df_changes['CELG'].isnull()]\n",
    "[Out]\n",
    "Date\n",
    "2014-10-02   NaN\n",
    "2014-11-05   NaN\n",
    "2014-12-03   NaN\n",
    "2014-12-08   NaN\n",
    "2014-12-11   NaN\n",
    "2014-12-29   NaN\n",
    "2015-01-07   NaN\n",
    "2015-01-09   NaN\n",
    "2015-01-16   NaN\n",
    "2015-01-27   NaN\n",
    "2015-02-05   NaN\n",
    "2015-02-06   NaN\n",
    "2015-07-13   NaN\n",
    "Name: CELG, dtype: float64\n",
    "```\n",
    "\n",
    "There's an option to .fillna(0) to solve this issue temporarily. However, ideally, we'd fillna with the market return so as to not bias the beta."
   ]
  },
  {
   "cell_type": "markdown",
   "metadata": {},
   "source": [
    "## Settings\n",
    "\n",
    "The following settings allow the user to choose how betas are pulled and calculated.\n",
    "\n",
    " - **`start_date` / `end_date`:** Dates to start and end the pull from Quandl (note that the Quandl API seems to not be respecting my start dates and end dates).\n",
    " - **`market`:** Ticker of the market security to use. Defaulted to SPY.\n",
    " - **`test_ticker`:** Ticker of a security that we know will have the correct calendar from Quandl (ie no missing days). Defaulted to AAPL.\n",
    " - **`window`:** Beta window to calculate over. Defaulted to 100.\n",
    " - **`ticker_limit`:** Number of tickers to get. Defaulted to 300. **To test the script, I suggest setting this to a small value like 10.**\n",
    " - **`ticker_choice`:** ['MARKETCAP' or 'RANDOM'] Either choose tickers by the largest market caps or randomly. Defaulted to MARKETCAP.\n",
    " - **`handle_nans`:** ['KEEP' or 'FILLZERO'] Either keep nans or replace them with zeros (this is in `df_changes` -- where zeros would represent percent changes, not prices). ENH: Would like to add 'FILLMARKET'.\n",
    " - **`nasdaq_url`:** URL to get tickers."
   ]
  },
  {
   "cell_type": "markdown",
   "metadata": {},
   "source": [
    "## Questions\n",
    "\n",
    "In the problem statement, there were specific questions, which are answered below.\n",
    "\n",
    "**We strongly recommend using Anaconda ... and including an environment file.**\n",
    "\n",
    "I have included `environment.yml` but the only package that you need to install beyond the standard Anaconda distribution is Quandl.\n",
    "\n",
    "**Your basket should include at least 300 names.**\n",
    "\n",
    "See `ticker_limit` in `betalyzer.py`. Default setting is 300. It is currently set to get the largest marketcap stocks, but using randomchoice instead of the current sort functionality can randomize the selection of stocks.\n",
    "\n",
    "**Limit manual scrubbing of data.**\n",
    "\n",
    "This implementation requires no manual scrubbing of data -- everything is automated.\n",
    "\n",
    "**Select a window and compute running betas**\n",
    "\n",
    "See `window` in `betalyzer.py`. Default setting is 100.\n",
    "\n",
    "**Can you achieve better performance than what `numpy.linalg.lstsq` offers? Optimize your algo to compute betas for many names and days at a time.**\n",
    "\n",
    "Using pandas' rolling functions, we achieve speeds many orders of magnitude faster than `lstsq`. We can compute betas for 1,000 stocks over 5,000+ days (total of 5mm+ calculations) in around 5 seconds.\n",
    "\n",
    "**Enhance your algorithm to handle unexpected inputs.**\n",
    "\n",
    "There's an option called `handle_nans` that allows the user to convert `np.nan`s to zeros. This prevents missing data on particular days to cause gaps in the output. \n",
    "\n",
    "**Design a web app to visualize. You may use a lightweight framework or a more feature rich framework.**\n",
    "\n",
    "As described above, I chose Flask.\n",
    "\n",
    "**Visualize the data. The plot should incorporate simple features such as panning and zooming.**\n",
    "\n",
    "As described  above, I chose Bokeh, which has that functionality built in.\n",
    "\n",
    "**What other types of plots would be useful to visualize this data?**\n",
    "\n",
    "Bokeh has been a great tool for visualization. I'd add more interactivity to the plots to enable selecting and viewing particular cohorts of stocks and betas. Here are some examples of extensions of Bokeh plotting that I would like to adapt:\n",
    "\n",
    " - https://demo.bokehplots.com/apps/movies\n",
    " - https://demo.bokehplots.com/apps/selection_histogram\n",
    " \n",
    "Primarily, I would help visualize the evolution of beta in two dimensions --\n",
    "\n",
    " - Historically, compared to the same stock (ie, is Stock X's beta higher or lower than where it has been) and \n",
    " - Cross sectionally, compared to similar stocks' (industry / marketcap), how does this stock's beta compare?"
   ]
  },
  {
   "cell_type": "markdown",
   "metadata": {},
   "source": [
    "## Extensions\n",
    "\n",
    "Should this have been a production level project, here are some extensions that could have been added:\n",
    "\n",
    " - **TESTS:** I would add unittests and some regression tests to various components of the app, including but not limited to the `build_betas()` function as well as saving the previous beta output to ensure that the new beta output is in line with our previous ones. This should also catch data errors (in case, for example, Quandl somehow sends us different historical data than it did the day before). Additionally, we'd need tests around the data (ex. columns in NASDAQ csv) to ensure that we're getting the data we expect.\n",
    " - **Additional data:** We currently only get NASDAQ data. We should get data from NYSE as well to cover most equities. We also do not get ETFs. Additionally, there are some shortcomings in the adjustments to the SPY data (it is not total return) that need to be taken into account. \n",
    " - **Datastore:** The data is currently stored in pickled DataFrames, and only the data we need (the rest is discarded). Ideally, we'd move this to a Postgres database, and perhaps Redshift if the data starts moving beyond a few GBs, for optimal performance. \n",
    " - **Select recalculation:** Currently, on recalculation, all data is fetched from Quandl, even data that we've used before, and all calculations are made again. Ideally, we should only fetch new data and calculate based on the new data. \n",
    " - **Auto-recalculation:** Currently, only manual recalculation is supported. I would add a process that auto-recalculates every business day at a certain time when both NASDAQ and Quandl have updated their data. Perhaps an asynchronus process and a scheduler (Celery and Celery Beat is what I've used in the past) could help here.\n",
    " - **Settings through UI:** Currently, the modal that pops up in the web app does not contain options to edit the settings in  `betalyzer.py` (see settings above). Ideally, I'd add these to the 'Recalculation' modal, so the user can select start date, end date, market index, beta calculation window, etc.\n",
    " - **[numba](http://numba.pydata.org/):** Luckily, the components we needed to calculate beta (`cov`, `var`) were built in to pandas' rolling library. However, we may have faced a situation where these functions were not built in. In that case, we could have used the `numba` to optimize our calculations. (Note I'm no expert on numba -- one area I'd like to improve upon)."
   ]
  },
  {
   "cell_type": "code",
   "execution_count": null,
   "metadata": {
    "collapsed": true
   },
   "outputs": [],
   "source": []
  }
 ],
 "metadata": {
  "kernelspec": {
   "display_name": "Python [default]",
   "language": "python",
   "name": "python3"
  },
  "language_info": {
   "codemirror_mode": {
    "name": "ipython",
    "version": 3
   },
   "file_extension": ".py",
   "mimetype": "text/x-python",
   "name": "python",
   "nbconvert_exporter": "python",
   "pygments_lexer": "ipython3",
   "version": "3.5.2"
  }
 },
 "nbformat": 4,
 "nbformat_minor": 2
}
