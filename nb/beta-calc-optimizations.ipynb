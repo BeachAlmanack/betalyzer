{
 "cells": [
  {
   "cell_type": "markdown",
   "metadata": {},
   "source": [
    "# Beta Calculation Optimizations\n",
    "This notebook runs through some comparisions of beta calculations and why I chose the method I eventually went with. Instead of using real stock data, we'll mimic the data using numpy's random number generator so we can scale up the size of our test cases quickly and test the performance.\n",
    "\n",
    "## Generate Data\n",
    "First, we generate our test data. In the example below, we generate 15 years of data, from 2000 to 2015 (5,845 days), for 1,000 tickers. The total number of data points is 5,845,000, and the number of beta calculations is approximately the same (slightly less because the first few days won't have enough historical data to calculate)."
   ]
  },
  {
   "cell_type": "code",
   "execution_count": 13,
   "metadata": {
    "ExecuteTime": {
     "end_time": "2017-01-22T10:19:04.583285",
     "start_time": "2017-01-22T10:19:04.578285"
    },
    "collapsed": true
   },
   "outputs": [],
   "source": [
    "import pandas as pd\n",
    "import numpy as np\n",
    "import datetime"
   ]
  },
  {
   "cell_type": "code",
   "execution_count": 14,
   "metadata": {
    "ExecuteTime": {
     "end_time": "2017-01-22T10:19:04.732300",
     "start_time": "2017-01-22T10:19:04.728300"
    },
    "collapsed": true
   },
   "outputs": [],
   "source": [
    "# source: http://stackoverflow.com/questions/2030053/random-strings-in-python\n",
    "import random, string\n",
    "def randomword(length): return ''.join(random.choice(string.ascii_uppercase) for i in range(length))"
   ]
  },
  {
   "cell_type": "code",
   "execution_count": 15,
   "metadata": {
    "ExecuteTime": {
     "end_time": "2017-01-22T10:19:04.898317",
     "start_time": "2017-01-22T10:19:04.893316"
    },
    "collapsed": true
   },
   "outputs": [],
   "source": [
    "# settings\n",
    "start = '01-01-2000'\n",
    "end = '01-01-2016'\n",
    "ticker_count = 1000       # number of tickers\n",
    "window = 100              # window for beta calc"
   ]
  },
  {
   "cell_type": "code",
   "execution_count": 25,
   "metadata": {
    "ExecuteTime": {
     "end_time": "2017-01-22T10:20:08.156204",
     "start_time": "2017-01-22T10:20:07.992195"
    },
    "collapsed": true
   },
   "outputs": [],
   "source": [
    "idx = pd.date_range(start=start, end=end)\n",
    "tickers = [randomword(4) for i in range(ticker_count+1)]\n",
    "dt = {t: np.random.uniform(-.05, .05, len(idx)) for t in tickers}\n",
    "df = pd.DataFrame(data=dt, index=idx)\n",
    "\n",
    "mkt = tickers[0]\n",
    "window = 100"
   ]
  },
  {
   "cell_type": "code",
   "execution_count": 26,
   "metadata": {
    "ExecuteTime": {
     "end_time": "2017-01-22T10:20:08.202209",
     "start_time": "2017-01-22T10:20:08.161204"
    },
    "collapsed": false
   },
   "outputs": [
    {
     "data": {
      "text/html": [
       "<div>\n",
       "<table border=\"1\" class=\"dataframe\">\n",
       "  <thead>\n",
       "    <tr style=\"text-align: right;\">\n",
       "      <th></th>\n",
       "      <th>AAXJ</th>\n",
       "      <th>AAYO</th>\n",
       "      <th>ABSF</th>\n",
       "      <th>ACBP</th>\n",
       "      <th>ADIA</th>\n",
       "      <th>ADOT</th>\n",
       "      <th>ADWA</th>\n",
       "      <th>ADZF</th>\n",
       "      <th>AEHK</th>\n",
       "      <th>AGXS</th>\n",
       "      <th>...</th>\n",
       "      <th>ZSRH</th>\n",
       "      <th>ZUZA</th>\n",
       "      <th>ZVOJ</th>\n",
       "      <th>ZVUJ</th>\n",
       "      <th>ZWPK</th>\n",
       "      <th>ZXAJ</th>\n",
       "      <th>ZXDL</th>\n",
       "      <th>ZYSN</th>\n",
       "      <th>ZZFY</th>\n",
       "      <th>ZZLF</th>\n",
       "    </tr>\n",
       "  </thead>\n",
       "  <tbody>\n",
       "    <tr>\n",
       "      <th>2000-01-01</th>\n",
       "      <td>0.008283</td>\n",
       "      <td>0.019936</td>\n",
       "      <td>0.034291</td>\n",
       "      <td>-0.030667</td>\n",
       "      <td>0.030982</td>\n",
       "      <td>0.028384</td>\n",
       "      <td>0.047911</td>\n",
       "      <td>-0.001368</td>\n",
       "      <td>-0.034942</td>\n",
       "      <td>0.008707</td>\n",
       "      <td>...</td>\n",
       "      <td>0.035814</td>\n",
       "      <td>-0.044858</td>\n",
       "      <td>0.029882</td>\n",
       "      <td>0.043596</td>\n",
       "      <td>-0.018689</td>\n",
       "      <td>0.015947</td>\n",
       "      <td>0.023468</td>\n",
       "      <td>-0.014212</td>\n",
       "      <td>0.016259</td>\n",
       "      <td>0.031984</td>\n",
       "    </tr>\n",
       "    <tr>\n",
       "      <th>2000-01-02</th>\n",
       "      <td>0.032373</td>\n",
       "      <td>-0.014669</td>\n",
       "      <td>0.007413</td>\n",
       "      <td>0.035563</td>\n",
       "      <td>-0.044525</td>\n",
       "      <td>-0.031370</td>\n",
       "      <td>0.031193</td>\n",
       "      <td>-0.028979</td>\n",
       "      <td>0.044249</td>\n",
       "      <td>-0.032793</td>\n",
       "      <td>...</td>\n",
       "      <td>0.003719</td>\n",
       "      <td>0.007442</td>\n",
       "      <td>0.026192</td>\n",
       "      <td>0.016993</td>\n",
       "      <td>0.018229</td>\n",
       "      <td>-0.032976</td>\n",
       "      <td>-0.004970</td>\n",
       "      <td>0.008953</td>\n",
       "      <td>-0.020760</td>\n",
       "      <td>0.025812</td>\n",
       "    </tr>\n",
       "    <tr>\n",
       "      <th>2000-01-03</th>\n",
       "      <td>-0.015042</td>\n",
       "      <td>-0.031432</td>\n",
       "      <td>-0.018058</td>\n",
       "      <td>-0.035290</td>\n",
       "      <td>-0.007694</td>\n",
       "      <td>-0.005616</td>\n",
       "      <td>-0.010107</td>\n",
       "      <td>-0.049436</td>\n",
       "      <td>0.033390</td>\n",
       "      <td>0.010262</td>\n",
       "      <td>...</td>\n",
       "      <td>-0.014640</td>\n",
       "      <td>0.033551</td>\n",
       "      <td>-0.042038</td>\n",
       "      <td>-0.036268</td>\n",
       "      <td>-0.033047</td>\n",
       "      <td>-0.042756</td>\n",
       "      <td>-0.035099</td>\n",
       "      <td>-0.022503</td>\n",
       "      <td>-0.038022</td>\n",
       "      <td>0.007460</td>\n",
       "    </tr>\n",
       "    <tr>\n",
       "      <th>2000-01-04</th>\n",
       "      <td>0.042674</td>\n",
       "      <td>0.027748</td>\n",
       "      <td>0.024061</td>\n",
       "      <td>0.047282</td>\n",
       "      <td>0.013558</td>\n",
       "      <td>-0.018720</td>\n",
       "      <td>0.035461</td>\n",
       "      <td>-0.018302</td>\n",
       "      <td>0.038879</td>\n",
       "      <td>0.002341</td>\n",
       "      <td>...</td>\n",
       "      <td>-0.020772</td>\n",
       "      <td>0.020344</td>\n",
       "      <td>-0.036218</td>\n",
       "      <td>-0.045622</td>\n",
       "      <td>-0.012704</td>\n",
       "      <td>0.021155</td>\n",
       "      <td>-0.004348</td>\n",
       "      <td>0.004046</td>\n",
       "      <td>-0.005093</td>\n",
       "      <td>-0.047804</td>\n",
       "    </tr>\n",
       "    <tr>\n",
       "      <th>2000-01-05</th>\n",
       "      <td>-0.044972</td>\n",
       "      <td>-0.030506</td>\n",
       "      <td>-0.001019</td>\n",
       "      <td>0.027927</td>\n",
       "      <td>0.001515</td>\n",
       "      <td>-0.022988</td>\n",
       "      <td>0.036734</td>\n",
       "      <td>0.035547</td>\n",
       "      <td>-0.018268</td>\n",
       "      <td>0.049465</td>\n",
       "      <td>...</td>\n",
       "      <td>0.025707</td>\n",
       "      <td>-0.028557</td>\n",
       "      <td>-0.030465</td>\n",
       "      <td>-0.000533</td>\n",
       "      <td>-0.037896</td>\n",
       "      <td>-0.037277</td>\n",
       "      <td>0.032265</td>\n",
       "      <td>0.013350</td>\n",
       "      <td>-0.036006</td>\n",
       "      <td>0.047599</td>\n",
       "    </tr>\n",
       "  </tbody>\n",
       "</table>\n",
       "<p>5 rows × 999 columns</p>\n",
       "</div>"
      ],
      "text/plain": [
       "                AAXJ      AAYO      ABSF      ACBP      ADIA      ADOT  \\\n",
       "2000-01-01  0.008283  0.019936  0.034291 -0.030667  0.030982  0.028384   \n",
       "2000-01-02  0.032373 -0.014669  0.007413  0.035563 -0.044525 -0.031370   \n",
       "2000-01-03 -0.015042 -0.031432 -0.018058 -0.035290 -0.007694 -0.005616   \n",
       "2000-01-04  0.042674  0.027748  0.024061  0.047282  0.013558 -0.018720   \n",
       "2000-01-05 -0.044972 -0.030506 -0.001019  0.027927  0.001515 -0.022988   \n",
       "\n",
       "                ADWA      ADZF      AEHK      AGXS    ...         ZSRH  \\\n",
       "2000-01-01  0.047911 -0.001368 -0.034942  0.008707    ...     0.035814   \n",
       "2000-01-02  0.031193 -0.028979  0.044249 -0.032793    ...     0.003719   \n",
       "2000-01-03 -0.010107 -0.049436  0.033390  0.010262    ...    -0.014640   \n",
       "2000-01-04  0.035461 -0.018302  0.038879  0.002341    ...    -0.020772   \n",
       "2000-01-05  0.036734  0.035547 -0.018268  0.049465    ...     0.025707   \n",
       "\n",
       "                ZUZA      ZVOJ      ZVUJ      ZWPK      ZXAJ      ZXDL  \\\n",
       "2000-01-01 -0.044858  0.029882  0.043596 -0.018689  0.015947  0.023468   \n",
       "2000-01-02  0.007442  0.026192  0.016993  0.018229 -0.032976 -0.004970   \n",
       "2000-01-03  0.033551 -0.042038 -0.036268 -0.033047 -0.042756 -0.035099   \n",
       "2000-01-04  0.020344 -0.036218 -0.045622 -0.012704  0.021155 -0.004348   \n",
       "2000-01-05 -0.028557 -0.030465 -0.000533 -0.037896 -0.037277  0.032265   \n",
       "\n",
       "                ZYSN      ZZFY      ZZLF  \n",
       "2000-01-01 -0.014212  0.016259  0.031984  \n",
       "2000-01-02  0.008953 -0.020760  0.025812  \n",
       "2000-01-03 -0.022503 -0.038022  0.007460  \n",
       "2000-01-04  0.004046 -0.005093 -0.047804  \n",
       "2000-01-05  0.013350 -0.036006  0.047599  \n",
       "\n",
       "[5 rows x 999 columns]"
      ]
     },
     "execution_count": 26,
     "metadata": {},
     "output_type": "execute_result"
    }
   ],
   "source": [
    "df.head() # dataframe created "
   ]
  },
  {
   "cell_type": "code",
   "execution_count": 27,
   "metadata": {
    "ExecuteTime": {
     "end_time": "2017-01-22T10:20:10.742127",
     "start_time": "2017-01-22T10:20:10.741127"
    },
    "collapsed": false
   },
   "outputs": [
    {
     "data": {
      "text/plain": [
       "(5845, 999)"
      ]
     },
     "execution_count": 27,
     "metadata": {},
     "output_type": "execute_result"
    }
   ],
   "source": [
    "df.shape # number of values = days x tickers"
   ]
  },
  {
   "cell_type": "markdown",
   "metadata": {},
   "source": [
    "## Calculation Method 1: Using Numpy\n",
    "\n",
    "Our first iteration consists of using pandas and numpy. We use `.apply()` to each column in the DataFrame and within the `historical_beta` function, we extract the relevant data and calculate the beta using numpy's covariance and variance functionality.\n",
    "\n",
    "We completed one ticker in 17.7s using this method. This would take a total of around 4.9 hours to complete all 1,000 tickers. Not great, but doable if we have an overnight script. Additionally, since we'd likely only need to create a single day at a time after the initial run, it may not be terrible."
   ]
  },
  {
   "cell_type": "code",
   "execution_count": 33,
   "metadata": {
    "ExecuteTime": {
     "end_time": "2017-01-22T15:50:43.728340",
     "start_time": "2017-01-22T15:50:43.723339"
    },
    "collapsed": true
   },
   "outputs": [],
   "source": [
    "df_beta = df.copy()\n",
    "df_beta['date'] = df_beta.index\n",
    "stock = tickers[1]"
   ]
  },
  {
   "cell_type": "code",
   "execution_count": 56,
   "metadata": {
    "ExecuteTime": {
     "end_time": "2017-01-22T15:54:58.825920",
     "start_time": "2017-01-22T15:54:58.824920"
    },
    "collapsed": true
   },
   "outputs": [],
   "source": [
    "def historical_beta(date, mkt, stock, window):\n",
    "    start = date + datetime.timedelta(days=-window)\n",
    "    data = df.loc[(df.index < date) & (df.index > start)][[stock, mkt]]\n",
    "    if (len(data) < 10): return np.nan\n",
    "    cov = np.cov(data)[0][1]\n",
    "    var=np.var(data[mkt])\n",
    "    beta = cov / var\n",
    "    return beta"
   ]
  },
  {
   "cell_type": "code",
   "execution_count": 57,
   "metadata": {
    "ExecuteTime": {
     "end_time": "2017-01-22T15:55:16.633197",
     "start_time": "2017-01-22T15:54:58.972935"
    },
    "collapsed": false
   },
   "outputs": [],
   "source": [
    "df_beta[stock] = df_beta.apply(lambda x: historical_beta(x.date, mkt=mkt, stock=stock, window=200), axis=1)"
   ]
  },
  {
   "cell_type": "markdown",
   "metadata": {},
   "source": [
    "## Calculation Method 2: Using `numpy.linalg.lstsq`\n",
    "\n",
    "For this run, I compare using `np.cov` versus `np.linalg.lstsq` in terms of performance. The reason I only look at `cov` as opposed to `cov` + `var` is because `var` only needs to be calculated once per day.\n",
    "\n",
    "Both `cov` and `lstsq` take approximately the same amount of time (around 100 us min). For entire run of a single ticker, this calculation would be performed around 5,000 times, meaning that about 5 seconds of the 17 seconds are accounded for by this calculation.\n",
    "\n",
    "Regardless, it seems that the performance difference between `cov` and `lstsq` is measured in % and not in magnititude."
   ]
  },
  {
   "cell_type": "code",
   "execution_count": 72,
   "metadata": {
    "ExecuteTime": {
     "end_time": "2017-01-23T12:15:23.995121",
     "start_time": "2017-01-23T12:15:23.994121"
    },
    "collapsed": false
   },
   "outputs": [],
   "source": [
    "start = datetime.datetime(2012,1,1)\n",
    "end = start + datetime.timedelta(days=window)\n",
    "data = df.loc[(df.index < end) & (df.index > start)][[tickers[0], tickers[1]]]"
   ]
  },
  {
   "cell_type": "code",
   "execution_count": 73,
   "metadata": {
    "ExecuteTime": {
     "end_time": "2017-01-23T12:15:24.148136",
     "start_time": "2017-01-23T12:15:24.143135"
    },
    "collapsed": true
   },
   "outputs": [],
   "source": [
    "x = np.array(data[tickers[0]])\n",
    "y = np.array(data[tickers[1]])\n",
    "A = np.vstack([x, np.ones(len(x))]).T"
   ]
  },
  {
   "cell_type": "code",
   "execution_count": 77,
   "metadata": {
    "ExecuteTime": {
     "end_time": "2017-01-23T13:14:23.789384",
     "start_time": "2017-01-23T13:14:20.020095"
    },
    "collapsed": false
   },
   "outputs": [
    {
     "name": "stdout",
     "output_type": "stream",
     "text": [
      "The slowest run took 4.59 times longer than the fastest. This could mean that an intermediate result is being cached.\n",
      "10000 loops, best of 3: 91.4 µs per loop\n"
     ]
    }
   ],
   "source": [
    "%timeit cov = np.cov(x, y)[0][1]"
   ]
  },
  {
   "cell_type": "code",
   "execution_count": 78,
   "metadata": {
    "ExecuteTime": {
     "end_time": "2017-01-23T13:14:28.606487",
     "start_time": "2017-01-23T13:14:23.789384"
    },
    "collapsed": false
   },
   "outputs": [
    {
     "name": "stdout",
     "output_type": "stream",
     "text": [
      "The slowest run took 6.22 times longer than the fastest. This could mean that an intermediate result is being cached.\n",
      "10000 loops, best of 3: 114 µs per loop\n"
     ]
    }
   ],
   "source": [
    "%timeit m, c = np.linalg.lstsq(A, y)[0]"
   ]
  },
  {
   "cell_type": "code",
   "execution_count": 76,
   "metadata": {
    "ExecuteTime": {
     "end_time": "2017-01-23T12:15:32.737148",
     "start_time": "2017-01-23T12:15:32.734148"
    },
    "collapsed": false
   },
   "outputs": [
    {
     "name": "stdout",
     "output_type": "stream",
     "text": [
      "-0.0801992299017 0.00310402928554\n"
     ]
    }
   ],
   "source": [
    "print(m, c)"
   ]
  },
  {
   "cell_type": "markdown",
   "metadata": {},
   "source": [
    "## Calculation Method 3: Using Pandas Rolling Functions\n",
    "\n",
    "We use pandas built in rolling windows, that directly use CPython under the hood. These are highly optimized functions that resulted in blazing fast performance. Compated to calculation method 1, this did all calculations (for all 1,000 tickers) in 5.81s.\n",
    "\n",
    "`Last executed in 5.81s`\n",
    "\n",
    "Versus calculation method 1 above, which was 17.7s for 1 ticker, this is over **3000x** faster."
   ]
  },
  {
   "cell_type": "code",
   "execution_count": 58,
   "metadata": {
    "ExecuteTime": {
     "end_time": "2017-01-22T15:58:04.426953",
     "start_time": "2017-01-22T15:57:58.617379"
    },
    "collapsed": true
   },
   "outputs": [],
   "source": [
    "covs = df.rolling(window=window).cov(df[mkt], pairwise=True)\n",
    "var = df[mkt].rolling(window=window).var()\n",
    "beta = covs.div(var,axis=0)"
   ]
  },
  {
   "cell_type": "code",
   "execution_count": 59,
   "metadata": {
    "ExecuteTime": {
     "end_time": "2017-01-22T15:59:11.173488",
     "start_time": "2017-01-22T15:59:11.166487"
    },
    "collapsed": false
   },
   "outputs": [
    {
     "data": {
      "text/plain": [
       "3046.4716006884682"
      ]
     },
     "execution_count": 59,
     "metadata": {},
     "output_type": "execute_result"
    }
   ],
   "source": [
    "# difference\n",
    "(17.7 * 1000) / 5.81"
   ]
  },
  {
   "cell_type": "code",
   "execution_count": null,
   "metadata": {
    "collapsed": true
   },
   "outputs": [],
   "source": []
  }
 ],
 "metadata": {
  "kernelspec": {
   "display_name": "Python [default]",
   "language": "python",
   "name": "python3"
  },
  "language_info": {
   "codemirror_mode": {
    "name": "ipython",
    "version": 3
   },
   "file_extension": ".py",
   "mimetype": "text/x-python",
   "name": "python",
   "nbconvert_exporter": "python",
   "pygments_lexer": "ipython3",
   "version": "3.5.2"
  }
 },
 "nbformat": 4,
 "nbformat_minor": 2
}
