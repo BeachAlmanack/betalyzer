{
 "cells": [
  {
   "cell_type": "markdown",
   "metadata": {},
   "source": [
    "# Using the REST API\n",
    "This is a quick demo using Betalyzer's API in Python. "
   ]
  },
  {
   "cell_type": "code",
   "execution_count": 25,
   "metadata": {
    "ExecuteTime": {
     "end_time": "2017-07-29T16:25:43.409911Z",
     "start_time": "2017-07-29T16:25:43.407906Z"
    },
    "collapsed": true
   },
   "outputs": [],
   "source": [
    "import requests"
   ]
  },
  {
   "cell_type": "code",
   "execution_count": 26,
   "metadata": {
    "ExecuteTime": {
     "end_time": "2017-07-29T16:25:43.819753Z",
     "start_time": "2017-07-29T16:25:43.816744Z"
    },
    "collapsed": true
   },
   "outputs": [],
   "source": [
    "args = { \n",
    "    'ticker': 'AAPL', \n",
    "    'date': '20150801', \n",
    "    'lookback': '50'\n",
    "}"
   ]
  },
  {
   "cell_type": "code",
   "execution_count": 27,
   "metadata": {
    "ExecuteTime": {
     "end_time": "2017-07-29T16:25:45.037113Z",
     "start_time": "2017-07-29T16:25:44.325072Z"
    },
    "collapsed": false
   },
   "outputs": [
    {
     "data": {
      "text/plain": [
       "b'1.06004382432'"
      ]
     },
     "execution_count": 27,
     "metadata": {},
     "output_type": "execute_result"
    }
   ],
   "source": [
    "endpoint = 'http://www.betalyzer.co/api?ticker={}&date={}&lookback={}'.format(args['ticker'], args['date'], args['lookback'])\n",
    "requests.get(endpoint).content"
   ]
  },
  {
   "cell_type": "code",
   "execution_count": null,
   "metadata": {
    "collapsed": true
   },
   "outputs": [],
   "source": []
  }
 ],
 "metadata": {
  "kernelspec": {
   "display_name": "Python [conda root]",
   "language": "python",
   "name": "conda-root-py"
  },
  "language_info": {
   "codemirror_mode": {
    "name": "ipython",
    "version": 3
   },
   "file_extension": ".py",
   "mimetype": "text/x-python",
   "name": "python",
   "nbconvert_exporter": "python",
   "pygments_lexer": "ipython3",
   "version": "3.5.2"
  }
 },
 "nbformat": 4,
 "nbformat_minor": 2
}
