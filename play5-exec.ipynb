{
 "cells": [
  {
   "cell_type": "code",
   "execution_count": 1,
   "metadata": {
    "ExecuteTime": {
     "end_time": "2017-01-23T16:50:27.548017",
     "start_time": "2017-01-23T16:50:26.557392"
    },
    "collapsed": true
   },
   "outputs": [],
   "source": [
    "import betalyzer\n",
    "import pandas as pd"
   ]
  },
  {
   "cell_type": "code",
   "execution_count": 2,
   "metadata": {
    "ExecuteTime": {
     "end_time": "2017-01-23T16:50:37.077648",
     "start_time": "2017-01-23T16:50:36.728635"
    },
    "collapsed": false
   },
   "outputs": [
    {
     "ename": "AttributeError",
     "evalue": "module 'betalyzer' has no attribute 'df_changes'",
     "output_type": "error",
     "traceback": [
      "\u001b[0;31m---------------------------------------------------------------------------\u001b[0m",
      "\u001b[0;31mAttributeError\u001b[0m                            Traceback (most recent call last)",
      "\u001b[0;32m<ipython-input-2-c1713456b68f>\u001b[0m in \u001b[0;36m<module>\u001b[0;34m()\u001b[0m\n\u001b[0;32m----> 1\u001b[0;31m \u001b[0mbetalyzer\u001b[0m\u001b[1;33m.\u001b[0m\u001b[0mdf_changes\u001b[0m\u001b[1;33m\u001b[0m\u001b[0m\n\u001b[0m",
      "\u001b[0;31mAttributeError\u001b[0m: module 'betalyzer' has no attribute 'df_changes'"
     ]
    }
   ],
   "source": [
    "betalyzer.df_changes"
   ]
  },
  {
   "cell_type": "code",
   "execution_count": 10,
   "metadata": {
    "ExecuteTime": {
     "end_time": "2017-01-22T13:40:55.375114",
     "start_time": "2017-01-22T13:40:55.371113"
    },
    "collapsed": false
   },
   "outputs": [],
   "source": [
    "# betalyzer.recalculate()"
   ]
  },
  {
   "cell_type": "code",
   "execution_count": 11,
   "metadata": {
    "ExecuteTime": {
     "end_time": "2017-01-22T13:40:55.997169",
     "start_time": "2017-01-22T13:40:55.849161"
    },
    "collapsed": false
   },
   "outputs": [],
   "source": [
    "df_betas = pd.read_pickle('df_betas.pkl')"
   ]
  },
  {
   "cell_type": "code",
   "execution_count": 12,
   "metadata": {
    "ExecuteTime": {
     "end_time": "2017-01-22T13:40:56.885024",
     "start_time": "2017-01-22T13:40:56.883024"
    },
    "collapsed": false
   },
   "outputs": [],
   "source": [
    "# df_betas"
   ]
  },
  {
   "cell_type": "code",
   "execution_count": 14,
   "metadata": {
    "ExecuteTime": {
     "end_time": "2017-01-22T13:41:21.142055",
     "start_time": "2017-01-22T13:41:21.141055"
    },
    "collapsed": false
   },
   "outputs": [],
   "source": [
    "# df_betas['AAPL']"
   ]
  },
  {
   "cell_type": "code",
   "execution_count": 3,
   "metadata": {
    "ExecuteTime": {
     "end_time": "2017-01-23T16:50:47.187988",
     "start_time": "2017-01-23T16:50:47.180987"
    },
    "collapsed": false
   },
   "outputs": [],
   "source": [
    "df_changes= pd.read_pickle('df_changes.pkl')"
   ]
  },
  {
   "cell_type": "code",
   "execution_count": 14,
   "metadata": {
    "ExecuteTime": {
     "end_time": "2017-01-23T16:52:27.438581",
     "start_time": "2017-01-23T16:52:27.419579"
    },
    "collapsed": false
   },
   "outputs": [
    {
     "data": {
      "text/plain": [
       "Date\n",
       "2010-01-05   NaN\n",
       "2010-01-06   NaN\n",
       "2010-01-07   NaN\n",
       "2010-01-08   NaN\n",
       "2010-01-11   NaN\n",
       "2010-01-12   NaN\n",
       "2010-01-13   NaN\n",
       "2010-01-14   NaN\n",
       "2010-01-15   NaN\n",
       "2010-01-19   NaN\n",
       "2010-01-20   NaN\n",
       "2010-01-21   NaN\n",
       "2010-01-22   NaN\n",
       "2010-01-25   NaN\n",
       "2010-01-26   NaN\n",
       "2010-01-27   NaN\n",
       "2010-01-28   NaN\n",
       "2010-01-29   NaN\n",
       "2010-02-01   NaN\n",
       "2010-02-02   NaN\n",
       "2010-02-03   NaN\n",
       "2010-02-04   NaN\n",
       "2010-02-05   NaN\n",
       "2010-02-08   NaN\n",
       "2010-02-09   NaN\n",
       "2010-02-10   NaN\n",
       "2010-02-11   NaN\n",
       "2010-02-12   NaN\n",
       "2010-02-16   NaN\n",
       "2010-02-17   NaN\n",
       "              ..\n",
       "2014-02-13   NaN\n",
       "2014-02-14   NaN\n",
       "2014-02-18   NaN\n",
       "2014-02-19   NaN\n",
       "2014-02-20   NaN\n",
       "2014-02-21   NaN\n",
       "2014-02-24   NaN\n",
       "2014-02-25   NaN\n",
       "2014-02-26   NaN\n",
       "2014-02-27   NaN\n",
       "2014-02-28   NaN\n",
       "2014-03-03   NaN\n",
       "2014-03-04   NaN\n",
       "2014-03-05   NaN\n",
       "2014-03-06   NaN\n",
       "2014-03-07   NaN\n",
       "2014-03-10   NaN\n",
       "2014-03-11   NaN\n",
       "2014-03-12   NaN\n",
       "2014-03-13   NaN\n",
       "2014-03-14   NaN\n",
       "2014-03-17   NaN\n",
       "2014-03-18   NaN\n",
       "2014-03-19   NaN\n",
       "2014-03-20   NaN\n",
       "2014-03-21   NaN\n",
       "2014-03-24   NaN\n",
       "2014-03-25   NaN\n",
       "2014-03-26   NaN\n",
       "2014-03-27   NaN\n",
       "Name: GOOG, dtype: float64"
      ]
     },
     "execution_count": 14,
     "metadata": {},
     "output_type": "execute_result"
    }
   ],
   "source": [
    "df_changes['GOOG'][df_changes['GOOG'].isnull()]"
   ]
  },
  {
   "cell_type": "code",
   "execution_count": 18,
   "metadata": {
    "ExecuteTime": {
     "end_time": "2017-01-23T16:53:00.421996",
     "start_time": "2017-01-23T16:53:00.419996"
    },
    "collapsed": false
   },
   "outputs": [
    {
     "data": {
      "text/plain": [
       "Series([], Name: SPY, dtype: float64)"
      ]
     },
     "execution_count": 18,
     "metadata": {},
     "output_type": "execute_result"
    }
   ],
   "source": [
    "market_returns[market_returns.isnull() == True]"
   ]
  },
  {
   "cell_type": "code",
   "execution_count": 12,
   "metadata": {
    "ExecuteTime": {
     "end_time": "2017-01-23T16:52:24.065558",
     "start_time": "2017-01-23T16:52:24.064558"
    },
    "collapsed": true
   },
   "outputs": [],
   "source": [
    "market_returns = df_changes['SPY'].copy()"
   ]
  },
  {
   "cell_type": "code",
   "execution_count": 20,
   "metadata": {
    "ExecuteTime": {
     "end_time": "2017-01-23T16:54:42.805846",
     "start_time": "2017-01-23T16:54:42.790845"
    },
    "collapsed": false
   },
   "outputs": [],
   "source": [
    "df_changes = df_changes.fillna(market_returns)"
   ]
  },
  {
   "cell_type": "code",
   "execution_count": 26,
   "metadata": {
    "ExecuteTime": {
     "end_time": "2017-01-23T16:46:00.763319",
     "start_time": "2017-01-23T16:46:00.762319"
    },
    "collapsed": true
   },
   "outputs": [],
   "source": [
    "df_changes = df_changes.fillna(0)"
   ]
  },
  {
   "cell_type": "code",
   "execution_count": 28,
   "metadata": {
    "ExecuteTime": {
     "end_time": "2017-01-23T16:46:58.579691",
     "start_time": "2017-01-23T16:46:58.578691"
    },
    "collapsed": true
   },
   "outputs": [],
   "source": [
    "handle_nans = 'FILLMARKET' "
   ]
  },
  {
   "cell_type": "code",
   "execution_count": 30,
   "metadata": {
    "ExecuteTime": {
     "end_time": "2017-01-23T16:47:22.821035",
     "start_time": "2017-01-23T16:47:22.820035"
    },
    "collapsed": false
   },
   "outputs": [
    {
     "name": "stdout",
     "output_type": "stream",
     "text": [
      "hello\n"
     ]
    }
   ],
   "source": [
    "if handle_nans == 'FILLMARKET': \n",
    "    print('hello') \n",
    "    df_changes = df_changes.fillna(0)"
   ]
  },
  {
   "cell_type": "code",
   "execution_count": 32,
   "metadata": {
    "ExecuteTime": {
     "end_time": "2017-01-23T16:48:22.851650",
     "start_time": "2017-01-23T16:48:22.837649"
    },
    "collapsed": false
   },
   "outputs": [
    {
     "data": {
      "text/plain": [
       "Date\n",
       "2010-01-05    0.002647\n",
       "2010-01-06    0.000704\n",
       "2010-01-07    0.004221\n",
       "2010-01-08    0.003328\n",
       "2010-01-11    0.001397\n",
       "2010-01-12   -0.009326\n",
       "2010-01-13    0.008446\n",
       "2010-01-14    0.002705\n",
       "2010-01-15   -0.011224\n",
       "2010-01-19    0.012496\n",
       "2010-01-20   -0.010169\n",
       "2010-01-21   -0.019229\n",
       "2010-01-22   -0.022292\n",
       "2010-01-25    0.005128\n",
       "2010-01-26   -0.004191\n",
       "2010-01-27    0.004757\n",
       "2010-01-28   -0.011472\n",
       "2010-01-29   -0.010869\n",
       "2010-02-01    0.015551\n",
       "2010-02-02    0.012103\n",
       "2010-02-03   -0.004983\n",
       "2010-02-04   -0.030866\n",
       "2010-02-05    0.002067\n",
       "2010-02-08   -0.007219\n",
       "2010-02-09    0.012560\n",
       "2010-02-10   -0.001959\n",
       "2010-02-11    0.010466\n",
       "2010-02-12   -0.000832\n",
       "2010-02-16    0.015735\n",
       "2010-02-17    0.004738\n",
       "                ...   \n",
       "2015-11-18    0.015866\n",
       "2015-11-19   -0.000862\n",
       "2015-11-20    0.003644\n",
       "2015-11-23   -0.001147\n",
       "2015-11-24    0.001339\n",
       "2015-11-25   -0.000143\n",
       "2015-11-27    0.001147\n",
       "2015-11-30   -0.004152\n",
       "2015-12-01    0.009536\n",
       "2015-12-02   -0.010205\n",
       "2015-12-03   -0.014003\n",
       "2015-12-04    0.019503\n",
       "2015-12-07   -0.006059\n",
       "2015-12-08   -0.006719\n",
       "2015-12-09   -0.007780\n",
       "2015-12-10    0.002581\n",
       "2015-12-11   -0.019381\n",
       "2015-12-14    0.005053\n",
       "2015-12-15    0.010498\n",
       "2015-12-16    0.014632\n",
       "2015-12-17   -0.015238\n",
       "2015-12-18   -0.023626\n",
       "2015-12-21    0.008249\n",
       "2015-12-22    0.009074\n",
       "2015-12-23    0.012383\n",
       "2015-12-24   -0.001650\n",
       "2015-12-28   -0.002285\n",
       "2015-12-29    0.010672\n",
       "2015-12-30   -0.007088\n",
       "2015-12-31   -0.010003\n",
       "Name: SPY, dtype: float64"
      ]
     },
     "execution_count": 32,
     "metadata": {},
     "output_type": "execute_result"
    }
   ],
   "source": [
    "df_changes[betalyzer.market]"
   ]
  },
  {
   "cell_type": "code",
   "execution_count": null,
   "metadata": {
    "collapsed": true
   },
   "outputs": [],
   "source": []
  }
 ],
 "metadata": {
  "kernelspec": {
   "display_name": "Python 3",
   "language": "python",
   "name": "python3"
  },
  "language_info": {
   "codemirror_mode": {
    "name": "ipython",
    "version": 3
   },
   "file_extension": ".py",
   "mimetype": "text/x-python",
   "name": "python",
   "nbconvert_exporter": "python",
   "pygments_lexer": "ipython3",
   "version": "3.5.2"
  }
 },
 "nbformat": 4,
 "nbformat_minor": 2
}
