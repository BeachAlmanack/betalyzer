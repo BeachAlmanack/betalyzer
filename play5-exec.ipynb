{
 "cells": [
  {
   "cell_type": "code",
   "execution_count": 4,
   "metadata": {
    "ExecuteTime": {
     "end_time": "2017-01-21T17:24:40.784887",
     "start_time": "2017-01-21T17:24:40.783887"
    },
    "collapsed": true
   },
   "outputs": [],
   "source": [
    "import betalyzer\n",
    "import pandas as pd"
   ]
  },
  {
   "cell_type": "code",
   "execution_count": 2,
   "metadata": {
    "ExecuteTime": {
     "end_time": "2017-01-21T17:22:33.755907",
     "start_time": "2017-01-21T17:19:13.472942"
    },
    "collapsed": false
   },
   "outputs": [
    {
     "name": "stderr",
     "output_type": "stream",
     "text": [
      "H:\\My Documents\\Python\\betalyzer\\betalyzer.py:22: FutureWarning: convert_objects is deprecated.  Use the data-type specific converters pd.to_datetime, pd.to_timedelta and pd.to_numeric.\n",
      "  df_tickers['ipo_year'] = df_tickers['ipo_year'].convert_objects(convert_numeric=True)\n"
     ]
    },
    {
     "name": "stdout",
     "output_type": "stream",
     "text": [
      "AAPL successfully pulled\n",
      "GOOG successfully pulled\n",
      "MSFT successfully pulled\n",
      "AMZN successfully pulled\n",
      "CSCO successfully pulled\n",
      "AMGN successfully pulled\n",
      "GILD successfully pulled\n",
      "QCOM successfully pulled\n",
      "CELG successfully pulled\n",
      "SBUX successfully pulled\n",
      "PCLN successfully pulled\n",
      "AVGO successfully pulled\n",
      "NFLX successfully pulled\n",
      "NVDA successfully pulled\n",
      "ADBE successfully pulled\n",
      "BIDU successfully pulled\n",
      "ESRX successfully pulled\n",
      "YHOO successfully pulled\n",
      "CME not found in Quandl \n",
      "REGN successfully pulled\n",
      "AMAT successfully pulled\n",
      "CTSH successfully pulled\n",
      "EBAY successfully pulled\n",
      "INTU successfully pulled\n",
      "ALXN successfully pulled\n",
      "DISH successfully pulled\n",
      "EQIX successfully pulled\n",
      "ROST successfully pulled\n",
      "ORLY successfully pulled\n",
      "ISRG successfully pulled\n",
      "AMTD successfully pulled\n",
      "FISV successfully pulled\n",
      "ILMN successfully pulled\n",
      "PAYX successfully pulled\n",
      "VRTX successfully pulled\n",
      "LRCX successfully pulled\n",
      "CTRP not found in Quandl \n",
      "DLTR successfully pulled\n",
      "TROW successfully pulled\n",
      "CERN successfully pulled\n",
      "CHKP successfully pulled\n",
      "SYMC successfully pulled\n",
      "ULTA successfully pulled\n",
      "INFO not found in Quandl \n",
      "LLTC successfully pulled\n",
      "FAST successfully pulled\n",
      "XLNX successfully pulled\n",
      "BMRN successfully pulled\n",
      "CTXS successfully pulled\n",
      "MCHP successfully pulled\n",
      "VRSK successfully pulled\n",
      "SBAC successfully pulled\n",
      "XRAY successfully pulled\n",
      "KLAC successfully pulled\n",
      "HSIC successfully pulled\n",
      "AKAM successfully pulled\n",
      "CTAS successfully pulled\n",
      "MXIM successfully pulled\n",
      "HOLX successfully pulled\n",
      "STX successfully pulled\n",
      "IDXX successfully pulled\n",
      "CHRW successfully pulled\n",
      "NTAP successfully pulled\n",
      "TSCO successfully pulled\n",
      "FFIV successfully pulled\n",
      "WYNN successfully pulled\n",
      "LULU not found in Quandl \n",
      "SNPS successfully pulled\n",
      "GRMN successfully pulled\n",
      "RYAAY not found in Quandl \n",
      "STLD successfully pulled\n",
      "ALKS successfully pulled\n",
      "SBNY successfully pulled\n",
      "VRSN successfully pulled\n",
      "OTEX not found in Quandl \n",
      "SGEN successfully pulled\n",
      "ANSS successfully pulled\n",
      "SEIC successfully pulled\n",
      "FLEX not found in Quandl \n",
      "MELI not found in Quandl \n",
      "ASML not found in Quandl \n",
      "TRMB successfully pulled\n",
      "JAZZ not found in Quandl \n",
      "WOOF successfully pulled\n",
      "ALGN successfully pulled\n",
      "LAMR not found in Quandl \n",
      "ODFL successfully pulled\n",
      "MRVL successfully pulled\n",
      "ARCC successfully pulled\n",
      "JKHY successfully pulled\n",
      "JBLU successfully pulled\n",
      "SRCL successfully pulled\n",
      "DXCM successfully pulled\n",
      "CSGP successfully pulled\n",
      "CPRT successfully pulled\n",
      "UTHR successfully pulled\n",
      "OZRK successfully pulled\n",
      "AGNC successfully pulled\n",
      "BEAV successfully pulled\n",
      "BBBY successfully pulled\n"
     ]
    },
    {
     "data": {
      "text/plain": [
       "True"
      ]
     },
     "execution_count": 2,
     "metadata": {},
     "output_type": "execute_result"
    }
   ],
   "source": [
    "betalyzer.recalculate()"
   ]
  },
  {
   "cell_type": "code",
   "execution_count": 6,
   "metadata": {
    "ExecuteTime": {
     "end_time": "2017-01-21T17:24:58.999264",
     "start_time": "2017-01-21T17:24:58.898458"
    },
    "collapsed": false
   },
   "outputs": [],
   "source": [
    "df_betas = pd.read_pickle('df_betas.pkl')"
   ]
  },
  {
   "cell_type": "code",
   "execution_count": 8,
   "metadata": {
    "ExecuteTime": {
     "end_time": "2017-01-21T17:25:13.351649",
     "start_time": "2017-01-21T17:25:13.347649"
    },
    "collapsed": false
   },
   "outputs": [],
   "source": [
    "# df_betas"
   ]
  },
  {
   "cell_type": "code",
   "execution_count": null,
   "metadata": {
    "collapsed": true
   },
   "outputs": [],
   "source": []
  }
 ],
 "metadata": {
  "kernelspec": {
   "display_name": "Python 3",
   "language": "python",
   "name": "python3"
  },
  "language_info": {
   "codemirror_mode": {
    "name": "ipython",
    "version": 3
   },
   "file_extension": ".py",
   "mimetype": "text/x-python",
   "name": "python",
   "nbconvert_exporter": "python",
   "pygments_lexer": "ipython3",
   "version": "3.5.2"
  }
 },
 "nbformat": 4,
 "nbformat_minor": 2
}
