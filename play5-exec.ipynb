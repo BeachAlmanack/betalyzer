{
 "cells": [
  {
   "cell_type": "code",
   "execution_count": 9,
   "metadata": {
    "ExecuteTime": {
     "end_time": "2017-01-22T13:40:54.890065",
     "start_time": "2017-01-22T13:40:54.885065"
    },
    "collapsed": true
   },
   "outputs": [],
   "source": [
    "import betalyzer\n",
    "import pandas as pd"
   ]
  },
  {
   "cell_type": "code",
   "execution_count": 10,
   "metadata": {
    "ExecuteTime": {
     "end_time": "2017-01-22T13:40:55.375114",
     "start_time": "2017-01-22T13:40:55.371113"
    },
    "collapsed": false
   },
   "outputs": [],
   "source": [
    "# betalyzer.recalculate()"
   ]
  },
  {
   "cell_type": "code",
   "execution_count": 11,
   "metadata": {
    "ExecuteTime": {
     "end_time": "2017-01-22T13:40:55.997169",
     "start_time": "2017-01-22T13:40:55.849161"
    },
    "collapsed": false
   },
   "outputs": [],
   "source": [
    "df_betas = pd.read_pickle('df_betas.pkl')"
   ]
  },
  {
   "cell_type": "code",
   "execution_count": 12,
   "metadata": {
    "ExecuteTime": {
     "end_time": "2017-01-22T13:40:56.885024",
     "start_time": "2017-01-22T13:40:56.883024"
    },
    "collapsed": false
   },
   "outputs": [],
   "source": [
    "# df_betas"
   ]
  },
  {
   "cell_type": "code",
   "execution_count": 14,
   "metadata": {
    "ExecuteTime": {
     "end_time": "2017-01-22T13:41:21.142055",
     "start_time": "2017-01-22T13:41:21.141055"
    },
    "collapsed": false
   },
   "outputs": [],
   "source": [
    "# df_betas['AAPL']"
   ]
  },
  {
   "cell_type": "code",
   "execution_count": 16,
   "metadata": {
    "ExecuteTime": {
     "end_time": "2017-01-22T14:43:37.215099",
     "start_time": "2017-01-22T14:43:37.074289"
    },
    "collapsed": false
   },
   "outputs": [],
   "source": [
    "df_changes= pd.read_pickle('df_changes.pkl')"
   ]
  },
  {
   "cell_type": "code",
   "execution_count": 22,
   "metadata": {
    "ExecuteTime": {
     "end_time": "2017-01-22T14:54:22.914100",
     "start_time": "2017-01-22T14:54:22.912100"
    },
    "collapsed": false
   },
   "outputs": [
    {
     "data": {
      "text/plain": [
       "Date\n",
       "2014-10-02   NaN\n",
       "2014-11-05   NaN\n",
       "2014-12-03   NaN\n",
       "2014-12-08   NaN\n",
       "2014-12-11   NaN\n",
       "2014-12-29   NaN\n",
       "2015-01-07   NaN\n",
       "2015-01-09   NaN\n",
       "2015-01-16   NaN\n",
       "2015-01-27   NaN\n",
       "2015-02-05   NaN\n",
       "2015-02-06   NaN\n",
       "2015-07-13   NaN\n",
       "Name: CELG, dtype: float64"
      ]
     },
     "execution_count": 22,
     "metadata": {},
     "output_type": "execute_result"
    }
   ],
   "source": [
    "df_changes['CELG'][df_changes['CELG'].isnull()]"
   ]
  },
  {
   "cell_type": "code",
   "execution_count": null,
   "metadata": {
    "collapsed": true
   },
   "outputs": [],
   "source": []
  }
 ],
 "metadata": {
  "kernelspec": {
   "display_name": "Python 3",
   "language": "python",
   "name": "python3"
  },
  "language_info": {
   "codemirror_mode": {
    "name": "ipython",
    "version": 3
   },
   "file_extension": ".py",
   "mimetype": "text/x-python",
   "name": "python",
   "nbconvert_exporter": "python",
   "pygments_lexer": "ipython3",
   "version": "3.5.2"
  }
 },
 "nbformat": 4,
 "nbformat_minor": 2
}
