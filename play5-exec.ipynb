{
 "cells": [
  {
   "cell_type": "code",
   "execution_count": 9,
   "metadata": {
    "ExecuteTime": {
     "end_time": "2017-01-22T13:40:54.890065",
     "start_time": "2017-01-22T13:40:54.885065"
    },
    "collapsed": true
   },
   "outputs": [],
   "source": [
    "import betalyzer\n",
    "import pandas as pd"
   ]
  },
  {
   "cell_type": "code",
   "execution_count": 10,
   "metadata": {
    "ExecuteTime": {
     "end_time": "2017-01-22T13:40:55.375114",
     "start_time": "2017-01-22T13:40:55.371113"
    },
    "collapsed": false
   },
   "outputs": [],
   "source": [
    "# betalyzer.recalculate()"
   ]
  },
  {
   "cell_type": "code",
   "execution_count": 11,
   "metadata": {
    "ExecuteTime": {
     "end_time": "2017-01-22T13:40:55.997169",
     "start_time": "2017-01-22T13:40:55.849161"
    },
    "collapsed": false
   },
   "outputs": [],
   "source": [
    "df_betas = pd.read_pickle('df_betas.pkl')"
   ]
  },
  {
   "cell_type": "code",
   "execution_count": 12,
   "metadata": {
    "ExecuteTime": {
     "end_time": "2017-01-22T13:40:56.885024",
     "start_time": "2017-01-22T13:40:56.883024"
    },
    "collapsed": false
   },
   "outputs": [],
   "source": [
    "# df_betas"
   ]
  },
  {
   "cell_type": "code",
   "execution_count": 14,
   "metadata": {
    "ExecuteTime": {
     "end_time": "2017-01-22T13:41:21.142055",
     "start_time": "2017-01-22T13:41:21.141055"
    },
    "collapsed": false
   },
   "outputs": [],
   "source": [
    "# df_betas['AAPL']"
   ]
  },
  {
   "cell_type": "code",
   "execution_count": null,
   "metadata": {
    "collapsed": true
   },
   "outputs": [],
   "source": []
  }
 ],
 "metadata": {
  "kernelspec": {
   "display_name": "Python 3",
   "language": "python",
   "name": "python3"
  },
  "language_info": {
   "codemirror_mode": {
    "name": "ipython",
    "version": 3
   },
   "file_extension": ".py",
   "mimetype": "text/x-python",
   "name": "python",
   "nbconvert_exporter": "python",
   "pygments_lexer": "ipython3",
   "version": "3.5.2"
  }
 },
 "nbformat": 4,
 "nbformat_minor": 2
}
