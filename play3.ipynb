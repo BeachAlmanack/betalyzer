{
 "cells": [
  {
   "cell_type": "code",
   "execution_count": 185,
   "metadata": {
    "ExecuteTime": {
     "end_time": "2017-01-21T16:12:04.693700",
     "start_time": "2017-01-21T16:12:04.692700"
    },
    "collapsed": true
   },
   "outputs": [],
   "source": [
    "import Quandl\n",
    "import pandas as pd\n",
    "import numpy as np\n",
    "import datetime"
   ]
  },
  {
   "cell_type": "code",
   "execution_count": 186,
   "metadata": {
    "ExecuteTime": {
     "end_time": "2017-01-21T16:12:04.705701",
     "start_time": "2017-01-21T16:12:04.700701"
    },
    "collapsed": true
   },
   "outputs": [],
   "source": [
    "start_date = datetime.datetime(2010,1,1)\n",
    "end_date = datetime.datetime(2016,1,1)\n",
    "market = 'SPY'\n",
    "test_ticker = 'AAPL'\n",
    "window = 100"
   ]
  },
  {
   "cell_type": "code",
   "execution_count": 187,
   "metadata": {
    "ExecuteTime": {
     "end_time": "2017-01-21T16:12:06.345281",
     "start_time": "2017-01-21T16:12:04.707701"
    },
    "collapsed": true
   },
   "outputs": [],
   "source": [
    "nasdaq_url = 'http://www.nasdaq.com/screening/companies-by-industry.aspx?exchange=NASDAQ&render=download'\n",
    "df_tickers = pd.read_csv(nasdaq_url)"
   ]
  },
  {
   "cell_type": "code",
   "execution_count": 188,
   "metadata": {
    "ExecuteTime": {
     "end_time": "2017-01-21T16:12:06.346281",
     "start_time": "2017-01-21T16:12:06.345281"
    },
    "collapsed": false
   },
   "outputs": [],
   "source": [
    "# process tickers\n",
    "df_tickers.rename(columns={ 'Symbol': 'ticker', 'Name': 'name', 'LastSale': 'last_price', 'MarketCap': 'market_cap',\n",
    "                           'IPOyear': 'ipo_year', 'Sector': 'sector', 'Industry': 'industry'}, inplace=True)"
   ]
  },
  {
   "cell_type": "code",
   "execution_count": 189,
   "metadata": {
    "ExecuteTime": {
     "end_time": "2017-01-21T16:12:06.378284",
     "start_time": "2017-01-21T16:12:06.349281"
    },
    "collapsed": false
   },
   "outputs": [
    {
     "name": "stderr",
     "output_type": "stream",
     "text": [
      "C:\\Anaconda3\\lib\\site-packages\\ipykernel\\__main__.py:1: FutureWarning: convert_objects is deprecated.  Use the data-type specific converters pd.to_datetime, pd.to_timedelta and pd.to_numeric.\n",
      "  if __name__ == '__main__':\n"
     ]
    }
   ],
   "source": [
    "df_tickers['ipo_year'] = df_tickers['ipo_year'].convert_objects(convert_numeric=True)\n",
    "df_tickers.dropna(subset=['ipo_year'], inplace=True)\n",
    "df_tickers = df_tickers[(df_tickers['market_cap'] > 1e9) & (df_tickers['ipo_year'] < 2010)]"
   ]
  },
  {
   "cell_type": "code",
   "execution_count": 190,
   "metadata": {
    "ExecuteTime": {
     "end_time": "2017-01-21T16:12:07.692149",
     "start_time": "2017-01-21T16:12:06.380284"
    },
    "collapsed": false
   },
   "outputs": [],
   "source": [
    "df_market = Quandl.get('GOOG/NYSE_'+market)\n",
    "df_market.rename(columns={'Close': market}, inplace=True)\n",
    "df_market[market] = df_market[market].pct_change()\n",
    "df_master = df_market[(df_market.index >= start_date) & (df_market.index < end_date)][[market]]"
   ]
  },
  {
   "cell_type": "code",
   "execution_count": 191,
   "metadata": {
    "ExecuteTime": {
     "end_time": "2017-01-21T16:12:07.693149",
     "start_time": "2017-01-21T16:12:07.692149"
    },
    "collapsed": false
   },
   "outputs": [],
   "source": [
    "tickers = list(df_tickers['ticker'][:10])\n",
    "# tickers = ['AAPL', 'MSFT']\n"
   ]
  },
  {
   "cell_type": "code",
   "execution_count": 192,
   "metadata": {
    "ExecuteTime": {
     "end_time": "2017-01-21T16:12:07.695149",
     "start_time": "2017-01-21T16:12:07.693149"
    },
    "collapsed": false
   },
   "outputs": [],
   "source": []
  },
  {
   "cell_type": "code",
   "execution_count": 193,
   "metadata": {
    "ExecuteTime": {
     "end_time": "2017-01-21T16:12:07.704150",
     "start_time": "2017-01-21T16:12:07.697150"
    },
    "collapsed": false
   },
   "outputs": [],
   "source": []
  },
  {
   "cell_type": "code",
   "execution_count": 194,
   "metadata": {
    "ExecuteTime": {
     "end_time": "2017-01-21T16:12:28.343142",
     "start_time": "2017-01-21T16:12:07.706150"
    },
    "collapsed": false
   },
   "outputs": [
    {
     "name": "stdout",
     "output_type": "stream",
     "text": [
      "ABAX successfully pulled\n",
      "ACAD successfully pulled\n",
      "ADBE successfully pulled\n",
      "ADTN successfully pulled\n",
      "AEIS successfully pulled\n",
      "AGNC successfully pulled\n",
      "AKAM successfully pulled\n",
      "ALXN successfully pulled\n",
      "ALGN successfully pulled\n",
      "ALKS successfully pulled\n"
     ]
    }
   ],
   "source": [
    "for t in tickers:\n",
    "    try: \n",
    "        df_stock = Quandl.get('WIKI/'+t, start_date='2010-01-01', end_date=\"2005-12-31\")\n",
    "    except:\n",
    "        print ('{} not found in Quandl '.format(t))\n",
    "        continue\n",
    "    df_master[t] = df_stock[(df_stock.index >= start_date) & (df_stock.index < end_date)]['Adj. Close']\n",
    "    df_master[t] = df_master[t].pct_change()\n",
    "    print('{} successfully pulled'.format(t))"
   ]
  },
  {
   "cell_type": "code",
   "execution_count": 195,
   "metadata": {
    "ExecuteTime": {
     "end_time": "2017-01-21T16:12:28.346143",
     "start_time": "2017-01-21T16:12:28.343142"
    },
    "collapsed": false
   },
   "outputs": [],
   "source": [
    "df_master.dropna(subset=['ABAX'], inplace=True)"
   ]
  },
  {
   "cell_type": "code",
   "execution_count": 196,
   "metadata": {
    "ExecuteTime": {
     "end_time": "2017-01-21T16:12:28.379146",
     "start_time": "2017-01-21T16:12:28.357144"
    },
    "collapsed": true
   },
   "outputs": [],
   "source": [
    "tickers = list(set.intersection(set(df_master.columns), tickers)) # update tickers list\n",
    "# tickers_ch = [t+'_ch' for t in tickers]"
   ]
  },
  {
   "cell_type": "code",
   "execution_count": 197,
   "metadata": {
    "ExecuteTime": {
     "end_time": "2017-01-21T16:12:28.447153",
     "start_time": "2017-01-21T16:12:28.381146"
    },
    "collapsed": true
   },
   "outputs": [],
   "source": [
    "df_master.to_pickle('df_master.pkl')"
   ]
  },
  {
   "cell_type": "markdown",
   "metadata": {},
   "source": [
    "## Calcs"
   ]
  },
  {
   "cell_type": "code",
   "execution_count": 198,
   "metadata": {
    "ExecuteTime": {
     "end_time": "2017-01-21T16:12:28.515160",
     "start_time": "2017-01-21T16:12:28.449153"
    },
    "collapsed": false
   },
   "outputs": [],
   "source": [
    "covs = df_master[tickers].rolling(window=window).cov(df_master[market], pairwise=True)\n",
    "var = df_master[market].rolling(window=window).var()\n",
    "df_beta = covs.div(var,axis=0)"
   ]
  },
  {
   "cell_type": "code",
   "execution_count": 199,
   "metadata": {
    "ExecuteTime": {
     "end_time": "2017-01-21T16:12:28.586167",
     "start_time": "2017-01-21T16:12:28.517160"
    },
    "collapsed": true
   },
   "outputs": [],
   "source": [
    "df_beta.to_pickle('df_beta.pkl')"
   ]
  },
  {
   "cell_type": "code",
   "execution_count": 200,
   "metadata": {
    "ExecuteTime": {
     "end_time": "2017-01-21T16:12:28.610169",
     "start_time": "2017-01-21T16:12:28.588167"
    },
    "collapsed": false
   },
   "outputs": [],
   "source": [
    "today = df_beta.index.max()\n",
    "sr_beta_today = df_beta.loc[df_beta.index.max()]\n",
    "df_tickers = df_tickers[df_tickers['ticker'].isin(tickers)]\n",
    "df_tickers = df_tickers.set_index('ticker')\n",
    "df_tickers['ticker'] = df_tickers.index\n",
    "df_tickers['beta'] = sr_beta_today"
   ]
  },
  {
   "cell_type": "code",
   "execution_count": 201,
   "metadata": {
    "ExecuteTime": {
     "end_time": "2017-01-21T16:12:28.669175",
     "start_time": "2017-01-21T16:12:28.614170"
    },
    "collapsed": false
   },
   "outputs": [],
   "source": [
    "ticker_fields = ['ticker', 'name', 'beta', 'ipo_year', 'market_cap', 'sector', 'industry', 'last_price']\n",
    "df_tickers = df_tickers[ticker_fields]\n",
    "df_tickers[ticker_fields].to_pickle('df_tickers.pkl')"
   ]
  },
  {
   "cell_type": "code",
   "execution_count": null,
   "metadata": {
    "collapsed": true
   },
   "outputs": [],
   "source": []
  }
 ],
 "metadata": {
  "kernelspec": {
   "display_name": "Python 3",
   "language": "python",
   "name": "python3"
  },
  "language_info": {
   "codemirror_mode": {
    "name": "ipython",
    "version": 3
   },
   "file_extension": ".py",
   "mimetype": "text/x-python",
   "name": "python",
   "nbconvert_exporter": "python",
   "pygments_lexer": "ipython3",
   "version": "3.5.2"
  }
 },
 "nbformat": 4,
 "nbformat_minor": 2
}
