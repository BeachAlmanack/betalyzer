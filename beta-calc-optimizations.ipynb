{
 "cells": [
  {
   "cell_type": "markdown",
   "metadata": {},
   "source": [
    "# Beta Calculation Optimizations\n",
    "This notebook runs through some comparisions of beta calculations and why I chose the method I eventually went with. Instead of using real stock data, we'll mimic the data using numpy's random number generator so we can scale up the size of our test cases quickly and test the performance.\n",
    "\n",
    "## Generate Data\n",
    "First, we generate our test data. In the example below, we generate 15 years of data, from 2000 to 2015 (5,845 days), for 1,000 tickers. The total number of data points is 5,845,000, and the number of beta calculations is approximately the same (slightly less because the first few days won't have enough historical data to calculate)."
   ]
  },
  {
   "cell_type": "code",
   "execution_count": 13,
   "metadata": {
    "ExecuteTime": {
     "end_time": "2017-01-22T10:19:04.583285",
     "start_time": "2017-01-22T10:19:04.578285"
    },
    "collapsed": true
   },
   "outputs": [],
   "source": [
    "import pandas as pd\n",
    "import numpy as np\n",
    "import datetime"
   ]
  },
  {
   "cell_type": "code",
   "execution_count": 14,
   "metadata": {
    "ExecuteTime": {
     "end_time": "2017-01-22T10:19:04.732300",
     "start_time": "2017-01-22T10:19:04.728300"
    },
    "collapsed": true
   },
   "outputs": [],
   "source": [
    "# source: http://stackoverflow.com/questions/2030053/random-strings-in-python\n",
    "import random, string\n",
    "def randomword(length): return ''.join(random.choice(string.ascii_uppercase) for i in range(length))"
   ]
  },
  {
   "cell_type": "code",
   "execution_count": 15,
   "metadata": {
    "ExecuteTime": {
     "end_time": "2017-01-22T10:19:04.898317",
     "start_time": "2017-01-22T10:19:04.893316"
    },
    "collapsed": true
   },
   "outputs": [],
   "source": [
    "# settings\n",
    "start = '01-01-2000'\n",
    "end = '01-01-2016'\n",
    "ticker_count = 1000       # number of tickers\n",
    "window = 100              # window for beta calc"
   ]
  },
  {
   "cell_type": "code",
   "execution_count": 25,
   "metadata": {
    "ExecuteTime": {
     "end_time": "2017-01-22T10:20:08.156204",
     "start_time": "2017-01-22T10:20:07.992195"
    },
    "collapsed": true
   },
   "outputs": [],
   "source": [
    "idx = pd.date_range(start=start, end=end)\n",
    "tickers = [randomword(4) for i in range(ticker_count+1)]\n",
    "dt = {t: np.random.uniform(-.05, .05, len(idx)) for t in tickers}\n",
    "df = pd.DataFrame(data=dt, index=idx)\n",
    "\n",
    "mkt = tickers[0]\n",
    "window = 100"
   ]
  },
  {
   "cell_type": "code",
   "execution_count": 26,
   "metadata": {
    "ExecuteTime": {
     "end_time": "2017-01-22T10:20:08.202209",
     "start_time": "2017-01-22T10:20:08.161204"
    },
    "collapsed": false
   },
   "outputs": [
    {
     "data": {
      "text/html": [
       "<div>\n",
       "<table border=\"1\" class=\"dataframe\">\n",
       "  <thead>\n",
       "    <tr style=\"text-align: right;\">\n",
       "      <th></th>\n",
       "      <th>AAXJ</th>\n",
       "      <th>AAYO</th>\n",
       "      <th>ABSF</th>\n",
       "      <th>ACBP</th>\n",
       "      <th>ADIA</th>\n",
       "      <th>ADOT</th>\n",
       "      <th>ADWA</th>\n",
       "      <th>ADZF</th>\n",
       "      <th>AEHK</th>\n",
       "      <th>AGXS</th>\n",
       "      <th>...</th>\n",
       "      <th>ZSRH</th>\n",
       "      <th>ZUZA</th>\n",
       "      <th>ZVOJ</th>\n",
       "      <th>ZVUJ</th>\n",
       "      <th>ZWPK</th>\n",
       "      <th>ZXAJ</th>\n",
       "      <th>ZXDL</th>\n",
       "      <th>ZYSN</th>\n",
       "      <th>ZZFY</th>\n",
       "      <th>ZZLF</th>\n",
       "    </tr>\n",
       "  </thead>\n",
       "  <tbody>\n",
       "    <tr>\n",
       "      <th>2000-01-01</th>\n",
       "      <td>0.008283</td>\n",
       "      <td>0.019936</td>\n",
       "      <td>0.034291</td>\n",
       "      <td>-0.030667</td>\n",
       "      <td>0.030982</td>\n",
       "      <td>0.028384</td>\n",
       "      <td>0.047911</td>\n",
       "      <td>-0.001368</td>\n",
       "      <td>-0.034942</td>\n",
       "      <td>0.008707</td>\n",
       "      <td>...</td>\n",
       "      <td>0.035814</td>\n",
       "      <td>-0.044858</td>\n",
       "      <td>0.029882</td>\n",
       "      <td>0.043596</td>\n",
       "      <td>-0.018689</td>\n",
       "      <td>0.015947</td>\n",
       "      <td>0.023468</td>\n",
       "      <td>-0.014212</td>\n",
       "      <td>0.016259</td>\n",
       "      <td>0.031984</td>\n",
       "    </tr>\n",
       "    <tr>\n",
       "      <th>2000-01-02</th>\n",
       "      <td>0.032373</td>\n",
       "      <td>-0.014669</td>\n",
       "      <td>0.007413</td>\n",
       "      <td>0.035563</td>\n",
       "      <td>-0.044525</td>\n",
       "      <td>-0.031370</td>\n",
       "      <td>0.031193</td>\n",
       "      <td>-0.028979</td>\n",
       "      <td>0.044249</td>\n",
       "      <td>-0.032793</td>\n",
       "      <td>...</td>\n",
       "      <td>0.003719</td>\n",
       "      <td>0.007442</td>\n",
       "      <td>0.026192</td>\n",
       "      <td>0.016993</td>\n",
       "      <td>0.018229</td>\n",
       "      <td>-0.032976</td>\n",
       "      <td>-0.004970</td>\n",
       "      <td>0.008953</td>\n",
       "      <td>-0.020760</td>\n",
       "      <td>0.025812</td>\n",
       "    </tr>\n",
       "    <tr>\n",
       "      <th>2000-01-03</th>\n",
       "      <td>-0.015042</td>\n",
       "      <td>-0.031432</td>\n",
       "      <td>-0.018058</td>\n",
       "      <td>-0.035290</td>\n",
       "      <td>-0.007694</td>\n",
       "      <td>-0.005616</td>\n",
       "      <td>-0.010107</td>\n",
       "      <td>-0.049436</td>\n",
       "      <td>0.033390</td>\n",
       "      <td>0.010262</td>\n",
       "      <td>...</td>\n",
       "      <td>-0.014640</td>\n",
       "      <td>0.033551</td>\n",
       "      <td>-0.042038</td>\n",
       "      <td>-0.036268</td>\n",
       "      <td>-0.033047</td>\n",
       "      <td>-0.042756</td>\n",
       "      <td>-0.035099</td>\n",
       "      <td>-0.022503</td>\n",
       "      <td>-0.038022</td>\n",
       "      <td>0.007460</td>\n",
       "    </tr>\n",
       "    <tr>\n",
       "      <th>2000-01-04</th>\n",
       "      <td>0.042674</td>\n",
       "      <td>0.027748</td>\n",
       "      <td>0.024061</td>\n",
       "      <td>0.047282</td>\n",
       "      <td>0.013558</td>\n",
       "      <td>-0.018720</td>\n",
       "      <td>0.035461</td>\n",
       "      <td>-0.018302</td>\n",
       "      <td>0.038879</td>\n",
       "      <td>0.002341</td>\n",
       "      <td>...</td>\n",
       "      <td>-0.020772</td>\n",
       "      <td>0.020344</td>\n",
       "      <td>-0.036218</td>\n",
       "      <td>-0.045622</td>\n",
       "      <td>-0.012704</td>\n",
       "      <td>0.021155</td>\n",
       "      <td>-0.004348</td>\n",
       "      <td>0.004046</td>\n",
       "      <td>-0.005093</td>\n",
       "      <td>-0.047804</td>\n",
       "    </tr>\n",
       "    <tr>\n",
       "      <th>2000-01-05</th>\n",
       "      <td>-0.044972</td>\n",
       "      <td>-0.030506</td>\n",
       "      <td>-0.001019</td>\n",
       "      <td>0.027927</td>\n",
       "      <td>0.001515</td>\n",
       "      <td>-0.022988</td>\n",
       "      <td>0.036734</td>\n",
       "      <td>0.035547</td>\n",
       "      <td>-0.018268</td>\n",
       "      <td>0.049465</td>\n",
       "      <td>...</td>\n",
       "      <td>0.025707</td>\n",
       "      <td>-0.028557</td>\n",
       "      <td>-0.030465</td>\n",
       "      <td>-0.000533</td>\n",
       "      <td>-0.037896</td>\n",
       "      <td>-0.037277</td>\n",
       "      <td>0.032265</td>\n",
       "      <td>0.013350</td>\n",
       "      <td>-0.036006</td>\n",
       "      <td>0.047599</td>\n",
       "    </tr>\n",
       "  </tbody>\n",
       "</table>\n",
       "<p>5 rows × 999 columns</p>\n",
       "</div>"
      ],
      "text/plain": [
       "                AAXJ      AAYO      ABSF      ACBP      ADIA      ADOT  \\\n",
       "2000-01-01  0.008283  0.019936  0.034291 -0.030667  0.030982  0.028384   \n",
       "2000-01-02  0.032373 -0.014669  0.007413  0.035563 -0.044525 -0.031370   \n",
       "2000-01-03 -0.015042 -0.031432 -0.018058 -0.035290 -0.007694 -0.005616   \n",
       "2000-01-04  0.042674  0.027748  0.024061  0.047282  0.013558 -0.018720   \n",
       "2000-01-05 -0.044972 -0.030506 -0.001019  0.027927  0.001515 -0.022988   \n",
       "\n",
       "                ADWA      ADZF      AEHK      AGXS    ...         ZSRH  \\\n",
       "2000-01-01  0.047911 -0.001368 -0.034942  0.008707    ...     0.035814   \n",
       "2000-01-02  0.031193 -0.028979  0.044249 -0.032793    ...     0.003719   \n",
       "2000-01-03 -0.010107 -0.049436  0.033390  0.010262    ...    -0.014640   \n",
       "2000-01-04  0.035461 -0.018302  0.038879  0.002341    ...    -0.020772   \n",
       "2000-01-05  0.036734  0.035547 -0.018268  0.049465    ...     0.025707   \n",
       "\n",
       "                ZUZA      ZVOJ      ZVUJ      ZWPK      ZXAJ      ZXDL  \\\n",
       "2000-01-01 -0.044858  0.029882  0.043596 -0.018689  0.015947  0.023468   \n",
       "2000-01-02  0.007442  0.026192  0.016993  0.018229 -0.032976 -0.004970   \n",
       "2000-01-03  0.033551 -0.042038 -0.036268 -0.033047 -0.042756 -0.035099   \n",
       "2000-01-04  0.020344 -0.036218 -0.045622 -0.012704  0.021155 -0.004348   \n",
       "2000-01-05 -0.028557 -0.030465 -0.000533 -0.037896 -0.037277  0.032265   \n",
       "\n",
       "                ZYSN      ZZFY      ZZLF  \n",
       "2000-01-01 -0.014212  0.016259  0.031984  \n",
       "2000-01-02  0.008953 -0.020760  0.025812  \n",
       "2000-01-03 -0.022503 -0.038022  0.007460  \n",
       "2000-01-04  0.004046 -0.005093 -0.047804  \n",
       "2000-01-05  0.013350 -0.036006  0.047599  \n",
       "\n",
       "[5 rows x 999 columns]"
      ]
     },
     "execution_count": 26,
     "metadata": {},
     "output_type": "execute_result"
    }
   ],
   "source": [
    "df.head() # dataframe created "
   ]
  },
  {
   "cell_type": "code",
   "execution_count": 27,
   "metadata": {
    "ExecuteTime": {
     "end_time": "2017-01-22T10:20:10.742127",
     "start_time": "2017-01-22T10:20:10.741127"
    },
    "collapsed": false
   },
   "outputs": [
    {
     "data": {
      "text/plain": [
       "(5845, 999)"
      ]
     },
     "execution_count": 27,
     "metadata": {},
     "output_type": "execute_result"
    }
   ],
   "source": [
    "df.shape # number of values = days x tickers"
   ]
  },
  {
   "cell_type": "markdown",
   "metadata": {},
   "source": [
    "## Calculation Method 1: \n",
    "We "
   ]
  },
  {
   "cell_type": "code",
   "execution_count": null,
   "metadata": {
    "collapsed": true
   },
   "outputs": [],
   "source": [
    "covs = df.rolling(window=window).cov(df[mkt], pairwise=True)\n",
    "var = df[mkt].rolling(window=window).var()\n",
    "beta = covs.div(var,axis=0)"
   ]
  }
 ],
 "metadata": {
  "kernelspec": {
   "display_name": "Python 3",
   "language": "python",
   "name": "python3"
  },
  "language_info": {
   "codemirror_mode": {
    "name": "ipython",
    "version": 3
   },
   "file_extension": ".py",
   "mimetype": "text/x-python",
   "name": "python",
   "nbconvert_exporter": "python",
   "pygments_lexer": "ipython3",
   "version": "3.5.2"
  }
 },
 "nbformat": 4,
 "nbformat_minor": 2
}
