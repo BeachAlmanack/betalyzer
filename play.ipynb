{
 "cells": [
  {
   "cell_type": "code",
   "execution_count": 223,
   "metadata": {
    "ExecuteTime": {
     "end_time": "2017-01-21T16:37:17.955443",
     "start_time": "2017-01-21T16:37:17.953443"
    },
    "collapsed": false
   },
   "outputs": [],
   "source": [
    "import Quandl\n",
    "import pandas as pd\n",
    "import numpy as np\n",
    "import datetime"
   ]
  },
  {
   "cell_type": "code",
   "execution_count": 224,
   "metadata": {
    "ExecuteTime": {
     "end_time": "2017-01-21T16:37:17.961443",
     "start_time": "2017-01-21T16:37:17.957443"
    },
    "collapsed": true
   },
   "outputs": [],
   "source": [
    "nasdaq_url = 'http://www.nasdaq.com/screening/companies-by-industry.aspx?exchange=NASDAQ&render=download'"
   ]
  },
  {
   "cell_type": "code",
   "execution_count": 225,
   "metadata": {
    "ExecuteTime": {
     "end_time": "2017-01-21T16:37:19.470744",
     "start_time": "2017-01-21T16:37:17.963444"
    },
    "collapsed": false
   },
   "outputs": [],
   "source": [
    "df_tickers = pd.read_csv(nasdaq_url)"
   ]
  },
  {
   "cell_type": "code",
   "execution_count": 226,
   "metadata": {
    "ExecuteTime": {
     "end_time": "2017-01-21T16:37:20.840121",
     "start_time": "2017-01-21T16:37:19.470744"
    },
    "collapsed": false
   },
   "outputs": [],
   "source": [
    "df_spy = Quandl.get('GOOG/NYSE_SPY', start_date='2010-01-01' , end_date=\"2005-12-31\")"
   ]
  },
  {
   "cell_type": "code",
   "execution_count": 227,
   "metadata": {
    "ExecuteTime": {
     "end_time": "2017-01-21T16:37:20.841121",
     "start_time": "2017-01-21T16:37:20.840121"
    },
    "collapsed": false
   },
   "outputs": [],
   "source": [
    "df_spy['ch'] =  df_spy['Close'].pct_change()"
   ]
  },
  {
   "cell_type": "code",
   "execution_count": 228,
   "metadata": {
    "ExecuteTime": {
     "end_time": "2017-01-21T16:37:24.288687",
     "start_time": "2017-01-21T16:37:20.841121"
    },
    "collapsed": false
   },
   "outputs": [],
   "source": [
    "df_stock = Quandl.get('WIKI/AAPL', start_date='2010-01-01', end_date=\"2005-12-31\")"
   ]
  },
  {
   "cell_type": "code",
   "execution_count": 229,
   "metadata": {
    "ExecuteTime": {
     "end_time": "2017-01-21T16:37:24.296687",
     "start_time": "2017-01-21T16:37:24.291687"
    },
    "collapsed": false
   },
   "outputs": [],
   "source": [
    "df_stock = df_stock[df_stock.index > datetime.datetime(2010,1,1)]"
   ]
  },
  {
   "cell_type": "code",
   "execution_count": 230,
   "metadata": {
    "ExecuteTime": {
     "end_time": "2017-01-21T16:37:24.387697",
     "start_time": "2017-01-21T16:37:24.298688"
    },
    "collapsed": true
   },
   "outputs": [],
   "source": [
    "df_stock['ch'] =  df_stock['Adj. Close'].pct_change()"
   ]
  },
  {
   "cell_type": "code",
   "execution_count": 231,
   "metadata": {
    "ExecuteTime": {
     "end_time": "2017-01-21T16:37:24.392697",
     "start_time": "2017-01-21T16:37:24.389697"
    },
    "collapsed": true
   },
   "outputs": [],
   "source": [
    "# beta\n",
    "risk_free = .005"
   ]
  },
  {
   "cell_type": "code",
   "execution_count": 232,
   "metadata": {
    "ExecuteTime": {
     "end_time": "2017-01-21T16:37:24.439702",
     "start_time": "2017-01-21T16:37:24.395697"
    },
    "collapsed": false
   },
   "outputs": [],
   "source": [
    "df_spy  = df_spy[df_spy.index > datetime.datetime(2010,1,1)]"
   ]
  },
  {
   "cell_type": "code",
   "execution_count": 233,
   "metadata": {
    "ExecuteTime": {
     "end_time": "2017-01-21T16:37:24.468705",
     "start_time": "2017-01-21T16:37:24.442702"
    },
    "collapsed": false
   },
   "outputs": [],
   "source": [
    "df_ch = df_stock[['ch']].join(df_spy['ch'], lsuffix='_stock').dropna()"
   ]
  },
  {
   "cell_type": "code",
   "execution_count": 234,
   "metadata": {
    "ExecuteTime": {
     "end_time": "2017-01-21T16:37:24.500708",
     "start_time": "2017-01-21T16:37:24.470705"
    },
    "collapsed": false
   },
   "outputs": [
    {
     "data": {
      "text/html": [
       "<div>\n",
       "<table border=\"1\" class=\"dataframe\">\n",
       "  <thead>\n",
       "    <tr style=\"text-align: right;\">\n",
       "      <th></th>\n",
       "      <th>ch_stock</th>\n",
       "      <th>ch</th>\n",
       "    </tr>\n",
       "    <tr>\n",
       "      <th>Date</th>\n",
       "      <th></th>\n",
       "      <th></th>\n",
       "    </tr>\n",
       "  </thead>\n",
       "  <tbody>\n",
       "    <tr>\n",
       "      <th>2010-01-05</th>\n",
       "      <td>0.001729</td>\n",
       "      <td>0.002647</td>\n",
       "    </tr>\n",
       "    <tr>\n",
       "      <th>2010-01-06</th>\n",
       "      <td>-0.015906</td>\n",
       "      <td>0.000704</td>\n",
       "    </tr>\n",
       "    <tr>\n",
       "      <th>2010-01-07</th>\n",
       "      <td>-0.001849</td>\n",
       "      <td>0.004221</td>\n",
       "    </tr>\n",
       "    <tr>\n",
       "      <th>2010-01-08</th>\n",
       "      <td>0.006648</td>\n",
       "      <td>0.003328</td>\n",
       "    </tr>\n",
       "    <tr>\n",
       "      <th>2010-01-11</th>\n",
       "      <td>-0.008822</td>\n",
       "      <td>0.001397</td>\n",
       "    </tr>\n",
       "    <tr>\n",
       "      <th>2010-01-12</th>\n",
       "      <td>-0.011375</td>\n",
       "      <td>-0.009326</td>\n",
       "    </tr>\n",
       "    <tr>\n",
       "      <th>2010-01-13</th>\n",
       "      <td>0.014106</td>\n",
       "      <td>0.008446</td>\n",
       "    </tr>\n",
       "    <tr>\n",
       "      <th>2010-01-14</th>\n",
       "      <td>-0.005792</td>\n",
       "      <td>0.002705</td>\n",
       "    </tr>\n",
       "    <tr>\n",
       "      <th>2010-01-15</th>\n",
       "      <td>-0.016712</td>\n",
       "      <td>-0.011224</td>\n",
       "    </tr>\n",
       "    <tr>\n",
       "      <th>2010-01-19</th>\n",
       "      <td>0.044238</td>\n",
       "      <td>0.012496</td>\n",
       "    </tr>\n",
       "    <tr>\n",
       "      <th>2010-01-20</th>\n",
       "      <td>-0.015416</td>\n",
       "      <td>-0.010169</td>\n",
       "    </tr>\n",
       "    <tr>\n",
       "      <th>2010-01-21</th>\n",
       "      <td>-0.017254</td>\n",
       "      <td>-0.019229</td>\n",
       "    </tr>\n",
       "    <tr>\n",
       "      <th>2010-01-22</th>\n",
       "      <td>-0.049608</td>\n",
       "      <td>-0.022292</td>\n",
       "    </tr>\n",
       "    <tr>\n",
       "      <th>2010-01-25</th>\n",
       "      <td>0.026928</td>\n",
       "      <td>0.005128</td>\n",
       "    </tr>\n",
       "    <tr>\n",
       "      <th>2010-01-26</th>\n",
       "      <td>0.014108</td>\n",
       "      <td>-0.004191</td>\n",
       "    </tr>\n",
       "    <tr>\n",
       "      <th>2010-01-27</th>\n",
       "      <td>0.009440</td>\n",
       "      <td>0.004757</td>\n",
       "    </tr>\n",
       "    <tr>\n",
       "      <th>2010-01-28</th>\n",
       "      <td>-0.041340</td>\n",
       "      <td>-0.011472</td>\n",
       "    </tr>\n",
       "    <tr>\n",
       "      <th>2010-01-29</th>\n",
       "      <td>-0.036264</td>\n",
       "      <td>-0.010869</td>\n",
       "    </tr>\n",
       "    <tr>\n",
       "      <th>2010-02-01</th>\n",
       "      <td>0.013886</td>\n",
       "      <td>0.015551</td>\n",
       "    </tr>\n",
       "    <tr>\n",
       "      <th>2010-02-02</th>\n",
       "      <td>0.005803</td>\n",
       "      <td>0.012103</td>\n",
       "    </tr>\n",
       "    <tr>\n",
       "      <th>2010-02-03</th>\n",
       "      <td>0.017206</td>\n",
       "      <td>-0.004983</td>\n",
       "    </tr>\n",
       "    <tr>\n",
       "      <th>2010-02-04</th>\n",
       "      <td>-0.036039</td>\n",
       "      <td>-0.030866</td>\n",
       "    </tr>\n",
       "    <tr>\n",
       "      <th>2010-02-05</th>\n",
       "      <td>0.017756</td>\n",
       "      <td>0.002067</td>\n",
       "    </tr>\n",
       "    <tr>\n",
       "      <th>2010-02-08</th>\n",
       "      <td>-0.006856</td>\n",
       "      <td>-0.007219</td>\n",
       "    </tr>\n",
       "    <tr>\n",
       "      <th>2010-02-09</th>\n",
       "      <td>0.010664</td>\n",
       "      <td>0.012560</td>\n",
       "    </tr>\n",
       "    <tr>\n",
       "      <th>2010-02-10</th>\n",
       "      <td>-0.005474</td>\n",
       "      <td>-0.001959</td>\n",
       "    </tr>\n",
       "    <tr>\n",
       "      <th>2010-02-11</th>\n",
       "      <td>0.018215</td>\n",
       "      <td>0.010466</td>\n",
       "    </tr>\n",
       "    <tr>\n",
       "      <th>2010-02-12</th>\n",
       "      <td>0.008607</td>\n",
       "      <td>-0.000832</td>\n",
       "    </tr>\n",
       "    <tr>\n",
       "      <th>2010-02-16</th>\n",
       "      <td>0.015071</td>\n",
       "      <td>0.015735</td>\n",
       "    </tr>\n",
       "    <tr>\n",
       "      <th>2010-02-17</th>\n",
       "      <td>-0.004179</td>\n",
       "      <td>0.004738</td>\n",
       "    </tr>\n",
       "    <tr>\n",
       "      <th>...</th>\n",
       "      <td>...</td>\n",
       "      <td>...</td>\n",
       "    </tr>\n",
       "    <tr>\n",
       "      <th>2016-12-06</th>\n",
       "      <td>0.007516</td>\n",
       "      <td>0.003167</td>\n",
       "    </tr>\n",
       "    <tr>\n",
       "      <th>2016-12-07</th>\n",
       "      <td>0.010098</td>\n",
       "      <td>0.013081</td>\n",
       "    </tr>\n",
       "    <tr>\n",
       "      <th>2016-12-08</th>\n",
       "      <td>0.009630</td>\n",
       "      <td>0.002449</td>\n",
       "    </tr>\n",
       "    <tr>\n",
       "      <th>2016-12-09</th>\n",
       "      <td>0.015663</td>\n",
       "      <td>0.006040</td>\n",
       "    </tr>\n",
       "    <tr>\n",
       "      <th>2016-12-12</th>\n",
       "      <td>-0.004875</td>\n",
       "      <td>-0.001148</td>\n",
       "    </tr>\n",
       "    <tr>\n",
       "      <th>2016-12-13</th>\n",
       "      <td>0.016726</td>\n",
       "      <td>0.006674</td>\n",
       "    </tr>\n",
       "    <tr>\n",
       "      <th>2016-12-14</th>\n",
       "      <td>-0.000043</td>\n",
       "      <td>-0.008254</td>\n",
       "    </tr>\n",
       "    <tr>\n",
       "      <th>2016-12-15</th>\n",
       "      <td>0.005469</td>\n",
       "      <td>0.004117</td>\n",
       "    </tr>\n",
       "    <tr>\n",
       "      <th>2016-12-16</th>\n",
       "      <td>0.001122</td>\n",
       "      <td>-0.007804</td>\n",
       "    </tr>\n",
       "    <tr>\n",
       "      <th>2016-12-19</th>\n",
       "      <td>0.005908</td>\n",
       "      <td>0.002177</td>\n",
       "    </tr>\n",
       "    <tr>\n",
       "      <th>2016-12-20</th>\n",
       "      <td>0.002529</td>\n",
       "      <td>0.003858</td>\n",
       "    </tr>\n",
       "    <tr>\n",
       "      <th>2016-12-21</th>\n",
       "      <td>0.001112</td>\n",
       "      <td>-0.002783</td>\n",
       "    </tr>\n",
       "    <tr>\n",
       "      <th>2016-12-22</th>\n",
       "      <td>-0.007176</td>\n",
       "      <td>-0.001727</td>\n",
       "    </tr>\n",
       "    <tr>\n",
       "      <th>2016-12-23</th>\n",
       "      <td>0.002581</td>\n",
       "      <td>0.001464</td>\n",
       "    </tr>\n",
       "    <tr>\n",
       "      <th>2016-12-27</th>\n",
       "      <td>0.006265</td>\n",
       "      <td>0.002481</td>\n",
       "    </tr>\n",
       "    <tr>\n",
       "      <th>2016-12-28</th>\n",
       "      <td>-0.004179</td>\n",
       "      <td>-0.008264</td>\n",
       "    </tr>\n",
       "    <tr>\n",
       "      <th>2016-12-29</th>\n",
       "      <td>-0.000257</td>\n",
       "      <td>-0.000223</td>\n",
       "    </tr>\n",
       "    <tr>\n",
       "      <th>2016-12-30</th>\n",
       "      <td>-0.007539</td>\n",
       "      <td>-0.003655</td>\n",
       "    </tr>\n",
       "    <tr>\n",
       "      <th>2017-01-03</th>\n",
       "      <td>0.001813</td>\n",
       "      <td>0.007650</td>\n",
       "    </tr>\n",
       "    <tr>\n",
       "      <th>2017-01-04</th>\n",
       "      <td>-0.000345</td>\n",
       "      <td>0.005949</td>\n",
       "    </tr>\n",
       "    <tr>\n",
       "      <th>2017-01-05</th>\n",
       "      <td>0.005258</td>\n",
       "      <td>-0.000794</td>\n",
       "    </tr>\n",
       "    <tr>\n",
       "      <th>2017-01-06</th>\n",
       "      <td>0.010975</td>\n",
       "      <td>0.003578</td>\n",
       "    </tr>\n",
       "    <tr>\n",
       "      <th>2017-01-09</th>\n",
       "      <td>0.009075</td>\n",
       "      <td>-0.003301</td>\n",
       "    </tr>\n",
       "    <tr>\n",
       "      <th>2017-01-10</th>\n",
       "      <td>0.001093</td>\n",
       "      <td>0.000000</td>\n",
       "    </tr>\n",
       "    <tr>\n",
       "      <th>2017-01-11</th>\n",
       "      <td>0.005373</td>\n",
       "      <td>0.002826</td>\n",
       "    </tr>\n",
       "    <tr>\n",
       "      <th>2017-01-12</th>\n",
       "      <td>-0.004175</td>\n",
       "      <td>-0.002510</td>\n",
       "    </tr>\n",
       "    <tr>\n",
       "      <th>2017-01-13</th>\n",
       "      <td>-0.001929</td>\n",
       "      <td>0.002296</td>\n",
       "    </tr>\n",
       "    <tr>\n",
       "      <th>2017-01-17</th>\n",
       "      <td>0.008024</td>\n",
       "      <td>-0.003523</td>\n",
       "    </tr>\n",
       "    <tr>\n",
       "      <th>2017-01-18</th>\n",
       "      <td>0.000125</td>\n",
       "      <td>0.002210</td>\n",
       "    </tr>\n",
       "    <tr>\n",
       "      <th>2017-01-19</th>\n",
       "      <td>-0.001750</td>\n",
       "      <td>-0.003705</td>\n",
       "    </tr>\n",
       "  </tbody>\n",
       "</table>\n",
       "<p>1772 rows × 2 columns</p>\n",
       "</div>"
      ],
      "text/plain": [
       "            ch_stock        ch\n",
       "Date                          \n",
       "2010-01-05  0.001729  0.002647\n",
       "2010-01-06 -0.015906  0.000704\n",
       "2010-01-07 -0.001849  0.004221\n",
       "2010-01-08  0.006648  0.003328\n",
       "2010-01-11 -0.008822  0.001397\n",
       "2010-01-12 -0.011375 -0.009326\n",
       "2010-01-13  0.014106  0.008446\n",
       "2010-01-14 -0.005792  0.002705\n",
       "2010-01-15 -0.016712 -0.011224\n",
       "2010-01-19  0.044238  0.012496\n",
       "2010-01-20 -0.015416 -0.010169\n",
       "2010-01-21 -0.017254 -0.019229\n",
       "2010-01-22 -0.049608 -0.022292\n",
       "2010-01-25  0.026928  0.005128\n",
       "2010-01-26  0.014108 -0.004191\n",
       "2010-01-27  0.009440  0.004757\n",
       "2010-01-28 -0.041340 -0.011472\n",
       "2010-01-29 -0.036264 -0.010869\n",
       "2010-02-01  0.013886  0.015551\n",
       "2010-02-02  0.005803  0.012103\n",
       "2010-02-03  0.017206 -0.004983\n",
       "2010-02-04 -0.036039 -0.030866\n",
       "2010-02-05  0.017756  0.002067\n",
       "2010-02-08 -0.006856 -0.007219\n",
       "2010-02-09  0.010664  0.012560\n",
       "2010-02-10 -0.005474 -0.001959\n",
       "2010-02-11  0.018215  0.010466\n",
       "2010-02-12  0.008607 -0.000832\n",
       "2010-02-16  0.015071  0.015735\n",
       "2010-02-17 -0.004179  0.004738\n",
       "...              ...       ...\n",
       "2016-12-06  0.007516  0.003167\n",
       "2016-12-07  0.010098  0.013081\n",
       "2016-12-08  0.009630  0.002449\n",
       "2016-12-09  0.015663  0.006040\n",
       "2016-12-12 -0.004875 -0.001148\n",
       "2016-12-13  0.016726  0.006674\n",
       "2016-12-14 -0.000043 -0.008254\n",
       "2016-12-15  0.005469  0.004117\n",
       "2016-12-16  0.001122 -0.007804\n",
       "2016-12-19  0.005908  0.002177\n",
       "2016-12-20  0.002529  0.003858\n",
       "2016-12-21  0.001112 -0.002783\n",
       "2016-12-22 -0.007176 -0.001727\n",
       "2016-12-23  0.002581  0.001464\n",
       "2016-12-27  0.006265  0.002481\n",
       "2016-12-28 -0.004179 -0.008264\n",
       "2016-12-29 -0.000257 -0.000223\n",
       "2016-12-30 -0.007539 -0.003655\n",
       "2017-01-03  0.001813  0.007650\n",
       "2017-01-04 -0.000345  0.005949\n",
       "2017-01-05  0.005258 -0.000794\n",
       "2017-01-06  0.010975  0.003578\n",
       "2017-01-09  0.009075 -0.003301\n",
       "2017-01-10  0.001093  0.000000\n",
       "2017-01-11  0.005373  0.002826\n",
       "2017-01-12 -0.004175 -0.002510\n",
       "2017-01-13 -0.001929  0.002296\n",
       "2017-01-17  0.008024 -0.003523\n",
       "2017-01-18  0.000125  0.002210\n",
       "2017-01-19 -0.001750 -0.003705\n",
       "\n",
       "[1772 rows x 2 columns]"
      ]
     },
     "execution_count": 234,
     "metadata": {},
     "output_type": "execute_result"
    }
   ],
   "source": [
    "df_ch"
   ]
  },
  {
   "cell_type": "code",
   "execution_count": 235,
   "metadata": {
    "ExecuteTime": {
     "end_time": "2017-01-21T16:37:24.510709",
     "start_time": "2017-01-21T16:37:24.502708"
    },
    "collapsed": false
   },
   "outputs": [],
   "source": [
    "beta = np.cov(df_ch.T) / np.var(df_ch['ch'])"
   ]
  },
  {
   "cell_type": "code",
   "execution_count": 236,
   "metadata": {
    "ExecuteTime": {
     "end_time": "2017-01-21T16:37:24.522710",
     "start_time": "2017-01-21T16:37:24.514709"
    },
    "collapsed": false
   },
   "outputs": [
    {
     "data": {
      "text/plain": [
       "array([[  2.70878862e-04,   8.93441095e-05],\n",
       "       [  8.93441095e-05,   9.45741213e-05]])"
      ]
     },
     "execution_count": 236,
     "metadata": {},
     "output_type": "execute_result"
    }
   ],
   "source": [
    "np.cov(df_ch['ch_stock'], df_ch['ch'])"
   ]
  },
  {
   "cell_type": "code",
   "execution_count": 237,
   "metadata": {
    "ExecuteTime": {
     "end_time": "2017-01-21T16:37:24.536711",
     "start_time": "2017-01-21T16:37:24.527711"
    },
    "collapsed": false
   },
   "outputs": [
    {
     "data": {
      "text/plain": [
       "array([[  2.70878862e-04,   8.93441095e-05],\n",
       "       [  8.93441095e-05,   9.45741213e-05]])"
      ]
     },
     "execution_count": 237,
     "metadata": {},
     "output_type": "execute_result"
    }
   ],
   "source": [
    "np.cov(df_ch.T)"
   ]
  },
  {
   "cell_type": "code",
   "execution_count": 238,
   "metadata": {
    "ExecuteTime": {
     "end_time": "2017-01-21T16:37:24.549713",
     "start_time": "2017-01-21T16:37:24.538712"
    },
    "collapsed": false
   },
   "outputs": [
    {
     "data": {
      "text/plain": [
       "0.94523276203615203"
      ]
     },
     "execution_count": 238,
     "metadata": {},
     "output_type": "execute_result"
    }
   ],
   "source": [
    "beta[0][1]"
   ]
  },
  {
   "cell_type": "code",
   "execution_count": 239,
   "metadata": {
    "ExecuteTime": {
     "end_time": "2017-01-21T16:37:24.561714",
     "start_time": "2017-01-21T16:37:24.551713"
    },
    "collapsed": false
   },
   "outputs": [],
   "source": [
    "idx = pd.date_range(start='01-01-2010', end='01-01-2016')\n",
    "tickers = df_tickers['Symbol'].tolist()[:10]\n",
    "dt = {t: np.random.uniform(-.05, .05, len(idx)) for t in tickers}"
   ]
  },
  {
   "cell_type": "code",
   "execution_count": 240,
   "metadata": {
    "ExecuteTime": {
     "end_time": "2017-01-21T16:37:24.573715",
     "start_time": "2017-01-21T16:37:24.563714"
    },
    "collapsed": false
   },
   "outputs": [],
   "source": [
    "df = pd.DataFrame(data=dt, index=idx)"
   ]
  },
  {
   "cell_type": "code",
   "execution_count": 241,
   "metadata": {
    "ExecuteTime": {
     "end_time": "2017-01-21T16:37:24.590717",
     "start_time": "2017-01-21T16:37:24.575715"
    },
    "collapsed": false
   },
   "outputs": [
    {
     "data": {
      "text/plain": [
       "['PIH', 'FLWS', 'FCCY', 'SRCE', 'VNET', 'TWOU', 'JOBS', 'CAFD', 'EGHT', 'AVHI']"
      ]
     },
     "execution_count": 241,
     "metadata": {},
     "output_type": "execute_result"
    }
   ],
   "source": [
    "tickers"
   ]
  },
  {
   "cell_type": "code",
   "execution_count": 242,
   "metadata": {
    "ExecuteTime": {
     "end_time": "2017-01-21T16:37:24.600718",
     "start_time": "2017-01-21T16:37:24.595717"
    },
    "collapsed": true
   },
   "outputs": [],
   "source": [
    "mkt = 'AVHI'\n",
    "window = 200"
   ]
  },
  {
   "cell_type": "code",
   "execution_count": 243,
   "metadata": {
    "ExecuteTime": {
     "end_time": "2017-01-21T16:37:27.877480",
     "start_time": "2017-01-21T16:37:24.602718"
    },
    "collapsed": false
   },
   "outputs": [
    {
     "name": "stdout",
     "output_type": "stream",
     "text": [
      "1000 loops, best of 3: 764 µs per loop\n"
     ]
    }
   ],
   "source": [
    "%timeit df.loc[(df.index < '2013-10-16') & (df.index > '2014-10-16')]"
   ]
  },
  {
   "cell_type": "code",
   "execution_count": 244,
   "metadata": {
    "ExecuteTime": {
     "end_time": "2017-01-21T16:37:27.904483",
     "start_time": "2017-01-21T16:37:27.880480"
    },
    "collapsed": false
   },
   "outputs": [
    {
     "ename": "KeyError",
     "evalue": "\"['stock'] not in index\"",
     "output_type": "error",
     "traceback": [
      "\u001b[0;31m---------------------------------------------------------------------------\u001b[0m",
      "\u001b[0;31mKeyError\u001b[0m                                  Traceback (most recent call last)",
      "\u001b[0;32m<ipython-input-244-113a7fe41445>\u001b[0m in \u001b[0;36m<module>\u001b[0;34m()\u001b[0m\n\u001b[1;32m      1\u001b[0m \u001b[1;33m\u001b[0m\u001b[0m\n\u001b[0;32m----> 2\u001b[0;31m \u001b[0mdf\u001b[0m\u001b[1;33m.\u001b[0m\u001b[0mloc\u001b[0m\u001b[1;33m[\u001b[0m\u001b[1;33m(\u001b[0m\u001b[0mdf\u001b[0m\u001b[1;33m.\u001b[0m\u001b[0mindex\u001b[0m \u001b[1;33m<\u001b[0m \u001b[0mdate\u001b[0m\u001b[1;33m)\u001b[0m \u001b[1;33m&\u001b[0m \u001b[1;33m(\u001b[0m\u001b[0mdf\u001b[0m\u001b[1;33m.\u001b[0m\u001b[0mindex\u001b[0m \u001b[1;33m>\u001b[0m \u001b[0mdate\u001b[0m \u001b[1;33m+\u001b[0m \u001b[0mdatetime\u001b[0m\u001b[1;33m.\u001b[0m\u001b[0mtimedelta\u001b[0m\u001b[1;33m(\u001b[0m\u001b[0mdays\u001b[0m\u001b[1;33m=\u001b[0m\u001b[0mdelta\u001b[0m\u001b[1;33m)\u001b[0m\u001b[1;33m)\u001b[0m\u001b[1;33m]\u001b[0m\u001b[1;33m[\u001b[0m\u001b[1;33m[\u001b[0m\u001b[1;34m'stock'\u001b[0m\u001b[1;33m,\u001b[0m \u001b[0mmkt\u001b[0m\u001b[1;33m]\u001b[0m\u001b[1;33m]\u001b[0m\u001b[1;33m\u001b[0m\u001b[0m\n\u001b[0m",
      "\u001b[0;32mC:\\Anaconda3\\lib\\site-packages\\pandas\\core\\frame.py\u001b[0m in \u001b[0;36m__getitem__\u001b[0;34m(self, key)\u001b[0m\n\u001b[1;32m   2051\u001b[0m         \u001b[1;32mif\u001b[0m \u001b[0misinstance\u001b[0m\u001b[1;33m(\u001b[0m\u001b[0mkey\u001b[0m\u001b[1;33m,\u001b[0m \u001b[1;33m(\u001b[0m\u001b[0mSeries\u001b[0m\u001b[1;33m,\u001b[0m \u001b[0mnp\u001b[0m\u001b[1;33m.\u001b[0m\u001b[0mndarray\u001b[0m\u001b[1;33m,\u001b[0m \u001b[0mIndex\u001b[0m\u001b[1;33m,\u001b[0m \u001b[0mlist\u001b[0m\u001b[1;33m)\u001b[0m\u001b[1;33m)\u001b[0m\u001b[1;33m:\u001b[0m\u001b[1;33m\u001b[0m\u001b[0m\n\u001b[1;32m   2052\u001b[0m             \u001b[1;31m# either boolean or fancy integer index\u001b[0m\u001b[1;33m\u001b[0m\u001b[1;33m\u001b[0m\u001b[0m\n\u001b[0;32m-> 2053\u001b[0;31m             \u001b[1;32mreturn\u001b[0m \u001b[0mself\u001b[0m\u001b[1;33m.\u001b[0m\u001b[0m_getitem_array\u001b[0m\u001b[1;33m(\u001b[0m\u001b[0mkey\u001b[0m\u001b[1;33m)\u001b[0m\u001b[1;33m\u001b[0m\u001b[0m\n\u001b[0m\u001b[1;32m   2054\u001b[0m         \u001b[1;32melif\u001b[0m \u001b[0misinstance\u001b[0m\u001b[1;33m(\u001b[0m\u001b[0mkey\u001b[0m\u001b[1;33m,\u001b[0m \u001b[0mDataFrame\u001b[0m\u001b[1;33m)\u001b[0m\u001b[1;33m:\u001b[0m\u001b[1;33m\u001b[0m\u001b[0m\n\u001b[1;32m   2055\u001b[0m             \u001b[1;32mreturn\u001b[0m \u001b[0mself\u001b[0m\u001b[1;33m.\u001b[0m\u001b[0m_getitem_frame\u001b[0m\u001b[1;33m(\u001b[0m\u001b[0mkey\u001b[0m\u001b[1;33m)\u001b[0m\u001b[1;33m\u001b[0m\u001b[0m\n",
      "\u001b[0;32mC:\\Anaconda3\\lib\\site-packages\\pandas\\core\\frame.py\u001b[0m in \u001b[0;36m_getitem_array\u001b[0;34m(self, key)\u001b[0m\n\u001b[1;32m   2095\u001b[0m             \u001b[1;32mreturn\u001b[0m \u001b[0mself\u001b[0m\u001b[1;33m.\u001b[0m\u001b[0mtake\u001b[0m\u001b[1;33m(\u001b[0m\u001b[0mindexer\u001b[0m\u001b[1;33m,\u001b[0m \u001b[0maxis\u001b[0m\u001b[1;33m=\u001b[0m\u001b[1;36m0\u001b[0m\u001b[1;33m,\u001b[0m \u001b[0mconvert\u001b[0m\u001b[1;33m=\u001b[0m\u001b[1;32mFalse\u001b[0m\u001b[1;33m)\u001b[0m\u001b[1;33m\u001b[0m\u001b[0m\n\u001b[1;32m   2096\u001b[0m         \u001b[1;32melse\u001b[0m\u001b[1;33m:\u001b[0m\u001b[1;33m\u001b[0m\u001b[0m\n\u001b[0;32m-> 2097\u001b[0;31m             \u001b[0mindexer\u001b[0m \u001b[1;33m=\u001b[0m \u001b[0mself\u001b[0m\u001b[1;33m.\u001b[0m\u001b[0mix\u001b[0m\u001b[1;33m.\u001b[0m\u001b[0m_convert_to_indexer\u001b[0m\u001b[1;33m(\u001b[0m\u001b[0mkey\u001b[0m\u001b[1;33m,\u001b[0m \u001b[0maxis\u001b[0m\u001b[1;33m=\u001b[0m\u001b[1;36m1\u001b[0m\u001b[1;33m)\u001b[0m\u001b[1;33m\u001b[0m\u001b[0m\n\u001b[0m\u001b[1;32m   2098\u001b[0m             \u001b[1;32mreturn\u001b[0m \u001b[0mself\u001b[0m\u001b[1;33m.\u001b[0m\u001b[0mtake\u001b[0m\u001b[1;33m(\u001b[0m\u001b[0mindexer\u001b[0m\u001b[1;33m,\u001b[0m \u001b[0maxis\u001b[0m\u001b[1;33m=\u001b[0m\u001b[1;36m1\u001b[0m\u001b[1;33m,\u001b[0m \u001b[0mconvert\u001b[0m\u001b[1;33m=\u001b[0m\u001b[1;32mTrue\u001b[0m\u001b[1;33m)\u001b[0m\u001b[1;33m\u001b[0m\u001b[0m\n\u001b[1;32m   2099\u001b[0m \u001b[1;33m\u001b[0m\u001b[0m\n",
      "\u001b[0;32mC:\\Anaconda3\\lib\\site-packages\\pandas\\core\\indexing.py\u001b[0m in \u001b[0;36m_convert_to_indexer\u001b[0;34m(self, obj, axis, is_setter)\u001b[0m\n\u001b[1;32m   1228\u001b[0m                 \u001b[0mmask\u001b[0m \u001b[1;33m=\u001b[0m \u001b[0mcheck\u001b[0m \u001b[1;33m==\u001b[0m \u001b[1;33m-\u001b[0m\u001b[1;36m1\u001b[0m\u001b[1;33m\u001b[0m\u001b[0m\n\u001b[1;32m   1229\u001b[0m                 \u001b[1;32mif\u001b[0m \u001b[0mmask\u001b[0m\u001b[1;33m.\u001b[0m\u001b[0many\u001b[0m\u001b[1;33m(\u001b[0m\u001b[1;33m)\u001b[0m\u001b[1;33m:\u001b[0m\u001b[1;33m\u001b[0m\u001b[0m\n\u001b[0;32m-> 1230\u001b[0;31m                     \u001b[1;32mraise\u001b[0m \u001b[0mKeyError\u001b[0m\u001b[1;33m(\u001b[0m\u001b[1;34m'%s not in index'\u001b[0m \u001b[1;33m%\u001b[0m \u001b[0mobjarr\u001b[0m\u001b[1;33m[\u001b[0m\u001b[0mmask\u001b[0m\u001b[1;33m]\u001b[0m\u001b[1;33m)\u001b[0m\u001b[1;33m\u001b[0m\u001b[0m\n\u001b[0m\u001b[1;32m   1231\u001b[0m \u001b[1;33m\u001b[0m\u001b[0m\n\u001b[1;32m   1232\u001b[0m                 \u001b[1;32mreturn\u001b[0m \u001b[0m_values_from_object\u001b[0m\u001b[1;33m(\u001b[0m\u001b[0mindexer\u001b[0m\u001b[1;33m)\u001b[0m\u001b[1;33m\u001b[0m\u001b[0m\n",
      "\u001b[0;31mKeyError\u001b[0m: \"['stock'] not in index\""
     ]
    }
   ],
   "source": [
    "\n",
    "df.loc[(df.index < date) & (df.index > date + datetime.timedelta(days=delta))][['stock', mkt]]"
   ]
  },
  {
   "cell_type": "code",
   "execution_count": null,
   "metadata": {
    "ExecuteTime": {
     "end_time": "2017-01-21T16:37:27.904483",
     "start_time": "2017-01-21T21:37:17.990Z"
    },
    "collapsed": true
   },
   "outputs": [],
   "source": [
    "start_date = datetime.datetime(2010,1,1)"
   ]
  },
  {
   "cell_type": "code",
   "execution_count": null,
   "metadata": {
    "ExecuteTime": {
     "end_time": "2017-01-21T16:37:27.905483",
     "start_time": "2017-01-21T21:37:17.992Z"
    },
    "collapsed": false
   },
   "outputs": [],
   "source": [
    "start_date + datetime.timedelta(days=-1)"
   ]
  },
  {
   "cell_type": "code",
   "execution_count": null,
   "metadata": {
    "ExecuteTime": {
     "end_time": "2017-01-21T16:37:27.905483",
     "start_time": "2017-01-21T21:37:17.993Z"
    },
    "collapsed": true
   },
   "outputs": [],
   "source": [
    "df_test = df[200:400]"
   ]
  },
  {
   "cell_type": "code",
   "execution_count": null,
   "metadata": {
    "ExecuteTime": {
     "end_time": "2017-01-21T16:37:27.906483",
     "start_time": "2017-01-21T21:37:17.996Z"
    },
    "collapsed": false
   },
   "outputs": [],
   "source": [
    "date = datetime.datetime(2013,1,1)\n",
    "delta = 200"
   ]
  },
  {
   "cell_type": "code",
   "execution_count": null,
   "metadata": {
    "ExecuteTime": {
     "end_time": "2017-01-21T16:37:27.906483",
     "start_time": "2017-01-21T21:37:18.000Z"
    },
    "collapsed": false
   },
   "outputs": [],
   "source": [
    "start = date + datetime.timedelta(days=-delta)"
   ]
  },
  {
   "cell_type": "code",
   "execution_count": null,
   "metadata": {
    "ExecuteTime": {
     "end_time": "2017-01-21T16:37:27.906483",
     "start_time": "2017-01-21T21:37:18.003Z"
    },
    "collapsed": false
   },
   "outputs": [],
   "source": [
    "%timeit data = df.loc[(df.index < date) & (df.index > start)][[stock, mkt]]"
   ]
  },
  {
   "cell_type": "code",
   "execution_count": null,
   "metadata": {
    "ExecuteTime": {
     "end_time": "2017-01-21T16:37:27.909483",
     "start_time": "2017-01-21T21:37:18.005Z"
    },
    "collapsed": false
   },
   "outputs": [],
   "source": [
    "%timeit cov = np.cov(data)[0][1]"
   ]
  },
  {
   "cell_type": "code",
   "execution_count": null,
   "metadata": {
    "ExecuteTime": {
     "end_time": "2017-01-21T16:37:27.910483",
     "start_time": "2017-01-21T21:37:18.006Z"
    },
    "collapsed": false
   },
   "outputs": [],
   "source": [
    "def historical_beta(date, var, stock, delta):\n",
    "    # return 1\n",
    "    start = date + datetime.timedelta(days=-delta)\n",
    "    if (start < start_date): return np.nan\n",
    "    cov = np.cov(df.loc[(df.index < date) & (df.index > start)][[stock, mkt]])[0][1]\n",
    "    beta = cov / var\n",
    "    return beta"
   ]
  },
  {
   "cell_type": "code",
   "execution_count": null,
   "metadata": {
    "ExecuteTime": {
     "end_time": "2017-01-21T16:37:27.910483",
     "start_time": "2017-01-21T21:37:18.021Z"
    },
    "collapsed": false
   },
   "outputs": [],
   "source": [
    "df"
   ]
  },
  {
   "cell_type": "code",
   "execution_count": null,
   "metadata": {
    "ExecuteTime": {
     "end_time": "2017-01-21T16:37:27.911483",
     "start_time": "2017-01-21T21:37:18.023Z"
    },
    "collapsed": false
   },
   "outputs": [],
   "source": [
    "covs = df[['AVHI','CAFD']].rolling(window=50).cov(df[['VNET']], pairwise=True)"
   ]
  },
  {
   "cell_type": "code",
   "execution_count": null,
   "metadata": {
    "ExecuteTime": {
     "end_time": "2017-01-21T16:37:27.914484",
     "start_time": "2017-01-21T21:37:18.026Z"
    },
    "collapsed": false
   },
   "outputs": [],
   "source": [
    "covs = covs[:,:,'VNET'].T"
   ]
  },
  {
   "cell_type": "code",
   "execution_count": null,
   "metadata": {
    "ExecuteTime": {
     "end_time": "2017-01-21T16:37:27.915484",
     "start_time": "2017-01-21T21:37:18.027Z"
    },
    "collapsed": true
   },
   "outputs": [],
   "source": [
    "var = df['VNET'].rolling(window=50).var()"
   ]
  },
  {
   "cell_type": "code",
   "execution_count": null,
   "metadata": {
    "ExecuteTime": {
     "end_time": "2017-01-21T16:37:27.919484",
     "start_time": "2017-01-21T21:37:18.029Z"
    },
    "collapsed": false
   },
   "outputs": [],
   "source": [
    "beta = covs.div(var,axis=0)"
   ]
  },
  {
   "cell_type": "code",
   "execution_count": null,
   "metadata": {
    "ExecuteTime": {
     "end_time": "2017-01-21T16:37:27.922485",
     "start_time": "2017-01-21T21:37:18.034Z"
    },
    "collapsed": false
   },
   "outputs": [],
   "source": [
    "beta"
   ]
  },
  {
   "cell_type": "code",
   "execution_count": null,
   "metadata": {
    "ExecuteTime": {
     "end_time": "2017-01-21T16:37:27.923485",
     "start_time": "2017-01-21T21:37:18.037Z"
    },
    "collapsed": false
   },
   "outputs": [],
   "source": [
    "covs.loc['2011-01-01']"
   ]
  },
  {
   "cell_type": "code",
   "execution_count": null,
   "metadata": {
    "ExecuteTime": {
     "end_time": "2017-01-21T16:37:27.923485",
     "start_time": "2017-01-21T21:37:18.042Z"
    },
    "collapsed": false
   },
   "outputs": [],
   "source": [
    "covs"
   ]
  },
  {
   "cell_type": "code",
   "execution_count": null,
   "metadata": {
    "ExecuteTime": {
     "end_time": "2017-01-20T16:42:46.443400",
     "start_time": "2017-01-20T16:42:46.418400"
    },
    "collapsed": false
   },
   "outputs": [],
   "source": []
  },
  {
   "cell_type": "code",
   "execution_count": null,
   "metadata": {
    "ExecuteTime": {
     "end_time": "2017-01-21T16:37:27.924485",
     "start_time": "2017-01-21T21:37:18.050Z"
    },
    "collapsed": true
   },
   "outputs": [],
   "source": [
    "for i in range(0, len(arr)- delta): \n",
    "    arr[i:i+delta]"
   ]
  },
  {
   "cell_type": "code",
   "execution_count": null,
   "metadata": {
    "ExecuteTime": {
     "end_time": "2017-01-21T16:37:27.925485",
     "start_time": "2017-01-21T21:37:18.054Z"
    },
    "collapsed": false
   },
   "outputs": [],
   "source": [
    "%timeit for i in range(0, len(arr)- delta): arr[i:i+delta]"
   ]
  },
  {
   "cell_type": "code",
   "execution_count": null,
   "metadata": {
    "ExecuteTime": {
     "end_time": "2017-01-21T16:37:27.925485",
     "start_time": "2017-01-21T21:37:18.056Z"
    },
    "collapsed": false
   },
   "outputs": [],
   "source": [
    "arr = np.array(df['PIH'])"
   ]
  },
  {
   "cell_type": "code",
   "execution_count": null,
   "metadata": {
    "ExecuteTime": {
     "end_time": "2017-01-21T16:37:27.926485",
     "start_time": "2017-01-21T21:37:18.058Z"
    },
    "collapsed": false
   },
   "outputs": [],
   "source": [
    "%timeit np.array(df['PIH'])"
   ]
  },
  {
   "cell_type": "code",
   "execution_count": null,
   "metadata": {
    "ExecuteTime": {
     "end_time": "2017-01-21T16:37:27.926485",
     "start_time": "2017-01-21T21:37:18.060Z"
    },
    "collapsed": false
   },
   "outputs": [],
   "source": [
    "delta = 200\n",
    "%timeit for i in range(0, len(df)- delta): len(df[i:i+delta])"
   ]
  },
  {
   "cell_type": "code",
   "execution_count": null,
   "metadata": {
    "ExecuteTime": {
     "end_time": "2017-01-21T16:37:27.926485",
     "start_time": "2017-01-21T21:37:18.062Z"
    },
    "collapsed": true
   },
   "outputs": [],
   "source": [
    "def beta(stock, market):\n",
    "    return np.cov(stock, market)[0][1] / np.var(stock)"
   ]
  },
  {
   "cell_type": "code",
   "execution_count": null,
   "metadata": {
    "ExecuteTime": {
     "end_time": "2017-01-21T16:37:27.927485",
     "start_time": "2017-01-21T21:37:18.064Z"
    },
    "collapsed": false
   },
   "outputs": [],
   "source": [
    "%timeit df['mkt_std'] = df[mkt].rolling(window=window).std()"
   ]
  },
  {
   "cell_type": "code",
   "execution_count": null,
   "metadata": {
    "ExecuteTime": {
     "end_time": "2017-01-21T16:37:27.927485",
     "start_time": "2017-01-21T21:37:18.065Z"
    },
    "collapsed": false
   },
   "outputs": [],
   "source": [
    "# df['mkt_std']"
   ]
  },
  {
   "cell_type": "code",
   "execution_count": null,
   "metadata": {
    "ExecuteTime": {
     "end_time": "2017-01-21T16:37:27.928485",
     "start_time": "2017-01-21T21:37:18.067Z"
    },
    "collapsed": true
   },
   "outputs": [],
   "source": [
    "stock = 'PIH'"
   ]
  },
  {
   "cell_type": "code",
   "execution_count": null,
   "metadata": {
    "ExecuteTime": {
     "end_time": "2017-01-21T16:37:27.928485",
     "start_time": "2017-01-21T21:37:18.070Z"
    },
    "collapsed": true
   },
   "outputs": [],
   "source": [
    "df['date'] = df.index"
   ]
  },
  {
   "cell_type": "code",
   "execution_count": null,
   "metadata": {
    "ExecuteTime": {
     "end_time": "2017-01-21T16:37:27.929485",
     "start_time": "2017-01-21T21:37:18.072Z"
    },
    "collapsed": false
   },
   "outputs": [],
   "source": [
    "%timeit df[stock+'_beta'] = df.apply(lambda x: historical_beta(x.date, var=x.mkt_std, stock=stock, delta=200), axis=1)"
   ]
  },
  {
   "cell_type": "code",
   "execution_count": null,
   "metadata": {
    "ExecuteTime": {
     "end_time": "2017-01-21T16:37:27.929485",
     "start_time": "2017-01-21T21:37:18.074Z"
    },
    "collapsed": false
   },
   "outputs": [],
   "source": [
    "df[stock+'_beta']"
   ]
  },
  {
   "cell_type": "code",
   "execution_count": null,
   "metadata": {
    "ExecuteTime": {
     "end_time": "2017-01-21T16:37:27.929485",
     "start_time": "2017-01-21T21:37:18.077Z"
    },
    "collapsed": false
   },
   "outputs": [],
   "source": [
    "df.rolling(window=200).apply(lambda x: beta(x['AVHI'], x['JOBS']))"
   ]
  },
  {
   "cell_type": "code",
   "execution_count": null,
   "metadata": {
    "ExecuteTime": {
     "end_time": "2017-01-21T16:37:27.930485",
     "start_time": "2017-01-21T21:37:18.080Z"
    },
    "collapsed": false
   },
   "outputs": [],
   "source": [
    "# df.rolling(window=200).apply(beta)"
   ]
  },
  {
   "cell_type": "code",
   "execution_count": null,
   "metadata": {
    "ExecuteTime": {
     "end_time": "2017-01-21T16:37:27.930485",
     "start_time": "2017-01-21T21:37:18.082Z"
    },
    "collapsed": true
   },
   "outputs": [],
   "source": [
    "# credit: http://stackoverflow.com/questions/37447347/dataframe-representation-of-a-rolling-window/37448165#37448165\n"
   ]
  },
  {
   "cell_type": "code",
   "execution_count": null,
   "metadata": {
    "ExecuteTime": {
     "end_time": "2017-01-21T16:37:27.930485",
     "start_time": "2017-01-21T21:37:18.083Z"
    },
    "collapsed": true
   },
   "outputs": [],
   "source": [
    "from bokeh.charts import Area, Line, show, output_notebook"
   ]
  },
  {
   "cell_type": "code",
   "execution_count": null,
   "metadata": {
    "ExecuteTime": {
     "end_time": "2017-01-21T16:37:27.931485",
     "start_time": "2017-01-21T21:37:18.085Z"
    },
    "collapsed": false
   },
   "outputs": [],
   "source": [
    "output_notebook()"
   ]
  },
  {
   "cell_type": "code",
   "execution_count": null,
   "metadata": {
    "ExecuteTime": {
     "end_time": "2017-01-21T16:37:27.931485",
     "start_time": "2017-01-21T21:37:18.089Z"
    },
    "collapsed": false
   },
   "outputs": [],
   "source": [
    "line = Line(df.rolling(window=200).mean().dropna())"
   ]
  },
  {
   "cell_type": "code",
   "execution_count": null,
   "metadata": {
    "ExecuteTime": {
     "end_time": "2017-01-21T16:37:27.931485",
     "start_time": "2017-01-21T21:37:18.092Z"
    },
    "collapsed": false
   },
   "outputs": [],
   "source": [
    "show(line)"
   ]
  },
  {
   "cell_type": "code",
   "execution_count": null,
   "metadata": {
    "ExecuteTime": {
     "end_time": "2017-01-21T16:37:27.932486",
     "start_time": "2017-01-21T21:37:18.095Z"
    },
    "collapsed": false
   },
   "outputs": [],
   "source": [
    "from bokeh.embed import components\n",
    "# components(line)"
   ]
  },
  {
   "cell_type": "code",
   "execution_count": null,
   "metadata": {
    "collapsed": true
   },
   "outputs": [],
   "source": []
  }
 ],
 "metadata": {
  "kernelspec": {
   "display_name": "Python 3",
   "language": "python",
   "name": "python3"
  },
  "language_info": {
   "codemirror_mode": {
    "name": "ipython",
    "version": 3
   },
   "file_extension": ".py",
   "mimetype": "text/x-python",
   "name": "python",
   "nbconvert_exporter": "python",
   "pygments_lexer": "ipython3",
   "version": "3.5.2"
  }
 },
 "nbformat": 4,
 "nbformat_minor": 0
}
