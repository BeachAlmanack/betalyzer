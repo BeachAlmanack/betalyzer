{
 "cells": [
  {
   "cell_type": "code",
   "execution_count": 5,
   "metadata": {
    "ExecuteTime": {
     "end_time": "2017-01-21T17:51:51.900321",
     "start_time": "2017-01-21T17:51:51.899321"
    },
    "collapsed": true
   },
   "outputs": [],
   "source": [
    "import pandas as pd\n",
    "from bokeh.charts import Area, Bar, show, output_notebook"
   ]
  },
  {
   "cell_type": "code",
   "execution_count": 6,
   "metadata": {
    "ExecuteTime": {
     "end_time": "2017-01-21T17:51:52.548916",
     "start_time": "2017-01-21T17:51:52.546916"
    },
    "collapsed": false
   },
   "outputs": [
    {
     "data": {
      "text/html": [
       "\n",
       "    <div class=\"bk-root\">\n",
       "        <a href=\"http://bokeh.pydata.org\" target=\"_blank\" class=\"bk-logo bk-logo-small bk-logo-notebook\"></a>\n",
       "        <span id=\"3a397496-cea5-4f30-8a8e-84eb4b1937d8\">Loading BokehJS ...</span>\n",
       "    </div>"
      ]
     },
     "metadata": {},
     "output_type": "display_data"
    },
    {
     "data": {
      "application/javascript": [
       "\n",
       "(function(global) {\n",
       "  function now() {\n",
       "    return new Date();\n",
       "  }\n",
       "\n",
       "  var force = true;\n",
       "\n",
       "  if (typeof (window._bokeh_onload_callbacks) === \"undefined\" || force === true) {\n",
       "    window._bokeh_onload_callbacks = [];\n",
       "    window._bokeh_is_loading = undefined;\n",
       "  }\n",
       "\n",
       "\n",
       "  \n",
       "  if (typeof (window._bokeh_timeout) === \"undefined\" || force === true) {\n",
       "    window._bokeh_timeout = Date.now() + 5000;\n",
       "    window._bokeh_failed_load = false;\n",
       "  }\n",
       "\n",
       "  var NB_LOAD_WARNING = {'data': {'text/html':\n",
       "     \"<div style='background-color: #fdd'>\\n\"+\n",
       "     \"<p>\\n\"+\n",
       "     \"BokehJS does not appear to have successfully loaded. If loading BokehJS from CDN, this \\n\"+\n",
       "     \"may be due to a slow or bad network connection. Possible fixes:\\n\"+\n",
       "     \"</p>\\n\"+\n",
       "     \"<ul>\\n\"+\n",
       "     \"<li>re-rerun `output_notebook()` to attempt to load from CDN again, or</li>\\n\"+\n",
       "     \"<li>use INLINE resources instead, as so:</li>\\n\"+\n",
       "     \"</ul>\\n\"+\n",
       "     \"<code>\\n\"+\n",
       "     \"from bokeh.resources import INLINE\\n\"+\n",
       "     \"output_notebook(resources=INLINE)\\n\"+\n",
       "     \"</code>\\n\"+\n",
       "     \"</div>\"}};\n",
       "\n",
       "  function display_loaded() {\n",
       "    if (window.Bokeh !== undefined) {\n",
       "      document.getElementById(\"3a397496-cea5-4f30-8a8e-84eb4b1937d8\").textContent = \"BokehJS successfully loaded.\";\n",
       "    } else if (Date.now() < window._bokeh_timeout) {\n",
       "      setTimeout(display_loaded, 100)\n",
       "    }\n",
       "  }\n",
       "\n",
       "  function run_callbacks() {\n",
       "    window._bokeh_onload_callbacks.forEach(function(callback) { callback() });\n",
       "    delete window._bokeh_onload_callbacks\n",
       "    console.info(\"Bokeh: all callbacks have finished\");\n",
       "  }\n",
       "\n",
       "  function load_libs(js_urls, callback) {\n",
       "    window._bokeh_onload_callbacks.push(callback);\n",
       "    if (window._bokeh_is_loading > 0) {\n",
       "      console.log(\"Bokeh: BokehJS is being loaded, scheduling callback at\", now());\n",
       "      return null;\n",
       "    }\n",
       "    if (js_urls == null || js_urls.length === 0) {\n",
       "      run_callbacks();\n",
       "      return null;\n",
       "    }\n",
       "    console.log(\"Bokeh: BokehJS not loaded, scheduling load and callback at\", now());\n",
       "    window._bokeh_is_loading = js_urls.length;\n",
       "    for (var i = 0; i < js_urls.length; i++) {\n",
       "      var url = js_urls[i];\n",
       "      var s = document.createElement('script');\n",
       "      s.src = url;\n",
       "      s.async = false;\n",
       "      s.onreadystatechange = s.onload = function() {\n",
       "        window._bokeh_is_loading--;\n",
       "        if (window._bokeh_is_loading === 0) {\n",
       "          console.log(\"Bokeh: all BokehJS libraries loaded\");\n",
       "          run_callbacks()\n",
       "        }\n",
       "      };\n",
       "      s.onerror = function() {\n",
       "        console.warn(\"failed to load library \" + url);\n",
       "      };\n",
       "      console.log(\"Bokeh: injecting script tag for BokehJS library: \", url);\n",
       "      document.getElementsByTagName(\"head\")[0].appendChild(s);\n",
       "    }\n",
       "  };var element = document.getElementById(\"3a397496-cea5-4f30-8a8e-84eb4b1937d8\");\n",
       "  if (element == null) {\n",
       "    console.log(\"Bokeh: ERROR: autoload.js configured with elementid '3a397496-cea5-4f30-8a8e-84eb4b1937d8' but no matching script tag was found. \")\n",
       "    return false;\n",
       "  }\n",
       "\n",
       "  var js_urls = [\"https://cdn.pydata.org/bokeh/release/bokeh-0.12.4.min.js\", \"https://cdn.pydata.org/bokeh/release/bokeh-widgets-0.12.4.min.js\"];\n",
       "\n",
       "  var inline_js = [\n",
       "    function(Bokeh) {\n",
       "      Bokeh.set_log_level(\"info\");\n",
       "    },\n",
       "    \n",
       "    function(Bokeh) {\n",
       "      \n",
       "      document.getElementById(\"3a397496-cea5-4f30-8a8e-84eb4b1937d8\").textContent = \"BokehJS is loading...\";\n",
       "    },\n",
       "    function(Bokeh) {\n",
       "      console.log(\"Bokeh: injecting CSS: https://cdn.pydata.org/bokeh/release/bokeh-0.12.4.min.css\");\n",
       "      Bokeh.embed.inject_css(\"https://cdn.pydata.org/bokeh/release/bokeh-0.12.4.min.css\");\n",
       "      console.log(\"Bokeh: injecting CSS: https://cdn.pydata.org/bokeh/release/bokeh-widgets-0.12.4.min.css\");\n",
       "      Bokeh.embed.inject_css(\"https://cdn.pydata.org/bokeh/release/bokeh-widgets-0.12.4.min.css\");\n",
       "    }\n",
       "  ];\n",
       "\n",
       "  function run_inline_js() {\n",
       "    \n",
       "    if ((window.Bokeh !== undefined) || (force === true)) {\n",
       "      for (var i = 0; i < inline_js.length; i++) {\n",
       "        inline_js[i](window.Bokeh);\n",
       "      }if (force === true) {\n",
       "        display_loaded();\n",
       "      }} else if (Date.now() < window._bokeh_timeout) {\n",
       "      setTimeout(run_inline_js, 100);\n",
       "    } else if (!window._bokeh_failed_load) {\n",
       "      console.log(\"Bokeh: BokehJS failed to load within specified timeout.\");\n",
       "      window._bokeh_failed_load = true;\n",
       "    } else if (force !== true) {\n",
       "      var cell = $(document.getElementById(\"3a397496-cea5-4f30-8a8e-84eb4b1937d8\")).parents('.cell').data().cell;\n",
       "      cell.output_area.append_execute_result(NB_LOAD_WARNING)\n",
       "    }\n",
       "\n",
       "  }\n",
       "\n",
       "  if (window._bokeh_is_loading === 0) {\n",
       "    console.log(\"Bokeh: BokehJS loaded, going straight to plotting\");\n",
       "    run_inline_js();\n",
       "  } else {\n",
       "    load_libs(js_urls, function() {\n",
       "      console.log(\"Bokeh: BokehJS plotting callback run at\", now());\n",
       "      run_inline_js();\n",
       "    });\n",
       "  }\n",
       "}(this));"
      ]
     },
     "metadata": {},
     "output_type": "display_data"
    }
   ],
   "source": [
    "output_notebook()"
   ]
  },
  {
   "cell_type": "code",
   "execution_count": 7,
   "metadata": {
    "ExecuteTime": {
     "end_time": "2017-01-21T17:51:54.863476",
     "start_time": "2017-01-21T17:51:54.734078"
    },
    "collapsed": true
   },
   "outputs": [],
   "source": [
    "df_betas = pd.read_pickle('df_betas.pkl')\n",
    "df_tickers = pd.read_pickle('df_tickers.pkl')"
   ]
  },
  {
   "cell_type": "code",
   "execution_count": 8,
   "metadata": {
    "ExecuteTime": {
     "end_time": "2017-01-21T17:51:56.566645",
     "start_time": "2017-01-21T17:51:56.565645"
    },
    "collapsed": false
   },
   "outputs": [
    {
     "data": {
      "text/plain": [
       "Index(['ticker', 'name', 'beta', 'ipo_year', 'market_cap', 'sector',\n",
       "       'industry', 'last_price'],\n",
       "      dtype='object')"
      ]
     },
     "execution_count": 8,
     "metadata": {},
     "output_type": "execute_result"
    }
   ],
   "source": [
    "df_tickers.columns"
   ]
  },
  {
   "cell_type": "code",
   "execution_count": 13,
   "metadata": {
    "ExecuteTime": {
     "end_time": "2017-01-21T17:53:55.826288",
     "start_time": "2017-01-21T17:53:55.822288"
    },
    "collapsed": false
   },
   "outputs": [],
   "source": [
    "sector_betas = df_tickers.groupby('sector')['beta'].mean()"
   ]
  },
  {
   "cell_type": "code",
   "execution_count": 14,
   "metadata": {
    "ExecuteTime": {
     "end_time": "2017-01-21T17:53:58.865867",
     "start_time": "2017-01-21T17:53:58.723467"
    },
    "collapsed": true
   },
   "outputs": [],
   "source": [
    "bar = Bar(sector_betas)"
   ]
  },
  {
   "cell_type": "code",
   "execution_count": 15,
   "metadata": {
    "ExecuteTime": {
     "end_time": "2017-01-21T17:53:59.535266",
     "start_time": "2017-01-21T17:53:59.466266"
    },
    "collapsed": false
   },
   "outputs": [
    {
     "data": {
      "text/html": [
       "\n",
       "\n",
       "    <div class=\"bk-root\">\n",
       "        <div class=\"bk-plotdiv\" id=\"97ba6035-bebd-4f11-96f2-27816bc76a79\"></div>\n",
       "    </div>\n",
       "<script type=\"text/javascript\">\n",
       "  \n",
       "  (function(global) {\n",
       "    function now() {\n",
       "      return new Date();\n",
       "    }\n",
       "  \n",
       "    var force = false;\n",
       "  \n",
       "    if (typeof (window._bokeh_onload_callbacks) === \"undefined\" || force === true) {\n",
       "      window._bokeh_onload_callbacks = [];\n",
       "      window._bokeh_is_loading = undefined;\n",
       "    }\n",
       "  \n",
       "  \n",
       "    \n",
       "    if (typeof (window._bokeh_timeout) === \"undefined\" || force === true) {\n",
       "      window._bokeh_timeout = Date.now() + 0;\n",
       "      window._bokeh_failed_load = false;\n",
       "    }\n",
       "  \n",
       "    var NB_LOAD_WARNING = {'data': {'text/html':\n",
       "       \"<div style='background-color: #fdd'>\\n\"+\n",
       "       \"<p>\\n\"+\n",
       "       \"BokehJS does not appear to have successfully loaded. If loading BokehJS from CDN, this \\n\"+\n",
       "       \"may be due to a slow or bad network connection. Possible fixes:\\n\"+\n",
       "       \"</p>\\n\"+\n",
       "       \"<ul>\\n\"+\n",
       "       \"<li>re-rerun `output_notebook()` to attempt to load from CDN again, or</li>\\n\"+\n",
       "       \"<li>use INLINE resources instead, as so:</li>\\n\"+\n",
       "       \"</ul>\\n\"+\n",
       "       \"<code>\\n\"+\n",
       "       \"from bokeh.resources import INLINE\\n\"+\n",
       "       \"output_notebook(resources=INLINE)\\n\"+\n",
       "       \"</code>\\n\"+\n",
       "       \"</div>\"}};\n",
       "  \n",
       "    function display_loaded() {\n",
       "      if (window.Bokeh !== undefined) {\n",
       "        document.getElementById(\"97ba6035-bebd-4f11-96f2-27816bc76a79\").textContent = \"BokehJS successfully loaded.\";\n",
       "      } else if (Date.now() < window._bokeh_timeout) {\n",
       "        setTimeout(display_loaded, 100)\n",
       "      }\n",
       "    }\n",
       "  \n",
       "    function run_callbacks() {\n",
       "      window._bokeh_onload_callbacks.forEach(function(callback) { callback() });\n",
       "      delete window._bokeh_onload_callbacks\n",
       "      console.info(\"Bokeh: all callbacks have finished\");\n",
       "    }\n",
       "  \n",
       "    function load_libs(js_urls, callback) {\n",
       "      window._bokeh_onload_callbacks.push(callback);\n",
       "      if (window._bokeh_is_loading > 0) {\n",
       "        console.log(\"Bokeh: BokehJS is being loaded, scheduling callback at\", now());\n",
       "        return null;\n",
       "      }\n",
       "      if (js_urls == null || js_urls.length === 0) {\n",
       "        run_callbacks();\n",
       "        return null;\n",
       "      }\n",
       "      console.log(\"Bokeh: BokehJS not loaded, scheduling load and callback at\", now());\n",
       "      window._bokeh_is_loading = js_urls.length;\n",
       "      for (var i = 0; i < js_urls.length; i++) {\n",
       "        var url = js_urls[i];\n",
       "        var s = document.createElement('script');\n",
       "        s.src = url;\n",
       "        s.async = false;\n",
       "        s.onreadystatechange = s.onload = function() {\n",
       "          window._bokeh_is_loading--;\n",
       "          if (window._bokeh_is_loading === 0) {\n",
       "            console.log(\"Bokeh: all BokehJS libraries loaded\");\n",
       "            run_callbacks()\n",
       "          }\n",
       "        };\n",
       "        s.onerror = function() {\n",
       "          console.warn(\"failed to load library \" + url);\n",
       "        };\n",
       "        console.log(\"Bokeh: injecting script tag for BokehJS library: \", url);\n",
       "        document.getElementsByTagName(\"head\")[0].appendChild(s);\n",
       "      }\n",
       "    };var element = document.getElementById(\"97ba6035-bebd-4f11-96f2-27816bc76a79\");\n",
       "    if (element == null) {\n",
       "      console.log(\"Bokeh: ERROR: autoload.js configured with elementid '97ba6035-bebd-4f11-96f2-27816bc76a79' but no matching script tag was found. \")\n",
       "      return false;\n",
       "    }\n",
       "  \n",
       "    var js_urls = [];\n",
       "  \n",
       "    var inline_js = [\n",
       "      function(Bokeh) {\n",
       "        (function() {\n",
       "          var fn = function() {\n",
       "            var docs_json = {\"d301f1fe-690f-4974-817d-b33b6fdefdf9\":{\"roots\":{\"references\":[{\"attributes\":{\"callback\":null,\"column_names\":[\"x\",\"width\",\"label\",\"color\",\"line_alpha\",\"line_color\",\"y\",\"height\",\"fill_alpha\"],\"data\":{\"chart_index\":[{\"index\":\"Transportation\"}],\"color\":[\"#f22c40\"],\"fill_alpha\":[0.8],\"height\":[0.8755413123911312],\"index\":[\"Transportation\"],\"label\":[{\"index\":\"Transportation\"}],\"line_alpha\":[1.0],\"line_color\":[\"white\"],\"width\":[0.8],\"x\":[\"Transportation\"],\"y\":[0.4377706561955656]}},\"id\":\"47a3122b-5227-4ca8-a89e-3de6de99de49\",\"type\":\"ColumnDataSource\"},{\"attributes\":{\"label\":{\"value\":\"Health Care\"},\"renderers\":[{\"id\":\"17a608ed-bdb8-4599-b60f-085239b90421\",\"type\":\"GlyphRenderer\"}]},\"id\":\"1d8c05a1-17bd-421d-ad3b-2f72fa0caa9e\",\"type\":\"LegendItem\"},{\"attributes\":{\"callback\":null,\"factors\":[\"Basic Industries\",\"Capital Goods\",\"Consumer Durables\",\"Consumer Non-Durables\",\"Consumer Services\",\"Finance\",\"Health Care\",\"Miscellaneous\",\"Technology\",\"Transportation\",\"n/a\"]},\"id\":\"69d33837-dd01-4bfb-9fd1-4954f7885b93\",\"type\":\"FactorRange\"},{\"attributes\":{\"overlay\":{\"id\":\"3f8f4020-387f-4a09-829d-2630f0245c06\",\"type\":\"BoxAnnotation\"},\"plot\":{\"id\":\"4bb8155b-e71c-4a11-b9fe-cb14c63ad106\",\"subtype\":\"Chart\",\"type\":\"Plot\"}},\"id\":\"5dc1474d-7ed5-4c6a-ba68-756ccf5dcc5c\",\"type\":\"BoxZoomTool\"},{\"attributes\":{\"items\":[{\"id\":\"6bb1bb75-1dc4-40dd-9948-da47c8379b1a\",\"type\":\"LegendItem\"},{\"id\":\"d0d1629c-7ef1-4ad3-9fbc-7ec27521f990\",\"type\":\"LegendItem\"},{\"id\":\"85da9d12-1c01-46de-8469-190a1464b821\",\"type\":\"LegendItem\"},{\"id\":\"c63ca57d-f84e-4319-b7a1-c88af35c4043\",\"type\":\"LegendItem\"},{\"id\":\"d40cd885-8f93-4ae0-9551-e8ac58cb0690\",\"type\":\"LegendItem\"},{\"id\":\"02e3bec9-aeea-4b54-b084-0e2b58ab29eb\",\"type\":\"LegendItem\"},{\"id\":\"1d8c05a1-17bd-421d-ad3b-2f72fa0caa9e\",\"type\":\"LegendItem\"},{\"id\":\"b39f8891-0037-48cd-9404-c856a275cc3e\",\"type\":\"LegendItem\"},{\"id\":\"7e461092-8db0-48e8-b656-b4625bca71b1\",\"type\":\"LegendItem\"},{\"id\":\"f4d0c23c-1dc2-4d3f-bdb6-46251141a44e\",\"type\":\"LegendItem\"},{\"id\":\"7a97eacb-68ba-4750-b58b-44e5cfd798f5\",\"type\":\"LegendItem\"}],\"location\":\"top_left\",\"plot\":{\"id\":\"4bb8155b-e71c-4a11-b9fe-cb14c63ad106\",\"subtype\":\"Chart\",\"type\":\"Plot\"}},\"id\":\"57ea1d1b-3f0c-4b26-bf7c-848350cda2b5\",\"type\":\"Legend\"},{\"attributes\":{\"plot\":{\"id\":\"4bb8155b-e71c-4a11-b9fe-cb14c63ad106\",\"subtype\":\"Chart\",\"type\":\"Plot\"}},\"id\":\"dfcc2a05-f313-41ca-b782-e847499d0bc5\",\"type\":\"HelpTool\"},{\"attributes\":{\"fill_alpha\":{\"field\":\"fill_alpha\"},\"fill_color\":{\"field\":\"color\"},\"height\":{\"field\":\"height\",\"units\":\"data\"},\"line_color\":{\"field\":\"line_color\"},\"width\":{\"field\":\"width\",\"units\":\"data\"},\"x\":{\"field\":\"x\"},\"y\":{\"field\":\"y\"}},\"id\":\"c2e11646-bc3e-4ab5-a00a-491caa3ed5b6\",\"type\":\"Rect\"},{\"attributes\":{\"fill_alpha\":{\"field\":\"fill_alpha\"},\"fill_color\":{\"field\":\"color\"},\"height\":{\"field\":\"height\",\"units\":\"data\"},\"line_color\":{\"field\":\"line_color\"},\"width\":{\"field\":\"width\",\"units\":\"data\"},\"x\":{\"field\":\"x\"},\"y\":{\"field\":\"y\"}},\"id\":\"2bbbb9ec-c5d8-4b61-8331-5a22e1385648\",\"type\":\"Rect\"},{\"attributes\":{\"fill_alpha\":{\"field\":\"fill_alpha\"},\"fill_color\":{\"field\":\"color\"},\"height\":{\"field\":\"height\",\"units\":\"data\"},\"line_color\":{\"field\":\"line_color\"},\"width\":{\"field\":\"width\",\"units\":\"data\"},\"x\":{\"field\":\"x\"},\"y\":{\"field\":\"y\"}},\"id\":\"e57fc3ba-3a1e-43e3-8e54-3dde47eefae9\",\"type\":\"Rect\"},{\"attributes\":{\"data_source\":{\"id\":\"4e9de06f-3a6b-4d3c-9064-02fbc755755c\",\"type\":\"ColumnDataSource\"},\"glyph\":{\"id\":\"2bbbb9ec-c5d8-4b61-8331-5a22e1385648\",\"type\":\"Rect\"},\"hover_glyph\":null,\"nonselection_glyph\":null,\"selection_glyph\":null},\"id\":\"12bfd728-5f95-4c07-8c1b-dc5de9debfd6\",\"type\":\"GlyphRenderer\"},{\"attributes\":{\"label\":{\"value\":\"n/a\"},\"renderers\":[{\"id\":\"034f8db6-a7c6-4e0e-b09a-a5da204ecc09\",\"type\":\"GlyphRenderer\"}]},\"id\":\"7a97eacb-68ba-4750-b58b-44e5cfd798f5\",\"type\":\"LegendItem\"},{\"attributes\":{\"callback\":null,\"column_names\":[\"x\",\"width\",\"label\",\"color\",\"line_alpha\",\"line_color\",\"y\",\"height\",\"fill_alpha\"],\"data\":{\"chart_index\":[{\"index\":\"Technology\"}],\"color\":[\"#f22c40\"],\"fill_alpha\":[0.8],\"height\":[0.9859324493146986],\"index\":[\"Technology\"],\"label\":[{\"index\":\"Technology\"}],\"line_alpha\":[1.0],\"line_color\":[\"white\"],\"width\":[0.8],\"x\":[\"Technology\"],\"y\":[0.4929662246573493]}},\"id\":\"4e9de06f-3a6b-4d3c-9064-02fbc755755c\",\"type\":\"ColumnDataSource\"},{\"attributes\":{\"data_source\":{\"id\":\"099f627e-e1e3-4670-880a-d23bd08b8386\",\"type\":\"ColumnDataSource\"},\"glyph\":{\"id\":\"f6a9c6df-83ac-4eb8-9a45-a19629527580\",\"type\":\"Rect\"},\"hover_glyph\":null,\"nonselection_glyph\":null,\"selection_glyph\":null},\"id\":\"e340fee8-58d1-4b2e-943c-75c7f0952248\",\"type\":\"GlyphRenderer\"},{\"attributes\":{\"data_source\":{\"id\":\"231785be-213f-4310-92f3-4e1a9aae4885\",\"type\":\"ColumnDataSource\"},\"glyph\":{\"id\":\"e6d1631f-598e-4f7a-8bfa-069277722c8c\",\"type\":\"Rect\"},\"hover_glyph\":null,\"nonselection_glyph\":null,\"selection_glyph\":null},\"id\":\"81462a8f-b27c-4380-9700-a2315612156c\",\"type\":\"GlyphRenderer\"},{\"attributes\":{\"callback\":null,\"column_names\":[\"x\",\"width\",\"label\",\"color\",\"line_alpha\",\"line_color\",\"y\",\"height\",\"fill_alpha\"],\"data\":{\"chart_index\":[{\"index\":\"Basic Industries\"}],\"color\":[\"#f22c40\"],\"fill_alpha\":[0.8],\"height\":[0.8522392766584117],\"index\":[\"Basic Industries\"],\"label\":[{\"index\":\"Basic Industries\"}],\"line_alpha\":[1.0],\"line_color\":[\"white\"],\"width\":[0.8],\"x\":[\"Basic Industries\"],\"y\":[0.42611963832920585]}},\"id\":\"d87c0c97-b42a-443d-942f-28be4ea04b5e\",\"type\":\"ColumnDataSource\"},{\"attributes\":{\"data_source\":{\"id\":\"fa7f994f-3875-4e50-9773-f2037222c501\",\"type\":\"ColumnDataSource\"},\"glyph\":{\"id\":\"2d84033e-3d3c-46b4-965d-d1b0aa923f65\",\"type\":\"Rect\"},\"hover_glyph\":null,\"nonselection_glyph\":null,\"selection_glyph\":null},\"id\":\"c2814939-95c9-432f-8c19-ae568b101a39\",\"type\":\"GlyphRenderer\"},{\"attributes\":{},\"id\":\"0cfdbcfd-da35-4ae5-87bb-4bd888f06770\",\"type\":\"BasicTicker\"},{\"attributes\":{\"callback\":null,\"column_names\":[\"x\",\"width\",\"label\",\"color\",\"line_alpha\",\"line_color\",\"y\",\"height\",\"fill_alpha\"],\"data\":{\"chart_index\":[{\"index\":\"Consumer Durables\"}],\"color\":[\"#f22c40\"],\"fill_alpha\":[0.8],\"height\":[0.6743191423170196],\"index\":[\"Consumer Durables\"],\"label\":[{\"index\":\"Consumer Durables\"}],\"line_alpha\":[1.0],\"line_color\":[\"white\"],\"width\":[0.8],\"x\":[\"Consumer Durables\"],\"y\":[0.3371595711585098]}},\"id\":\"8a4bad20-fdb0-47a6-8d6e-a386242e5f60\",\"type\":\"ColumnDataSource\"},{\"attributes\":{\"below\":[{\"id\":\"f3bcb4ce-fe40-4fd4-b162-b1bb19aefb5f\",\"type\":\"CategoricalAxis\"}],\"css_classes\":null,\"left\":[{\"id\":\"6a6b245b-76af-4235-b308-69fcbe715c8e\",\"type\":\"LinearAxis\"}],\"renderers\":[{\"id\":\"3f8f4020-387f-4a09-829d-2630f0245c06\",\"type\":\"BoxAnnotation\"},{\"id\":\"a88b5358-5021-44e7-8c9f-077282d14c93\",\"type\":\"GlyphRenderer\"},{\"id\":\"c2814939-95c9-432f-8c19-ae568b101a39\",\"type\":\"GlyphRenderer\"},{\"id\":\"c0dc9a10-99df-4bc8-92fd-9574379e0464\",\"type\":\"GlyphRenderer\"},{\"id\":\"81462a8f-b27c-4380-9700-a2315612156c\",\"type\":\"GlyphRenderer\"},{\"id\":\"61113b62-a7a1-40b5-a2ab-1b6956a2b04c\",\"type\":\"GlyphRenderer\"},{\"id\":\"e340fee8-58d1-4b2e-943c-75c7f0952248\",\"type\":\"GlyphRenderer\"},{\"id\":\"17a608ed-bdb8-4599-b60f-085239b90421\",\"type\":\"GlyphRenderer\"},{\"id\":\"dc65a1ce-de39-4751-8ee3-64b036f359a8\",\"type\":\"GlyphRenderer\"},{\"id\":\"12bfd728-5f95-4c07-8c1b-dc5de9debfd6\",\"type\":\"GlyphRenderer\"},{\"id\":\"7a134721-e920-4769-82ba-b49cf43e2b19\",\"type\":\"GlyphRenderer\"},{\"id\":\"034f8db6-a7c6-4e0e-b09a-a5da204ecc09\",\"type\":\"GlyphRenderer\"},{\"id\":\"57ea1d1b-3f0c-4b26-bf7c-848350cda2b5\",\"type\":\"Legend\"},{\"id\":\"f3bcb4ce-fe40-4fd4-b162-b1bb19aefb5f\",\"type\":\"CategoricalAxis\"},{\"id\":\"6a6b245b-76af-4235-b308-69fcbe715c8e\",\"type\":\"LinearAxis\"},{\"id\":\"bf5a26bd-85b2-43fd-8112-830a27c411a5\",\"type\":\"Grid\"}],\"title\":{\"id\":\"52487a01-b002-4360-8135-e2bab9da3f3c\",\"type\":\"Title\"},\"tool_events\":{\"id\":\"f9eee1e9-341c-4b24-94ef-a78e4ba537e4\",\"type\":\"ToolEvents\"},\"toolbar\":{\"id\":\"f3467fa0-dda5-4b8e-8748-53f1088d3319\",\"type\":\"Toolbar\"},\"x_mapper_type\":\"auto\",\"x_range\":{\"id\":\"69d33837-dd01-4bfb-9fd1-4954f7885b93\",\"type\":\"FactorRange\"},\"y_mapper_type\":\"auto\",\"y_range\":{\"id\":\"ec8e6150-340f-48c3-a3d5-724363885147\",\"type\":\"Range1d\"}},\"id\":\"4bb8155b-e71c-4a11-b9fe-cb14c63ad106\",\"subtype\":\"Chart\",\"type\":\"Plot\"},{\"attributes\":{\"label\":{\"value\":\"Miscellaneous\"},\"renderers\":[{\"id\":\"dc65a1ce-de39-4751-8ee3-64b036f359a8\",\"type\":\"GlyphRenderer\"}]},\"id\":\"b39f8891-0037-48cd-9404-c856a275cc3e\",\"type\":\"LegendItem\"},{\"attributes\":{\"label\":{\"value\":\"Basic Industries\"},\"renderers\":[{\"id\":\"a88b5358-5021-44e7-8c9f-077282d14c93\",\"type\":\"GlyphRenderer\"}]},\"id\":\"6bb1bb75-1dc4-40dd-9948-da47c8379b1a\",\"type\":\"LegendItem\"},{\"attributes\":{\"fill_alpha\":{\"field\":\"fill_alpha\"},\"fill_color\":{\"field\":\"color\"},\"height\":{\"field\":\"height\",\"units\":\"data\"},\"line_color\":{\"field\":\"line_color\"},\"width\":{\"field\":\"width\",\"units\":\"data\"},\"x\":{\"field\":\"x\"},\"y\":{\"field\":\"y\"}},\"id\":\"f6a9c6df-83ac-4eb8-9a45-a19629527580\",\"type\":\"Rect\"},{\"attributes\":{\"callback\":null,\"column_names\":[\"x\",\"width\",\"label\",\"color\",\"line_alpha\",\"line_color\",\"y\",\"height\",\"fill_alpha\"],\"data\":{\"chart_index\":[{\"index\":\"Health Care\"}],\"color\":[\"#f22c40\"],\"fill_alpha\":[0.8],\"height\":[1.062978795092949],\"index\":[\"Health Care\"],\"label\":[{\"index\":\"Health Care\"}],\"line_alpha\":[1.0],\"line_color\":[\"white\"],\"width\":[0.8],\"x\":[\"Health Care\"],\"y\":[0.5314893975464745]}},\"id\":\"0295f856-3b73-4610-8bd7-8e67c17bfcb6\",\"type\":\"ColumnDataSource\"},{\"attributes\":{\"label\":{\"value\":\"Consumer Services\"},\"renderers\":[{\"id\":\"61113b62-a7a1-40b5-a2ab-1b6956a2b04c\",\"type\":\"GlyphRenderer\"}]},\"id\":\"d40cd885-8f93-4ae0-9551-e8ac58cb0690\",\"type\":\"LegendItem\"},{\"attributes\":{\"label\":{\"value\":\"Consumer Durables\"},\"renderers\":[{\"id\":\"c0dc9a10-99df-4bc8-92fd-9574379e0464\",\"type\":\"GlyphRenderer\"}]},\"id\":\"85da9d12-1c01-46de-8469-190a1464b821\",\"type\":\"LegendItem\"},{\"attributes\":{\"callback\":null,\"end\":1.1254205901812298},\"id\":\"ec8e6150-340f-48c3-a3d5-724363885147\",\"type\":\"Range1d\"},{\"attributes\":{\"fill_alpha\":{\"field\":\"fill_alpha\"},\"fill_color\":{\"field\":\"color\"},\"height\":{\"field\":\"height\",\"units\":\"data\"},\"line_color\":{\"field\":\"line_color\"},\"width\":{\"field\":\"width\",\"units\":\"data\"},\"x\":{\"field\":\"x\"},\"y\":{\"field\":\"y\"}},\"id\":\"81d1fe92-cca3-4806-b0fd-3baf83aa336d\",\"type\":\"Rect\"},{\"attributes\":{\"data_source\":{\"id\":\"0295f856-3b73-4610-8bd7-8e67c17bfcb6\",\"type\":\"ColumnDataSource\"},\"glyph\":{\"id\":\"31bb9b02-db4f-425a-8340-ff8561e873ca\",\"type\":\"Rect\"},\"hover_glyph\":null,\"nonselection_glyph\":null,\"selection_glyph\":null},\"id\":\"17a608ed-bdb8-4599-b60f-085239b90421\",\"type\":\"GlyphRenderer\"},{\"attributes\":{\"data_source\":{\"id\":\"7e64d045-5f8e-499a-a0ce-1958f55b2b33\",\"type\":\"ColumnDataSource\"},\"glyph\":{\"id\":\"00d20749-ac52-42d8-93f2-2abf08e50a88\",\"type\":\"Rect\"},\"hover_glyph\":null,\"nonselection_glyph\":null,\"selection_glyph\":null},\"id\":\"61113b62-a7a1-40b5-a2ab-1b6956a2b04c\",\"type\":\"GlyphRenderer\"},{\"attributes\":{},\"id\":\"5341be30-a733-4d82-b37d-5bbf8cd09b52\",\"type\":\"CategoricalTickFormatter\"},{\"attributes\":{\"dimension\":1,\"plot\":{\"id\":\"4bb8155b-e71c-4a11-b9fe-cb14c63ad106\",\"subtype\":\"Chart\",\"type\":\"Plot\"},\"ticker\":{\"id\":\"0cfdbcfd-da35-4ae5-87bb-4bd888f06770\",\"type\":\"BasicTicker\"}},\"id\":\"bf5a26bd-85b2-43fd-8112-830a27c411a5\",\"type\":\"Grid\"},{\"attributes\":{\"label\":{\"value\":\"Finance\"},\"renderers\":[{\"id\":\"e340fee8-58d1-4b2e-943c-75c7f0952248\",\"type\":\"GlyphRenderer\"}]},\"id\":\"02e3bec9-aeea-4b54-b084-0e2b58ab29eb\",\"type\":\"LegendItem\"},{\"attributes\":{\"fill_alpha\":{\"field\":\"fill_alpha\"},\"fill_color\":{\"field\":\"color\"},\"height\":{\"field\":\"height\",\"units\":\"data\"},\"line_color\":{\"field\":\"line_color\"},\"width\":{\"field\":\"width\",\"units\":\"data\"},\"x\":{\"field\":\"x\"},\"y\":{\"field\":\"y\"}},\"id\":\"f2992df4-544f-4fd5-929b-f9c01c88356d\",\"type\":\"Rect\"},{\"attributes\":{\"callback\":null,\"column_names\":[\"x\",\"width\",\"label\",\"color\",\"line_alpha\",\"line_color\",\"y\",\"height\",\"fill_alpha\"],\"data\":{\"chart_index\":[{\"index\":\"Consumer Services\"}],\"color\":[\"#f22c40\"],\"fill_alpha\":[0.8],\"height\":[0.9746299521624848],\"index\":[\"Consumer Services\"],\"label\":[{\"index\":\"Consumer Services\"}],\"line_alpha\":[1.0],\"line_color\":[\"white\"],\"width\":[0.8],\"x\":[\"Consumer Services\"],\"y\":[0.4873149760812424]}},\"id\":\"7e64d045-5f8e-499a-a0ce-1958f55b2b33\",\"type\":\"ColumnDataSource\"},{\"attributes\":{\"plot\":{\"id\":\"4bb8155b-e71c-4a11-b9fe-cb14c63ad106\",\"subtype\":\"Chart\",\"type\":\"Plot\"}},\"id\":\"aafdb47a-ef9c-4fe1-a9f5-48b7d1f638ee\",\"type\":\"SaveTool\"},{\"attributes\":{\"callback\":null,\"column_names\":[\"x\",\"width\",\"label\",\"color\",\"line_alpha\",\"line_color\",\"y\",\"height\",\"fill_alpha\"],\"data\":{\"chart_index\":[{\"index\":\"Finance\"}],\"color\":[\"#f22c40\"],\"fill_alpha\":[0.8],\"height\":[1.0718291335059331],\"index\":[\"Finance\"],\"label\":[{\"index\":\"Finance\"}],\"line_alpha\":[1.0],\"line_color\":[\"white\"],\"width\":[0.8],\"x\":[\"Finance\"],\"y\":[0.5359145667529666]}},\"id\":\"099f627e-e1e3-4670-880a-d23bd08b8386\",\"type\":\"ColumnDataSource\"},{\"attributes\":{},\"id\":\"3cc59432-5d6c-4113-b949-229febaafa0c\",\"type\":\"CategoricalTicker\"},{\"attributes\":{\"data_source\":{\"id\":\"8f4129a2-131e-46cb-a966-c842bcf340c4\",\"type\":\"ColumnDataSource\"},\"glyph\":{\"id\":\"e57fc3ba-3a1e-43e3-8e54-3dde47eefae9\",\"type\":\"Rect\"},\"hover_glyph\":null,\"nonselection_glyph\":null,\"selection_glyph\":null},\"id\":\"034f8db6-a7c6-4e0e-b09a-a5da204ecc09\",\"type\":\"GlyphRenderer\"},{\"attributes\":{},\"id\":\"f9eee1e9-341c-4b24-94ef-a78e4ba537e4\",\"type\":\"ToolEvents\"},{\"attributes\":{\"plot\":{\"id\":\"4bb8155b-e71c-4a11-b9fe-cb14c63ad106\",\"subtype\":\"Chart\",\"type\":\"Plot\"}},\"id\":\"7c9df7dd-e173-4b12-9336-5a9ee22c3c3b\",\"type\":\"PanTool\"},{\"attributes\":{\"axis_label\":\"Sum( Beta )\",\"formatter\":{\"id\":\"07652958-b232-4510-aefe-c8564ec2c154\",\"type\":\"BasicTickFormatter\"},\"plot\":{\"id\":\"4bb8155b-e71c-4a11-b9fe-cb14c63ad106\",\"subtype\":\"Chart\",\"type\":\"Plot\"},\"ticker\":{\"id\":\"0cfdbcfd-da35-4ae5-87bb-4bd888f06770\",\"type\":\"BasicTicker\"}},\"id\":\"6a6b245b-76af-4235-b308-69fcbe715c8e\",\"type\":\"LinearAxis\"},{\"attributes\":{\"label\":{\"value\":\"Consumer Non-Durables\"},\"renderers\":[{\"id\":\"81462a8f-b27c-4380-9700-a2315612156c\",\"type\":\"GlyphRenderer\"}]},\"id\":\"c63ca57d-f84e-4319-b7a1-c88af35c4043\",\"type\":\"LegendItem\"},{\"attributes\":{\"label\":{\"value\":\"Technology\"},\"renderers\":[{\"id\":\"12bfd728-5f95-4c07-8c1b-dc5de9debfd6\",\"type\":\"GlyphRenderer\"}]},\"id\":\"7e461092-8db0-48e8-b656-b4625bca71b1\",\"type\":\"LegendItem\"},{\"attributes\":{\"fill_alpha\":{\"field\":\"fill_alpha\"},\"fill_color\":{\"field\":\"color\"},\"height\":{\"field\":\"height\",\"units\":\"data\"},\"line_color\":{\"field\":\"line_color\"},\"width\":{\"field\":\"width\",\"units\":\"data\"},\"x\":{\"field\":\"x\"},\"y\":{\"field\":\"y\"}},\"id\":\"86e67e43-c7df-4f14-8838-6980c997ebf8\",\"type\":\"Rect\"},{\"attributes\":{\"data_source\":{\"id\":\"7b2dd268-d314-4432-ae41-f6c580c557c9\",\"type\":\"ColumnDataSource\"},\"glyph\":{\"id\":\"c2e11646-bc3e-4ab5-a00a-491caa3ed5b6\",\"type\":\"Rect\"},\"hover_glyph\":null,\"nonselection_glyph\":null,\"selection_glyph\":null},\"id\":\"dc65a1ce-de39-4751-8ee3-64b036f359a8\",\"type\":\"GlyphRenderer\"},{\"attributes\":{\"fill_alpha\":{\"field\":\"fill_alpha\"},\"fill_color\":{\"field\":\"color\"},\"height\":{\"field\":\"height\",\"units\":\"data\"},\"line_color\":{\"field\":\"line_color\"},\"width\":{\"field\":\"width\",\"units\":\"data\"},\"x\":{\"field\":\"x\"},\"y\":{\"field\":\"y\"}},\"id\":\"2d84033e-3d3c-46b4-965d-d1b0aa923f65\",\"type\":\"Rect\"},{\"attributes\":{\"label\":{\"value\":\"Capital Goods\"},\"renderers\":[{\"id\":\"c2814939-95c9-432f-8c19-ae568b101a39\",\"type\":\"GlyphRenderer\"}]},\"id\":\"d0d1629c-7ef1-4ad3-9fbc-7ec27521f990\",\"type\":\"LegendItem\"},{\"attributes\":{},\"id\":\"07652958-b232-4510-aefe-c8564ec2c154\",\"type\":\"BasicTickFormatter\"},{\"attributes\":{\"callback\":null,\"column_names\":[\"x\",\"width\",\"label\",\"color\",\"line_alpha\",\"line_color\",\"y\",\"height\",\"fill_alpha\"],\"data\":{\"chart_index\":[{\"index\":\"Capital Goods\"}],\"color\":[\"#f22c40\"],\"fill_alpha\":[0.8],\"height\":[0.8716730767452162],\"index\":[\"Capital Goods\"],\"label\":[{\"index\":\"Capital Goods\"}],\"line_alpha\":[1.0],\"line_color\":[\"white\"],\"width\":[0.8],\"x\":[\"Capital Goods\"],\"y\":[0.4358365383726081]}},\"id\":\"fa7f994f-3875-4e50-9773-f2037222c501\",\"type\":\"ColumnDataSource\"},{\"attributes\":{\"data_source\":{\"id\":\"8a4bad20-fdb0-47a6-8d6e-a386242e5f60\",\"type\":\"ColumnDataSource\"},\"glyph\":{\"id\":\"81d1fe92-cca3-4806-b0fd-3baf83aa336d\",\"type\":\"Rect\"},\"hover_glyph\":null,\"nonselection_glyph\":null,\"selection_glyph\":null},\"id\":\"c0dc9a10-99df-4bc8-92fd-9574379e0464\",\"type\":\"GlyphRenderer\"},{\"attributes\":{\"plot\":{\"id\":\"4bb8155b-e71c-4a11-b9fe-cb14c63ad106\",\"subtype\":\"Chart\",\"type\":\"Plot\"}},\"id\":\"5a28f822-8f31-4d94-bc11-e682f29db4ab\",\"type\":\"WheelZoomTool\"},{\"attributes\":{\"data_source\":{\"id\":\"d87c0c97-b42a-443d-942f-28be4ea04b5e\",\"type\":\"ColumnDataSource\"},\"glyph\":{\"id\":\"f2992df4-544f-4fd5-929b-f9c01c88356d\",\"type\":\"Rect\"},\"hover_glyph\":null,\"nonselection_glyph\":null,\"selection_glyph\":null},\"id\":\"a88b5358-5021-44e7-8c9f-077282d14c93\",\"type\":\"GlyphRenderer\"},{\"attributes\":{\"bottom_units\":\"screen\",\"fill_alpha\":{\"value\":0.5},\"fill_color\":{\"value\":\"lightgrey\"},\"left_units\":\"screen\",\"level\":\"overlay\",\"line_alpha\":{\"value\":1.0},\"line_color\":{\"value\":\"black\"},\"line_dash\":[4,4],\"line_width\":{\"value\":2},\"plot\":null,\"render_mode\":\"css\",\"right_units\":\"screen\",\"top_units\":\"screen\"},\"id\":\"3f8f4020-387f-4a09-829d-2630f0245c06\",\"type\":\"BoxAnnotation\"},{\"attributes\":{\"data_source\":{\"id\":\"47a3122b-5227-4ca8-a89e-3de6de99de49\",\"type\":\"ColumnDataSource\"},\"glyph\":{\"id\":\"86e67e43-c7df-4f14-8838-6980c997ebf8\",\"type\":\"Rect\"},\"hover_glyph\":null,\"nonselection_glyph\":null,\"selection_glyph\":null},\"id\":\"7a134721-e920-4769-82ba-b49cf43e2b19\",\"type\":\"GlyphRenderer\"},{\"attributes\":{\"formatter\":{\"id\":\"5341be30-a733-4d82-b37d-5bbf8cd09b52\",\"type\":\"CategoricalTickFormatter\"},\"major_label_orientation\":0.7853981633974483,\"plot\":{\"id\":\"4bb8155b-e71c-4a11-b9fe-cb14c63ad106\",\"subtype\":\"Chart\",\"type\":\"Plot\"},\"ticker\":{\"id\":\"3cc59432-5d6c-4113-b949-229febaafa0c\",\"type\":\"CategoricalTicker\"}},\"id\":\"f3bcb4ce-fe40-4fd4-b162-b1bb19aefb5f\",\"type\":\"CategoricalAxis\"},{\"attributes\":{\"plot\":null,\"text\":null},\"id\":\"52487a01-b002-4360-8135-e2bab9da3f3c\",\"type\":\"Title\"},{\"attributes\":{\"fill_alpha\":{\"field\":\"fill_alpha\"},\"fill_color\":{\"field\":\"color\"},\"height\":{\"field\":\"height\",\"units\":\"data\"},\"line_color\":{\"field\":\"line_color\"},\"width\":{\"field\":\"width\",\"units\":\"data\"},\"x\":{\"field\":\"x\"},\"y\":{\"field\":\"y\"}},\"id\":\"e6d1631f-598e-4f7a-8bfa-069277722c8c\",\"type\":\"Rect\"},{\"attributes\":{\"fill_alpha\":{\"field\":\"fill_alpha\"},\"fill_color\":{\"field\":\"color\"},\"height\":{\"field\":\"height\",\"units\":\"data\"},\"line_color\":{\"field\":\"line_color\"},\"width\":{\"field\":\"width\",\"units\":\"data\"},\"x\":{\"field\":\"x\"},\"y\":{\"field\":\"y\"}},\"id\":\"00d20749-ac52-42d8-93f2-2abf08e50a88\",\"type\":\"Rect\"},{\"attributes\":{\"callback\":null,\"column_names\":[\"x\",\"width\",\"label\",\"color\",\"line_alpha\",\"line_color\",\"y\",\"height\",\"fill_alpha\"],\"data\":{\"chart_index\":[{\"index\":\"Consumer Non-Durables\"}],\"color\":[\"#f22c40\"],\"fill_alpha\":[0.8],\"height\":[0.7856065880122712],\"index\":[\"Consumer Non-Durables\"],\"label\":[{\"index\":\"Consumer Non-Durables\"}],\"line_alpha\":[1.0],\"line_color\":[\"white\"],\"width\":[0.8],\"x\":[\"Consumer Non-Durables\"],\"y\":[0.3928032940061356]}},\"id\":\"231785be-213f-4310-92f3-4e1a9aae4885\",\"type\":\"ColumnDataSource\"},{\"attributes\":{\"plot\":{\"id\":\"4bb8155b-e71c-4a11-b9fe-cb14c63ad106\",\"subtype\":\"Chart\",\"type\":\"Plot\"}},\"id\":\"ccd53691-8981-4f66-ada8-5f9669dc6a07\",\"type\":\"ResetTool\"},{\"attributes\":{\"callback\":null,\"column_names\":[\"x\",\"width\",\"label\",\"color\",\"line_alpha\",\"line_color\",\"y\",\"height\",\"fill_alpha\"],\"data\":{\"chart_index\":[{\"index\":\"n/a\"}],\"color\":[\"#f22c40\"],\"fill_alpha\":[0.8],\"height\":[0.6989620720735692],\"index\":[\"n/a\"],\"label\":[{\"index\":\"n/a\"}],\"line_alpha\":[1.0],\"line_color\":[\"white\"],\"width\":[0.8],\"x\":[\"n/a\"],\"y\":[0.3494810360367846]}},\"id\":\"8f4129a2-131e-46cb-a966-c842bcf340c4\",\"type\":\"ColumnDataSource\"},{\"attributes\":{\"active_drag\":\"auto\",\"active_scroll\":\"auto\",\"active_tap\":\"auto\",\"tools\":[{\"id\":\"7c9df7dd-e173-4b12-9336-5a9ee22c3c3b\",\"type\":\"PanTool\"},{\"id\":\"5a28f822-8f31-4d94-bc11-e682f29db4ab\",\"type\":\"WheelZoomTool\"},{\"id\":\"5dc1474d-7ed5-4c6a-ba68-756ccf5dcc5c\",\"type\":\"BoxZoomTool\"},{\"id\":\"aafdb47a-ef9c-4fe1-a9f5-48b7d1f638ee\",\"type\":\"SaveTool\"},{\"id\":\"ccd53691-8981-4f66-ada8-5f9669dc6a07\",\"type\":\"ResetTool\"},{\"id\":\"dfcc2a05-f313-41ca-b782-e847499d0bc5\",\"type\":\"HelpTool\"}]},\"id\":\"f3467fa0-dda5-4b8e-8748-53f1088d3319\",\"type\":\"Toolbar\"},{\"attributes\":{\"fill_alpha\":{\"field\":\"fill_alpha\"},\"fill_color\":{\"field\":\"color\"},\"height\":{\"field\":\"height\",\"units\":\"data\"},\"line_color\":{\"field\":\"line_color\"},\"width\":{\"field\":\"width\",\"units\":\"data\"},\"x\":{\"field\":\"x\"},\"y\":{\"field\":\"y\"}},\"id\":\"31bb9b02-db4f-425a-8340-ff8561e873ca\",\"type\":\"Rect\"},{\"attributes\":{\"label\":{\"value\":\"Transportation\"},\"renderers\":[{\"id\":\"7a134721-e920-4769-82ba-b49cf43e2b19\",\"type\":\"GlyphRenderer\"}]},\"id\":\"f4d0c23c-1dc2-4d3f-bdb6-46251141a44e\",\"type\":\"LegendItem\"},{\"attributes\":{\"callback\":null,\"column_names\":[\"x\",\"width\",\"label\",\"color\",\"line_alpha\",\"line_color\",\"y\",\"height\",\"fill_alpha\"],\"data\":{\"chart_index\":[{\"index\":\"Miscellaneous\"}],\"color\":[\"#f22c40\"],\"fill_alpha\":[0.8],\"height\":[0.9514779328171903],\"index\":[\"Miscellaneous\"],\"label\":[{\"index\":\"Miscellaneous\"}],\"line_alpha\":[1.0],\"line_color\":[\"white\"],\"width\":[0.8],\"x\":[\"Miscellaneous\"],\"y\":[0.47573896640859514]}},\"id\":\"7b2dd268-d314-4432-ae41-f6c580c557c9\",\"type\":\"ColumnDataSource\"}],\"root_ids\":[\"4bb8155b-e71c-4a11-b9fe-cb14c63ad106\"]},\"title\":\"Bokeh Application\",\"version\":\"0.12.4\"}};\n",
       "            var render_items = [{\"docid\":\"d301f1fe-690f-4974-817d-b33b6fdefdf9\",\"elementid\":\"97ba6035-bebd-4f11-96f2-27816bc76a79\",\"modelid\":\"4bb8155b-e71c-4a11-b9fe-cb14c63ad106\"}];\n",
       "            \n",
       "            Bokeh.embed.embed_items(docs_json, render_items);\n",
       "          };\n",
       "          if (document.readyState != \"loading\") fn();\n",
       "          else document.addEventListener(\"DOMContentLoaded\", fn);\n",
       "        })();\n",
       "      },\n",
       "      function(Bokeh) {\n",
       "      }\n",
       "    ];\n",
       "  \n",
       "    function run_inline_js() {\n",
       "      \n",
       "      if ((window.Bokeh !== undefined) || (force === true)) {\n",
       "        for (var i = 0; i < inline_js.length; i++) {\n",
       "          inline_js[i](window.Bokeh);\n",
       "        }if (force === true) {\n",
       "          display_loaded();\n",
       "        }} else if (Date.now() < window._bokeh_timeout) {\n",
       "        setTimeout(run_inline_js, 100);\n",
       "      } else if (!window._bokeh_failed_load) {\n",
       "        console.log(\"Bokeh: BokehJS failed to load within specified timeout.\");\n",
       "        window._bokeh_failed_load = true;\n",
       "      } else if (force !== true) {\n",
       "        var cell = $(document.getElementById(\"97ba6035-bebd-4f11-96f2-27816bc76a79\")).parents('.cell').data().cell;\n",
       "        cell.output_area.append_execute_result(NB_LOAD_WARNING)\n",
       "      }\n",
       "  \n",
       "    }\n",
       "  \n",
       "    if (window._bokeh_is_loading === 0) {\n",
       "      console.log(\"Bokeh: BokehJS loaded, going straight to plotting\");\n",
       "      run_inline_js();\n",
       "    } else {\n",
       "      load_libs(js_urls, function() {\n",
       "        console.log(\"Bokeh: BokehJS plotting callback run at\", now());\n",
       "        run_inline_js();\n",
       "      });\n",
       "    }\n",
       "  }(this));\n",
       "</script>"
      ]
     },
     "metadata": {},
     "output_type": "display_data"
    }
   ],
   "source": [
    "show(bar)"
   ]
  },
  {
   "cell_type": "code",
   "execution_count": 22,
   "metadata": {
    "ExecuteTime": {
     "end_time": "2017-01-21T18:41:40.523466",
     "start_time": "2017-01-21T18:41:40.522466"
    },
    "collapsed": false
   },
   "outputs": [],
   "source": [
    "df_tickers['market_cap_decile'] = pd.qcut(df_tickers['market_cap'], 10, labels=False)"
   ]
  },
  {
   "cell_type": "code",
   "execution_count": 23,
   "metadata": {
    "ExecuteTime": {
     "end_time": "2017-01-21T18:41:40.684482",
     "start_time": "2017-01-21T18:41:40.680481"
    },
    "collapsed": false
   },
   "outputs": [],
   "source": [
    "mktcap_betas = df_tickers.groupby('market_cap_decile')['beta'].mean()"
   ]
  },
  {
   "cell_type": "code",
   "execution_count": 24,
   "metadata": {
    "ExecuteTime": {
     "end_time": "2017-01-21T18:41:41.160529",
     "start_time": "2017-01-21T18:41:40.882502"
    },
    "collapsed": false
   },
   "outputs": [
    {
     "data": {
      "text/html": [
       "\n",
       "\n",
       "    <div class=\"bk-root\">\n",
       "        <div class=\"bk-plotdiv\" id=\"40daebd9-5c71-465a-b11d-6cf9041b59d0\"></div>\n",
       "    </div>\n",
       "<script type=\"text/javascript\">\n",
       "  \n",
       "  (function(global) {\n",
       "    function now() {\n",
       "      return new Date();\n",
       "    }\n",
       "  \n",
       "    var force = false;\n",
       "  \n",
       "    if (typeof (window._bokeh_onload_callbacks) === \"undefined\" || force === true) {\n",
       "      window._bokeh_onload_callbacks = [];\n",
       "      window._bokeh_is_loading = undefined;\n",
       "    }\n",
       "  \n",
       "  \n",
       "    \n",
       "    if (typeof (window._bokeh_timeout) === \"undefined\" || force === true) {\n",
       "      window._bokeh_timeout = Date.now() + 0;\n",
       "      window._bokeh_failed_load = false;\n",
       "    }\n",
       "  \n",
       "    var NB_LOAD_WARNING = {'data': {'text/html':\n",
       "       \"<div style='background-color: #fdd'>\\n\"+\n",
       "       \"<p>\\n\"+\n",
       "       \"BokehJS does not appear to have successfully loaded. If loading BokehJS from CDN, this \\n\"+\n",
       "       \"may be due to a slow or bad network connection. Possible fixes:\\n\"+\n",
       "       \"</p>\\n\"+\n",
       "       \"<ul>\\n\"+\n",
       "       \"<li>re-rerun `output_notebook()` to attempt to load from CDN again, or</li>\\n\"+\n",
       "       \"<li>use INLINE resources instead, as so:</li>\\n\"+\n",
       "       \"</ul>\\n\"+\n",
       "       \"<code>\\n\"+\n",
       "       \"from bokeh.resources import INLINE\\n\"+\n",
       "       \"output_notebook(resources=INLINE)\\n\"+\n",
       "       \"</code>\\n\"+\n",
       "       \"</div>\"}};\n",
       "  \n",
       "    function display_loaded() {\n",
       "      if (window.Bokeh !== undefined) {\n",
       "        document.getElementById(\"40daebd9-5c71-465a-b11d-6cf9041b59d0\").textContent = \"BokehJS successfully loaded.\";\n",
       "      } else if (Date.now() < window._bokeh_timeout) {\n",
       "        setTimeout(display_loaded, 100)\n",
       "      }\n",
       "    }\n",
       "  \n",
       "    function run_callbacks() {\n",
       "      window._bokeh_onload_callbacks.forEach(function(callback) { callback() });\n",
       "      delete window._bokeh_onload_callbacks\n",
       "      console.info(\"Bokeh: all callbacks have finished\");\n",
       "    }\n",
       "  \n",
       "    function load_libs(js_urls, callback) {\n",
       "      window._bokeh_onload_callbacks.push(callback);\n",
       "      if (window._bokeh_is_loading > 0) {\n",
       "        console.log(\"Bokeh: BokehJS is being loaded, scheduling callback at\", now());\n",
       "        return null;\n",
       "      }\n",
       "      if (js_urls == null || js_urls.length === 0) {\n",
       "        run_callbacks();\n",
       "        return null;\n",
       "      }\n",
       "      console.log(\"Bokeh: BokehJS not loaded, scheduling load and callback at\", now());\n",
       "      window._bokeh_is_loading = js_urls.length;\n",
       "      for (var i = 0; i < js_urls.length; i++) {\n",
       "        var url = js_urls[i];\n",
       "        var s = document.createElement('script');\n",
       "        s.src = url;\n",
       "        s.async = false;\n",
       "        s.onreadystatechange = s.onload = function() {\n",
       "          window._bokeh_is_loading--;\n",
       "          if (window._bokeh_is_loading === 0) {\n",
       "            console.log(\"Bokeh: all BokehJS libraries loaded\");\n",
       "            run_callbacks()\n",
       "          }\n",
       "        };\n",
       "        s.onerror = function() {\n",
       "          console.warn(\"failed to load library \" + url);\n",
       "        };\n",
       "        console.log(\"Bokeh: injecting script tag for BokehJS library: \", url);\n",
       "        document.getElementsByTagName(\"head\")[0].appendChild(s);\n",
       "      }\n",
       "    };var element = document.getElementById(\"40daebd9-5c71-465a-b11d-6cf9041b59d0\");\n",
       "    if (element == null) {\n",
       "      console.log(\"Bokeh: ERROR: autoload.js configured with elementid '40daebd9-5c71-465a-b11d-6cf9041b59d0' but no matching script tag was found. \")\n",
       "      return false;\n",
       "    }\n",
       "  \n",
       "    var js_urls = [];\n",
       "  \n",
       "    var inline_js = [\n",
       "      function(Bokeh) {\n",
       "        (function() {\n",
       "          var fn = function() {\n",
       "            var docs_json = {\"e4285385-c533-454a-9ab8-4e74a5e2f7da\":{\"roots\":{\"references\":[{\"attributes\":{\"plot\":{\"id\":\"7fca6fc4-79e1-4563-87e6-384acfeac893\",\"subtype\":\"Chart\",\"type\":\"Plot\"}},\"id\":\"cd26e24c-7850-4620-9523-f873e67bd144\",\"type\":\"HelpTool\"},{\"attributes\":{\"callback\":null,\"column_names\":[\"x\",\"width\",\"label\",\"color\",\"line_alpha\",\"line_color\",\"y\",\"height\",\"fill_alpha\"],\"data\":{\"chart_index\":[{\"index\":2}],\"color\":[\"#f22c40\"],\"fill_alpha\":[0.8],\"height\":[1.0464241261728011],\"index\":[2],\"label\":[{\"index\":2}],\"line_alpha\":[1.0],\"line_color\":[\"white\"],\"width\":[0.8],\"x\":[\"2\"],\"y\":[0.5232120630864006]}},\"id\":\"28d13fce-11da-4ba4-8860-5b1867e36977\",\"type\":\"ColumnDataSource\"},{\"attributes\":{\"label\":{\"value\":\"1\"},\"renderers\":[{\"id\":\"4b1ff1a3-717c-481e-96a5-4643b5e3b7ec\",\"type\":\"GlyphRenderer\"}]},\"id\":\"6504756a-531a-4f9f-8c1c-e299214558d5\",\"type\":\"LegendItem\"},{\"attributes\":{\"label\":{\"value\":\"8\"},\"renderers\":[{\"id\":\"9cfe61ef-e4fb-49f9-a95e-90bf5c267279\",\"type\":\"GlyphRenderer\"}]},\"id\":\"56fa2f19-cb02-43e9-8622-5a18aff37855\",\"type\":\"LegendItem\"},{\"attributes\":{\"label\":{\"value\":\"0\"},\"renderers\":[{\"id\":\"05ee75b9-e60e-4fca-b79a-1ce7a2cdf66d\",\"type\":\"GlyphRenderer\"}]},\"id\":\"3319072d-77c2-4ac2-8cb8-28821bd8ead0\",\"type\":\"LegendItem\"},{\"attributes\":{\"fill_alpha\":{\"field\":\"fill_alpha\"},\"fill_color\":{\"field\":\"color\"},\"height\":{\"field\":\"height\",\"units\":\"data\"},\"line_color\":{\"field\":\"line_color\"},\"width\":{\"field\":\"width\",\"units\":\"data\"},\"x\":{\"field\":\"x\"},\"y\":{\"field\":\"y\"}},\"id\":\"bfb13250-b428-4222-85f9-23135ff14122\",\"type\":\"Rect\"},{\"attributes\":{\"data_source\":{\"id\":\"41a42ad0-46d5-405c-93e4-6e9ed9a7a413\",\"type\":\"ColumnDataSource\"},\"glyph\":{\"id\":\"a44f0ab8-5d88-4c49-8b2c-7733b753c7ba\",\"type\":\"Rect\"},\"hover_glyph\":null,\"nonselection_glyph\":null,\"selection_glyph\":null},\"id\":\"4b1ff1a3-717c-481e-96a5-4643b5e3b7ec\",\"type\":\"GlyphRenderer\"},{\"attributes\":{\"callback\":null,\"column_names\":[\"x\",\"width\",\"label\",\"color\",\"line_alpha\",\"line_color\",\"y\",\"height\",\"fill_alpha\"],\"data\":{\"chart_index\":[{\"index\":6}],\"color\":[\"#f22c40\"],\"fill_alpha\":[0.8],\"height\":[1.017743021140398],\"index\":[6],\"label\":[{\"index\":6}],\"line_alpha\":[1.0],\"line_color\":[\"white\"],\"width\":[0.8],\"x\":[\"6\"],\"y\":[0.508871510570199]}},\"id\":\"499029ce-7a4f-4eec-941c-0316cd9e3a06\",\"type\":\"ColumnDataSource\"},{\"attributes\":{\"data_source\":{\"id\":\"47748f60-5d25-4594-afdb-76c05046659c\",\"type\":\"ColumnDataSource\"},\"glyph\":{\"id\":\"bfb13250-b428-4222-85f9-23135ff14122\",\"type\":\"Rect\"},\"hover_glyph\":null,\"nonselection_glyph\":null,\"selection_glyph\":null},\"id\":\"dc933d82-e99c-44d5-8ab7-1f735896db84\",\"type\":\"GlyphRenderer\"},{\"attributes\":{\"label\":{\"value\":\"3\"},\"renderers\":[{\"id\":\"fa20aa38-be02-40f6-80f3-2dc53ebcf63f\",\"type\":\"GlyphRenderer\"}]},\"id\":\"f26533d2-07d3-4c25-9df1-cff43f1725f0\",\"type\":\"LegendItem\"},{\"attributes\":{\"callback\":null,\"column_names\":[\"x\",\"width\",\"label\",\"color\",\"line_alpha\",\"line_color\",\"y\",\"height\",\"fill_alpha\"],\"data\":{\"chart_index\":[{\"index\":3}],\"color\":[\"#f22c40\"],\"fill_alpha\":[0.8],\"height\":[0.8662730194218953],\"index\":[3],\"label\":[{\"index\":3}],\"line_alpha\":[1.0],\"line_color\":[\"white\"],\"width\":[0.8],\"x\":[\"3\"],\"y\":[0.43313650971094764]}},\"id\":\"c6ecd097-e9ab-4ac0-9a57-824874166b49\",\"type\":\"ColumnDataSource\"},{\"attributes\":{\"fill_alpha\":{\"field\":\"fill_alpha\"},\"fill_color\":{\"field\":\"color\"},\"height\":{\"field\":\"height\",\"units\":\"data\"},\"line_color\":{\"field\":\"line_color\"},\"width\":{\"field\":\"width\",\"units\":\"data\"},\"x\":{\"field\":\"x\"},\"y\":{\"field\":\"y\"}},\"id\":\"18761a39-d909-4465-9857-c28d84a3a9a0\",\"type\":\"Rect\"},{\"attributes\":{\"plot\":{\"id\":\"7fca6fc4-79e1-4563-87e6-384acfeac893\",\"subtype\":\"Chart\",\"type\":\"Plot\"}},\"id\":\"1ba51a1c-89be-4e69-af96-9677d8997576\",\"type\":\"PanTool\"},{\"attributes\":{\"label\":{\"value\":\"7\"},\"renderers\":[{\"id\":\"1dd00149-a7ff-4a42-829e-89c1c917d5e9\",\"type\":\"GlyphRenderer\"}]},\"id\":\"c8a66e27-a3b4-4125-9c40-67d115335f52\",\"type\":\"LegendItem\"},{\"attributes\":{\"callback\":null,\"column_names\":[\"x\",\"width\",\"label\",\"color\",\"line_alpha\",\"line_color\",\"y\",\"height\",\"fill_alpha\"],\"data\":{\"chart_index\":[{\"index\":8}],\"color\":[\"#f22c40\"],\"fill_alpha\":[0.8],\"height\":[1.09178433773156],\"index\":[8],\"label\":[{\"index\":8}],\"line_alpha\":[1.0],\"line_color\":[\"white\"],\"width\":[0.8],\"x\":[\"8\"],\"y\":[0.54589216886578]}},\"id\":\"a1698ad2-d284-4234-8d08-68c96c2ca043\",\"type\":\"ColumnDataSource\"},{\"attributes\":{\"data_source\":{\"id\":\"8b1cb3c2-2c2b-46d2-8c3c-fe8e0d340564\",\"type\":\"ColumnDataSource\"},\"glyph\":{\"id\":\"18761a39-d909-4465-9857-c28d84a3a9a0\",\"type\":\"Rect\"},\"hover_glyph\":null,\"nonselection_glyph\":null,\"selection_glyph\":null},\"id\":\"05ee75b9-e60e-4fca-b79a-1ce7a2cdf66d\",\"type\":\"GlyphRenderer\"},{\"attributes\":{\"plot\":null,\"text\":null},\"id\":\"81a222b9-dc4c-4549-afe5-e133c5321598\",\"type\":\"Title\"},{\"attributes\":{\"label\":{\"value\":\"4\"},\"renderers\":[{\"id\":\"f7b1deb7-a224-48d9-8e30-c870f607cbc4\",\"type\":\"GlyphRenderer\"}]},\"id\":\"a61483ed-b7ec-42bc-ae21-a00effbe2842\",\"type\":\"LegendItem\"},{\"attributes\":{\"data_source\":{\"id\":\"a1698ad2-d284-4234-8d08-68c96c2ca043\",\"type\":\"ColumnDataSource\"},\"glyph\":{\"id\":\"c9295d70-883c-465f-8e32-422b1e94fd4d\",\"type\":\"Rect\"},\"hover_glyph\":null,\"nonselection_glyph\":null,\"selection_glyph\":null},\"id\":\"9cfe61ef-e4fb-49f9-a95e-90bf5c267279\",\"type\":\"GlyphRenderer\"},{\"attributes\":{\"data_source\":{\"id\":\"499029ce-7a4f-4eec-941c-0316cd9e3a06\",\"type\":\"ColumnDataSource\"},\"glyph\":{\"id\":\"eb3fb91d-440c-42c5-9055-f1857fa04560\",\"type\":\"Rect\"},\"hover_glyph\":null,\"nonselection_glyph\":null,\"selection_glyph\":null},\"id\":\"3bd928d1-bfaa-4a06-945e-b644b64d1586\",\"type\":\"GlyphRenderer\"},{\"attributes\":{\"fill_alpha\":{\"field\":\"fill_alpha\"},\"fill_color\":{\"field\":\"color\"},\"height\":{\"field\":\"height\",\"units\":\"data\"},\"line_color\":{\"field\":\"line_color\"},\"width\":{\"field\":\"width\",\"units\":\"data\"},\"x\":{\"field\":\"x\"},\"y\":{\"field\":\"y\"}},\"id\":\"8094728a-3c42-4ebe-985d-4fb0bc456466\",\"type\":\"Rect\"},{\"attributes\":{\"label\":{\"value\":\"5\"},\"renderers\":[{\"id\":\"dc933d82-e99c-44d5-8ab7-1f735896db84\",\"type\":\"GlyphRenderer\"}]},\"id\":\"3006052f-2143-475e-a5c5-b317caa8ea4e\",\"type\":\"LegendItem\"},{\"attributes\":{\"data_source\":{\"id\":\"28d13fce-11da-4ba4-8860-5b1867e36977\",\"type\":\"ColumnDataSource\"},\"glyph\":{\"id\":\"8094728a-3c42-4ebe-985d-4fb0bc456466\",\"type\":\"Rect\"},\"hover_glyph\":null,\"nonselection_glyph\":null,\"selection_glyph\":null},\"id\":\"41d09d65-bc74-4bc8-93f8-4af2ea6f74d5\",\"type\":\"GlyphRenderer\"},{\"attributes\":{},\"id\":\"ae4d223a-73c1-416e-b505-7de833b691b7\",\"type\":\"CategoricalTicker\"},{\"attributes\":{\"plot\":{\"id\":\"7fca6fc4-79e1-4563-87e6-384acfeac893\",\"subtype\":\"Chart\",\"type\":\"Plot\"}},\"id\":\"dc77dcf5-1584-4cea-85a3-267deb2411c9\",\"type\":\"ResetTool\"},{\"attributes\":{\"fill_alpha\":{\"field\":\"fill_alpha\"},\"fill_color\":{\"field\":\"color\"},\"height\":{\"field\":\"height\",\"units\":\"data\"},\"line_color\":{\"field\":\"line_color\"},\"width\":{\"field\":\"width\",\"units\":\"data\"},\"x\":{\"field\":\"x\"},\"y\":{\"field\":\"y\"}},\"id\":\"a44f0ab8-5d88-4c49-8b2c-7733b753c7ba\",\"type\":\"Rect\"},{\"attributes\":{\"callback\":null,\"column_names\":[\"x\",\"width\",\"label\",\"color\",\"line_alpha\",\"line_color\",\"y\",\"height\",\"fill_alpha\"],\"data\":{\"chart_index\":[{\"index\":1}],\"color\":[\"#f22c40\"],\"fill_alpha\":[0.8],\"height\":[0.8640173791712127],\"index\":[1],\"label\":[{\"index\":1}],\"line_alpha\":[1.0],\"line_color\":[\"white\"],\"width\":[0.8],\"x\":[\"1\"],\"y\":[0.43200868958560634]}},\"id\":\"41a42ad0-46d5-405c-93e4-6e9ed9a7a413\",\"type\":\"ColumnDataSource\"},{\"attributes\":{\"data_source\":{\"id\":\"16db8066-8c10-44f4-92b4-f9fd9ae7590b\",\"type\":\"ColumnDataSource\"},\"glyph\":{\"id\":\"497c3cd8-fbce-4b33-a790-729345d6ffb8\",\"type\":\"Rect\"},\"hover_glyph\":null,\"nonselection_glyph\":null,\"selection_glyph\":null},\"id\":\"f7b1deb7-a224-48d9-8e30-c870f607cbc4\",\"type\":\"GlyphRenderer\"},{\"attributes\":{},\"id\":\"cd78455f-236e-4939-a2af-486dfe948da6\",\"type\":\"CategoricalTickFormatter\"},{\"attributes\":{\"callback\":null,\"column_names\":[\"x\",\"width\",\"label\",\"color\",\"line_alpha\",\"line_color\",\"y\",\"height\",\"fill_alpha\"],\"data\":{\"chart_index\":[{\"index\":0}],\"color\":[\"#f22c40\"],\"fill_alpha\":[0.8],\"height\":[0.8204494967874144],\"index\":[0],\"label\":[{\"index\":0}],\"line_alpha\":[1.0],\"line_color\":[\"white\"],\"width\":[0.8],\"x\":[\"0\"],\"y\":[0.4102247483937072]}},\"id\":\"8b1cb3c2-2c2b-46d2-8c3c-fe8e0d340564\",\"type\":\"ColumnDataSource\"},{\"attributes\":{\"label\":{\"value\":\"2\"},\"renderers\":[{\"id\":\"41d09d65-bc74-4bc8-93f8-4af2ea6f74d5\",\"type\":\"GlyphRenderer\"}]},\"id\":\"81073b49-1c10-4d9c-8075-1db8c67efada\",\"type\":\"LegendItem\"},{\"attributes\":{\"data_source\":{\"id\":\"ddf8d376-da9f-4962-991c-5406befd5292\",\"type\":\"ColumnDataSource\"},\"glyph\":{\"id\":\"2e6d7ff8-e647-4e62-a1f9-8cc0f06d4040\",\"type\":\"Rect\"},\"hover_glyph\":null,\"nonselection_glyph\":null,\"selection_glyph\":null},\"id\":\"60b350f4-2dc9-4ebb-845e-2d99bca97deb\",\"type\":\"GlyphRenderer\"},{\"attributes\":{\"fill_alpha\":{\"field\":\"fill_alpha\"},\"fill_color\":{\"field\":\"color\"},\"height\":{\"field\":\"height\",\"units\":\"data\"},\"line_color\":{\"field\":\"line_color\"},\"width\":{\"field\":\"width\",\"units\":\"data\"},\"x\":{\"field\":\"x\"},\"y\":{\"field\":\"y\"}},\"id\":\"497c3cd8-fbce-4b33-a790-729345d6ffb8\",\"type\":\"Rect\"},{\"attributes\":{\"label\":{\"value\":\"6\"},\"renderers\":[{\"id\":\"3bd928d1-bfaa-4a06-945e-b644b64d1586\",\"type\":\"GlyphRenderer\"}]},\"id\":\"2b13cdaf-2700-4d12-bf06-e46c802cfe51\",\"type\":\"LegendItem\"},{\"attributes\":{\"dimension\":1,\"plot\":{\"id\":\"7fca6fc4-79e1-4563-87e6-384acfeac893\",\"subtype\":\"Chart\",\"type\":\"Plot\"},\"ticker\":{\"id\":\"55634d97-0dcd-4ade-ba39-14edce21193f\",\"type\":\"BasicTicker\"}},\"id\":\"2e2c0bed-2275-400b-ad00-e76e3842bd25\",\"type\":\"Grid\"},{\"attributes\":{\"callback\":null,\"end\":1.207177227406247},\"id\":\"a72f2683-7cea-4705-b7f0-c212c700f5c3\",\"type\":\"Range1d\"},{\"attributes\":{\"fill_alpha\":{\"field\":\"fill_alpha\"},\"fill_color\":{\"field\":\"color\"},\"height\":{\"field\":\"height\",\"units\":\"data\"},\"line_color\":{\"field\":\"line_color\"},\"width\":{\"field\":\"width\",\"units\":\"data\"},\"x\":{\"field\":\"x\"},\"y\":{\"field\":\"y\"}},\"id\":\"2e6d7ff8-e647-4e62-a1f9-8cc0f06d4040\",\"type\":\"Rect\"},{\"attributes\":{\"items\":[{\"id\":\"3319072d-77c2-4ac2-8cb8-28821bd8ead0\",\"type\":\"LegendItem\"},{\"id\":\"6504756a-531a-4f9f-8c1c-e299214558d5\",\"type\":\"LegendItem\"},{\"id\":\"81073b49-1c10-4d9c-8075-1db8c67efada\",\"type\":\"LegendItem\"},{\"id\":\"f26533d2-07d3-4c25-9df1-cff43f1725f0\",\"type\":\"LegendItem\"},{\"id\":\"a61483ed-b7ec-42bc-ae21-a00effbe2842\",\"type\":\"LegendItem\"},{\"id\":\"3006052f-2143-475e-a5c5-b317caa8ea4e\",\"type\":\"LegendItem\"},{\"id\":\"2b13cdaf-2700-4d12-bf06-e46c802cfe51\",\"type\":\"LegendItem\"},{\"id\":\"c8a66e27-a3b4-4125-9c40-67d115335f52\",\"type\":\"LegendItem\"},{\"id\":\"56fa2f19-cb02-43e9-8622-5a18aff37855\",\"type\":\"LegendItem\"},{\"id\":\"fa739b8b-39c9-4567-b7bf-b08789bc2486\",\"type\":\"LegendItem\"}],\"location\":\"top_left\",\"plot\":{\"id\":\"7fca6fc4-79e1-4563-87e6-384acfeac893\",\"subtype\":\"Chart\",\"type\":\"Plot\"}},\"id\":\"42d9cbfc-101f-4aff-bc5b-91a874701c50\",\"type\":\"Legend\"},{\"attributes\":{\"callback\":null,\"column_names\":[\"x\",\"width\",\"label\",\"color\",\"line_alpha\",\"line_color\",\"y\",\"height\",\"fill_alpha\"],\"data\":{\"chart_index\":[{\"index\":9}],\"color\":[\"#f22c40\"],\"fill_alpha\":[0.8],\"height\":[1.1496925975297592],\"index\":[9],\"label\":[{\"index\":9}],\"line_alpha\":[1.0],\"line_color\":[\"white\"],\"width\":[0.8],\"x\":[\"9\"],\"y\":[0.5748462987648796]}},\"id\":\"ddf8d376-da9f-4962-991c-5406befd5292\",\"type\":\"ColumnDataSource\"},{\"attributes\":{\"fill_alpha\":{\"field\":\"fill_alpha\"},\"fill_color\":{\"field\":\"color\"},\"height\":{\"field\":\"height\",\"units\":\"data\"},\"line_color\":{\"field\":\"line_color\"},\"width\":{\"field\":\"width\",\"units\":\"data\"},\"x\":{\"field\":\"x\"},\"y\":{\"field\":\"y\"}},\"id\":\"eb3fb91d-440c-42c5-9055-f1857fa04560\",\"type\":\"Rect\"},{\"attributes\":{\"bottom_units\":\"screen\",\"fill_alpha\":{\"value\":0.5},\"fill_color\":{\"value\":\"lightgrey\"},\"left_units\":\"screen\",\"level\":\"overlay\",\"line_alpha\":{\"value\":1.0},\"line_color\":{\"value\":\"black\"},\"line_dash\":[4,4],\"line_width\":{\"value\":2},\"plot\":null,\"render_mode\":\"css\",\"right_units\":\"screen\",\"top_units\":\"screen\"},\"id\":\"b90d3692-b9af-42eb-a675-92704fddd239\",\"type\":\"BoxAnnotation\"},{\"attributes\":{},\"id\":\"55634d97-0dcd-4ade-ba39-14edce21193f\",\"type\":\"BasicTicker\"},{\"attributes\":{\"data_source\":{\"id\":\"6e1fac67-361a-4341-b06c-50654982359d\",\"type\":\"ColumnDataSource\"},\"glyph\":{\"id\":\"e6e1b46b-e428-4c08-8f7c-46f2c40dd0be\",\"type\":\"Rect\"},\"hover_glyph\":null,\"nonselection_glyph\":null,\"selection_glyph\":null},\"id\":\"1dd00149-a7ff-4a42-829e-89c1c917d5e9\",\"type\":\"GlyphRenderer\"},{\"attributes\":{\"callback\":null,\"column_names\":[\"x\",\"width\",\"label\",\"color\",\"line_alpha\",\"line_color\",\"y\",\"height\",\"fill_alpha\"],\"data\":{\"chart_index\":[{\"index\":5}],\"color\":[\"#f22c40\"],\"fill_alpha\":[0.8],\"height\":[0.887222592913055],\"index\":[5],\"label\":[{\"index\":5}],\"line_alpha\":[1.0],\"line_color\":[\"white\"],\"width\":[0.8],\"x\":[\"5\"],\"y\":[0.4436112964565275]}},\"id\":\"47748f60-5d25-4594-afdb-76c05046659c\",\"type\":\"ColumnDataSource\"},{\"attributes\":{\"formatter\":{\"id\":\"cd78455f-236e-4939-a2af-486dfe948da6\",\"type\":\"CategoricalTickFormatter\"},\"major_label_orientation\":0.7853981633974483,\"plot\":{\"id\":\"7fca6fc4-79e1-4563-87e6-384acfeac893\",\"subtype\":\"Chart\",\"type\":\"Plot\"},\"ticker\":{\"id\":\"ae4d223a-73c1-416e-b505-7de833b691b7\",\"type\":\"CategoricalTicker\"}},\"id\":\"7e97cad1-cefe-4960-afac-bbb4ccd89496\",\"type\":\"CategoricalAxis\"},{\"attributes\":{\"fill_alpha\":{\"field\":\"fill_alpha\"},\"fill_color\":{\"field\":\"color\"},\"height\":{\"field\":\"height\",\"units\":\"data\"},\"line_color\":{\"field\":\"line_color\"},\"width\":{\"field\":\"width\",\"units\":\"data\"},\"x\":{\"field\":\"x\"},\"y\":{\"field\":\"y\"}},\"id\":\"eec74fc1-417f-4b37-8b67-ae80cdeecafc\",\"type\":\"Rect\"},{\"attributes\":{\"overlay\":{\"id\":\"b90d3692-b9af-42eb-a675-92704fddd239\",\"type\":\"BoxAnnotation\"},\"plot\":{\"id\":\"7fca6fc4-79e1-4563-87e6-384acfeac893\",\"subtype\":\"Chart\",\"type\":\"Plot\"}},\"id\":\"e7b93eb0-8d4b-4c94-a585-d4b67106a13a\",\"type\":\"BoxZoomTool\"},{\"attributes\":{\"below\":[{\"id\":\"7e97cad1-cefe-4960-afac-bbb4ccd89496\",\"type\":\"CategoricalAxis\"}],\"css_classes\":null,\"left\":[{\"id\":\"b2aeb74b-0332-4075-b3e3-acda78918eb7\",\"type\":\"LinearAxis\"}],\"renderers\":[{\"id\":\"b90d3692-b9af-42eb-a675-92704fddd239\",\"type\":\"BoxAnnotation\"},{\"id\":\"05ee75b9-e60e-4fca-b79a-1ce7a2cdf66d\",\"type\":\"GlyphRenderer\"},{\"id\":\"4b1ff1a3-717c-481e-96a5-4643b5e3b7ec\",\"type\":\"GlyphRenderer\"},{\"id\":\"41d09d65-bc74-4bc8-93f8-4af2ea6f74d5\",\"type\":\"GlyphRenderer\"},{\"id\":\"fa20aa38-be02-40f6-80f3-2dc53ebcf63f\",\"type\":\"GlyphRenderer\"},{\"id\":\"f7b1deb7-a224-48d9-8e30-c870f607cbc4\",\"type\":\"GlyphRenderer\"},{\"id\":\"dc933d82-e99c-44d5-8ab7-1f735896db84\",\"type\":\"GlyphRenderer\"},{\"id\":\"3bd928d1-bfaa-4a06-945e-b644b64d1586\",\"type\":\"GlyphRenderer\"},{\"id\":\"1dd00149-a7ff-4a42-829e-89c1c917d5e9\",\"type\":\"GlyphRenderer\"},{\"id\":\"9cfe61ef-e4fb-49f9-a95e-90bf5c267279\",\"type\":\"GlyphRenderer\"},{\"id\":\"60b350f4-2dc9-4ebb-845e-2d99bca97deb\",\"type\":\"GlyphRenderer\"},{\"id\":\"42d9cbfc-101f-4aff-bc5b-91a874701c50\",\"type\":\"Legend\"},{\"id\":\"7e97cad1-cefe-4960-afac-bbb4ccd89496\",\"type\":\"CategoricalAxis\"},{\"id\":\"b2aeb74b-0332-4075-b3e3-acda78918eb7\",\"type\":\"LinearAxis\"},{\"id\":\"2e2c0bed-2275-400b-ad00-e76e3842bd25\",\"type\":\"Grid\"}],\"title\":{\"id\":\"81a222b9-dc4c-4549-afe5-e133c5321598\",\"type\":\"Title\"},\"tool_events\":{\"id\":\"32d5ddad-5ce2-4c67-9df7-f8353f26cd95\",\"type\":\"ToolEvents\"},\"toolbar\":{\"id\":\"bed01353-b8b9-4465-8a93-af69d054ec37\",\"type\":\"Toolbar\"},\"x_mapper_type\":\"auto\",\"x_range\":{\"id\":\"ef55af4b-c68f-42a8-bbee-fb3631e087b7\",\"type\":\"FactorRange\"},\"y_mapper_type\":\"auto\",\"y_range\":{\"id\":\"a72f2683-7cea-4705-b7f0-c212c700f5c3\",\"type\":\"Range1d\"}},\"id\":\"7fca6fc4-79e1-4563-87e6-384acfeac893\",\"subtype\":\"Chart\",\"type\":\"Plot\"},{\"attributes\":{\"callback\":null,\"column_names\":[\"x\",\"width\",\"label\",\"color\",\"line_alpha\",\"line_color\",\"y\",\"height\",\"fill_alpha\"],\"data\":{\"chart_index\":[{\"index\":7}],\"color\":[\"#f22c40\"],\"fill_alpha\":[0.8],\"height\":[1.0647081855730522],\"index\":[7],\"label\":[{\"index\":7}],\"line_alpha\":[1.0],\"line_color\":[\"white\"],\"width\":[0.8],\"x\":[\"7\"],\"y\":[0.5323540927865261]}},\"id\":\"6e1fac67-361a-4341-b06c-50654982359d\",\"type\":\"ColumnDataSource\"},{\"attributes\":{\"callback\":null,\"column_names\":[\"x\",\"width\",\"label\",\"color\",\"line_alpha\",\"line_color\",\"y\",\"height\",\"fill_alpha\"],\"data\":{\"chart_index\":[{\"index\":4}],\"color\":[\"#f22c40\"],\"fill_alpha\":[0.8],\"height\":[0.9094688581226901],\"index\":[4],\"label\":[{\"index\":4}],\"line_alpha\":[1.0],\"line_color\":[\"white\"],\"width\":[0.8],\"x\":[\"4\"],\"y\":[0.45473442906134504]}},\"id\":\"16db8066-8c10-44f4-92b4-f9fd9ae7590b\",\"type\":\"ColumnDataSource\"},{\"attributes\":{},\"id\":\"32d5ddad-5ce2-4c67-9df7-f8353f26cd95\",\"type\":\"ToolEvents\"},{\"attributes\":{\"callback\":null,\"factors\":[\"0\",\"1\",\"2\",\"3\",\"4\",\"5\",\"6\",\"7\",\"8\",\"9\"]},\"id\":\"ef55af4b-c68f-42a8-bbee-fb3631e087b7\",\"type\":\"FactorRange\"},{\"attributes\":{},\"id\":\"2445c449-dedb-4c4c-bd6d-14afdc68fa8c\",\"type\":\"BasicTickFormatter\"},{\"attributes\":{\"fill_alpha\":{\"field\":\"fill_alpha\"},\"fill_color\":{\"field\":\"color\"},\"height\":{\"field\":\"height\",\"units\":\"data\"},\"line_color\":{\"field\":\"line_color\"},\"width\":{\"field\":\"width\",\"units\":\"data\"},\"x\":{\"field\":\"x\"},\"y\":{\"field\":\"y\"}},\"id\":\"e6e1b46b-e428-4c08-8f7c-46f2c40dd0be\",\"type\":\"Rect\"},{\"attributes\":{\"data_source\":{\"id\":\"c6ecd097-e9ab-4ac0-9a57-824874166b49\",\"type\":\"ColumnDataSource\"},\"glyph\":{\"id\":\"eec74fc1-417f-4b37-8b67-ae80cdeecafc\",\"type\":\"Rect\"},\"hover_glyph\":null,\"nonselection_glyph\":null,\"selection_glyph\":null},\"id\":\"fa20aa38-be02-40f6-80f3-2dc53ebcf63f\",\"type\":\"GlyphRenderer\"},{\"attributes\":{\"plot\":{\"id\":\"7fca6fc4-79e1-4563-87e6-384acfeac893\",\"subtype\":\"Chart\",\"type\":\"Plot\"}},\"id\":\"9558e935-c9ee-438b-8181-2e23ee441c3b\",\"type\":\"SaveTool\"},{\"attributes\":{\"active_drag\":\"auto\",\"active_scroll\":\"auto\",\"active_tap\":\"auto\",\"tools\":[{\"id\":\"1ba51a1c-89be-4e69-af96-9677d8997576\",\"type\":\"PanTool\"},{\"id\":\"8b5da1c5-b519-4a49-a0f0-42ab5b841164\",\"type\":\"WheelZoomTool\"},{\"id\":\"e7b93eb0-8d4b-4c94-a585-d4b67106a13a\",\"type\":\"BoxZoomTool\"},{\"id\":\"9558e935-c9ee-438b-8181-2e23ee441c3b\",\"type\":\"SaveTool\"},{\"id\":\"dc77dcf5-1584-4cea-85a3-267deb2411c9\",\"type\":\"ResetTool\"},{\"id\":\"cd26e24c-7850-4620-9523-f873e67bd144\",\"type\":\"HelpTool\"}]},\"id\":\"bed01353-b8b9-4465-8a93-af69d054ec37\",\"type\":\"Toolbar\"},{\"attributes\":{\"axis_label\":\"Sum( Beta )\",\"formatter\":{\"id\":\"2445c449-dedb-4c4c-bd6d-14afdc68fa8c\",\"type\":\"BasicTickFormatter\"},\"plot\":{\"id\":\"7fca6fc4-79e1-4563-87e6-384acfeac893\",\"subtype\":\"Chart\",\"type\":\"Plot\"},\"ticker\":{\"id\":\"55634d97-0dcd-4ade-ba39-14edce21193f\",\"type\":\"BasicTicker\"}},\"id\":\"b2aeb74b-0332-4075-b3e3-acda78918eb7\",\"type\":\"LinearAxis\"},{\"attributes\":{\"fill_alpha\":{\"field\":\"fill_alpha\"},\"fill_color\":{\"field\":\"color\"},\"height\":{\"field\":\"height\",\"units\":\"data\"},\"line_color\":{\"field\":\"line_color\"},\"width\":{\"field\":\"width\",\"units\":\"data\"},\"x\":{\"field\":\"x\"},\"y\":{\"field\":\"y\"}},\"id\":\"c9295d70-883c-465f-8e32-422b1e94fd4d\",\"type\":\"Rect\"},{\"attributes\":{\"plot\":{\"id\":\"7fca6fc4-79e1-4563-87e6-384acfeac893\",\"subtype\":\"Chart\",\"type\":\"Plot\"}},\"id\":\"8b5da1c5-b519-4a49-a0f0-42ab5b841164\",\"type\":\"WheelZoomTool\"},{\"attributes\":{\"label\":{\"value\":\"9\"},\"renderers\":[{\"id\":\"60b350f4-2dc9-4ebb-845e-2d99bca97deb\",\"type\":\"GlyphRenderer\"}]},\"id\":\"fa739b8b-39c9-4567-b7bf-b08789bc2486\",\"type\":\"LegendItem\"}],\"root_ids\":[\"7fca6fc4-79e1-4563-87e6-384acfeac893\"]},\"title\":\"Bokeh Application\",\"version\":\"0.12.4\"}};\n",
       "            var render_items = [{\"docid\":\"e4285385-c533-454a-9ab8-4e74a5e2f7da\",\"elementid\":\"40daebd9-5c71-465a-b11d-6cf9041b59d0\",\"modelid\":\"7fca6fc4-79e1-4563-87e6-384acfeac893\"}];\n",
       "            \n",
       "            Bokeh.embed.embed_items(docs_json, render_items);\n",
       "          };\n",
       "          if (document.readyState != \"loading\") fn();\n",
       "          else document.addEventListener(\"DOMContentLoaded\", fn);\n",
       "        })();\n",
       "      },\n",
       "      function(Bokeh) {\n",
       "      }\n",
       "    ];\n",
       "  \n",
       "    function run_inline_js() {\n",
       "      \n",
       "      if ((window.Bokeh !== undefined) || (force === true)) {\n",
       "        for (var i = 0; i < inline_js.length; i++) {\n",
       "          inline_js[i](window.Bokeh);\n",
       "        }if (force === true) {\n",
       "          display_loaded();\n",
       "        }} else if (Date.now() < window._bokeh_timeout) {\n",
       "        setTimeout(run_inline_js, 100);\n",
       "      } else if (!window._bokeh_failed_load) {\n",
       "        console.log(\"Bokeh: BokehJS failed to load within specified timeout.\");\n",
       "        window._bokeh_failed_load = true;\n",
       "      } else if (force !== true) {\n",
       "        var cell = $(document.getElementById(\"40daebd9-5c71-465a-b11d-6cf9041b59d0\")).parents('.cell').data().cell;\n",
       "        cell.output_area.append_execute_result(NB_LOAD_WARNING)\n",
       "      }\n",
       "  \n",
       "    }\n",
       "  \n",
       "    if (window._bokeh_is_loading === 0) {\n",
       "      console.log(\"Bokeh: BokehJS loaded, going straight to plotting\");\n",
       "      run_inline_js();\n",
       "    } else {\n",
       "      load_libs(js_urls, function() {\n",
       "        console.log(\"Bokeh: BokehJS plotting callback run at\", now());\n",
       "        run_inline_js();\n",
       "      });\n",
       "    }\n",
       "  }(this));\n",
       "</script>"
      ]
     },
     "metadata": {},
     "output_type": "display_data"
    }
   ],
   "source": [
    "mktcap_bar = Bar(mktcap_betas)\n",
    "show(mktcap_bar)"
   ]
  },
  {
   "cell_type": "code",
   "execution_count": null,
   "metadata": {
    "collapsed": true
   },
   "outputs": [],
   "source": []
  }
 ],
 "metadata": {
  "kernelspec": {
   "display_name": "Python 3",
   "language": "python",
   "name": "python3"
  },
  "language_info": {
   "codemirror_mode": {
    "name": "ipython",
    "version": 3
   },
   "file_extension": ".py",
   "mimetype": "text/x-python",
   "name": "python",
   "nbconvert_exporter": "python",
   "pygments_lexer": "ipython3",
   "version": "3.5.2"
  }
 },
 "nbformat": 4,
 "nbformat_minor": 2
}
