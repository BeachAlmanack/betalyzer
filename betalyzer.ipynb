{
 "cells": [
  {
   "cell_type": "markdown",
   "metadata": {},
   "source": [
    "# Betalyzer\n",
    "This app analyzes the beta from 500 tickers."
   ]
  },
  {
   "cell_type": "markdown",
   "metadata": {},
   "source": [
    "## Technologies\n",
    "I used the following technologies / plugins.\n",
    " - Python: Basis for the data layer and for the "
   ]
  },
  {
   "cell_type": "markdown",
   "metadata": {},
   "source": [
    "## Structure\n",
    "Betalyzer is a Flask app but there are several files.\n",
    " - **`betalyzer.py`:** All of the business logic is in this file.\n",
    " - **`app.py`:** This is the Flask app and handles the execution of the web app.\n",
    " - **`templates/index.html`:** We only needed one page -- the index page -- for this project.\n",
    " - **Pickles:** For performance reasons, I do not want to fetch the data and recalculate the historical betas every time a user opens the web page. So I store the calculations in pickle files, including `df_tickers` for all the tickers, `df_betas` as a timeseries for historical betas by ticker and `df_changes` as a timeseries for daily changes by ticker.\n",
    " - **`betalyzer.ipynb`:** This file. This is the resulting report.\n",
    " - **`play.ipynb`:** I have left the play Notebooks in place where I did some of my sratch work, though none of them are actually used."
   ]
  },
  {
   "cell_type": "markdown",
   "metadata": {},
   "source": [
    "## Calculation Engine\n",
    "I spent quite a bit of time optimizing the calculation engine. We break the steps down:\n",
    " - Get Tickers: The first step is to get a list of relevant tickers. Unfortunately, I couldn't find an easy way to do this using Quandl or Yahoo Finance, but I did find that NASDAQ publishes a daily list of securities traded on its exchange. `nasdaq_url` in `betalyzer.py` sets this source. `read_nasdaq()` "
   ]
  },
  {
   "cell_type": "markdown",
   "metadata": {},
   "source": [
    "## Extensions\n",
    "Should this have been a production level project, here are some extensions that could have been added:\n"
   ]
  }
 ],
 "metadata": {
  "kernelspec": {
   "display_name": "Python 3",
   "language": "python",
   "name": "python3"
  },
  "language_info": {
   "codemirror_mode": {
    "name": "ipython",
    "version": 3
   },
   "file_extension": ".py",
   "mimetype": "text/x-python",
   "name": "python",
   "nbconvert_exporter": "python",
   "pygments_lexer": "ipython3",
   "version": "3.5.2"
  }
 },
 "nbformat": 4,
 "nbformat_minor": 2
}
