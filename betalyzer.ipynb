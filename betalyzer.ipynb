{
 "cells": [
  {
   "cell_type": "markdown",
   "metadata": {},
   "source": [
    "# Betalyzer\n"
   ]
  },
  {
   "cell_type": "markdown",
   "metadata": {},
   "source": [
    "## Installation\n",
    "\n",
    "I'm running Anaconda with the version dump below. I've tested this code using the latest builds of most libraries. The only library that I'm using that does not come default with Anaconda is Quandl, which would need to be installed using `pip install Quandl`. Note that unless you Recalculate (where Quandl is necessary), you don't need to install Quandl to run this application."
   ]
  },
  {
   "cell_type": "code",
   "execution_count": 1,
   "metadata": {
    "ExecuteTime": {
     "end_time": "2017-01-22T15:39:24.383164",
     "start_time": "2017-01-22T15:39:24.381164"
    },
    "collapsed": false
   },
   "outputs": [
    {
     "data": {
      "text/plain": [
       "'3.5.2 |Anaconda custom (64-bit)| (default, Jul  5 2016, 11:41:13) [MSC v.1900 64 bit (AMD64)]'"
      ]
     },
     "execution_count": 1,
     "metadata": {},
     "output_type": "execute_result"
    }
   ],
   "source": [
    "import sys\n",
    "sys.version"
   ]
  },
  {
   "cell_type": "markdown",
   "metadata": {},
   "source": [
    "## Technologies\n",
    "I used the following components (other than the obvious like Python, HTML, CSS, jQuery).\n",
    " - **[Quandl](http://www.quandl.com):** I chose Quandl as the primary datasource because the API is documented and the data sources are much fuller than Yahoo Finance.\n",
    " - **[Pandas](http://pandas.pydata.org/):** Most calculations are done in pandas. Pandas uses numpy in the backend, but provides a layer of abstraction as well as a variety of tools built on top. \n",
    " - **[Flask](http://flask.pocoo.org/):** Flask is a lightweight web framework written in Python. As they say, the Navy uses Django; pirates use Flask. \n",
    " - **[Bokeh](http://bokeh.pydata.org/en/latest/):** Though I've used primarily Highcharts and D3 before, this is my first project using bokeh for data visualization. I'm extremely impressed by the ease of data viz that it provides as well as its seamless integration with both web output as well as pandas DataFrame inputs.\n",
    " - **[Bootstrap](http://getbootstrap.com/):** I use Twitter's Bootstrap v3 on the frontend.\n",
    " - **[Datatables](https://datatables.net/):** Datatables is a jQuery plugin that renders tables for the web extremely quickly. It has a lot of functionality around sorting, viewing, etc.\n",
    " - **[Jupyter Notebook](http://jupyter.org/):** I do most of my prototyping in Jupyter, as well as use it to write these reports."
   ]
  },
  {
   "cell_type": "markdown",
   "metadata": {},
   "source": [
    "## Application Structure\n",
    "Betalyzer is a Flask app but there are several files.\n",
    " - **`betalyzer.py`:** All of the business logic is in this file.\n",
    " - **`app.py`:** This is the Flask app and handles the execution of the web app.\n",
    " - **`templates/`:** We have three pages -- `index.html` which has our app's outline, `main.html` which displays the content on the main page (the Datatable and the charts) and `ticker.html` which shows the timeseries of beta for a single ticker.\n",
    " - **Pickles:** For performance reasons, I do not want to fetch the data and recalculate the historical betas every time a user opens the web page. So I store the calculations in pickle files, including `df_tickers` for all the tickers, `df_betas` as a timeseries for historical betas by ticker and `df_changes` as a timeseries for daily changes by ticker.\n",
    " - **`betalyzer.ipynb`:** This file. This is the resulting report.\n",
    " - **`beta-calc-optimizations.ipynb`:** This shows the optimizations performed to improve the calculation speed by a factor of 3000x.\n",
    " - **`play.ipynb`:** I have left the play Notebooks in place where I did some of my sratch work, though none of them are actually used."
   ]
  },
  {
   "cell_type": "markdown",
   "metadata": {},
   "source": [
    "## Data Issues\n",
    "There were a variety of data issues that I came across. \n",
    "\n",
    "First, getting a list of current tickers was a bit tricky. Neither Quandl nor Yahoo Finance provided an easy way to accomplish this. However, NASDAQ publishes a daily list of securities traded on its exchange. `nasdaq_url` in `betalyzer.py` sets this source. So I only have NASDAQ stocks in Betalyzer currently.\n",
    "\n",
    "Second, according to Quandl, their best data source for daily stock price data is WIKI. However, WIKI does not have ETFs, and to calculate the market move, I would like to use an ETF such as SPY. Therefore, I use WIKI for all individual stock price data, and I use GOOG for SPY data.\n",
    "\n",
    "Third, GOOG is not perfect. It does not seem to have a very good calendar in the API, and contains non business days (primarily holidays as opposed to weekends). Also, GOOG does not adjust for stock splits and dividends. Since we only get SPY from GOOG, the main issue is that it is not dividend adjusted. Meanwhile, WIKI has adjusted for dividends and splits as we use the column 'Adj Close'.\n",
    "\n",
    "Fourth, there is missing data in WIKI from Quandl. For example, GOOG only starts in mid 2014. Also, a ticker like 'CELG' (randomly chosen) has several missing data points:\n",
    "\n",
    "```\n",
    "[In] df_changes['CELG'][df_changes['CELG'].isnull()]\n",
    "[Out]\n",
    "Date\n",
    "2014-10-02   NaN\n",
    "2014-11-05   NaN\n",
    "2014-12-03   NaN\n",
    "2014-12-08   NaN\n",
    "2014-12-11   NaN\n",
    "2014-12-29   NaN\n",
    "2015-01-07   NaN\n",
    "2015-01-09   NaN\n",
    "2015-01-16   NaN\n",
    "2015-01-27   NaN\n",
    "2015-02-05   NaN\n",
    "2015-02-06   NaN\n",
    "2015-07-13   NaN\n",
    "Name: CELG, dtype: float64\n",
    "```\n",
    "\n",
    "We could use .fillna(0) to solve this issue temporarily, but I have not done this, so missing data will appear as gaps in the beta calculation charts."
   ]
  },
  {
   "cell_type": "markdown",
   "metadata": {},
   "source": [
    "## Extensions\n",
    "Should this have been a production level project, here are some extensions that could have been added:\n",
    " - **Additional data:** We currently only get NASDAQ data. We should get data from NYSE as well to cover most equities. We also do not get ETFs. Additionally, there are some shortcomings in the adjustments to the SPY data (it is not total return) that need to be taken into account. \n",
    " - **Datastore:** The data is currently stored in pickled DataFrames, and only the data we need (the rest is discarded). Ideally, we'd move this to a Postgres database, and perhaps Redshift if the data starts moving beyond a few GBs, for optimal performance. \n",
    " - **Recalculation:** Currently, on recalculation, all data is fetched from Quandl, even data that we've used before, and all calculations are made again. Ideally, we should only fetch new data and calculate based on the new data. \n",
    " - **Auto-recalculation:** Currently, only manual recalculation is supported. I would add a process that auto-recalculates every business day at a certain time when both NASDAQ and Quandl have updated their data. Perhaps an asynchronus process and a scheduler (Celery and Celery Beat is what I've used in the past) could help here. "
   ]
  }
 ],
 "metadata": {
  "kernelspec": {
   "display_name": "Python 3",
   "language": "python",
   "name": "python3"
  },
  "language_info": {
   "codemirror_mode": {
    "name": "ipython",
    "version": 3
   },
   "file_extension": ".py",
   "mimetype": "text/x-python",
   "name": "python",
   "nbconvert_exporter": "python",
   "pygments_lexer": "ipython3",
   "version": "3.5.2"
  }
 },
 "nbformat": 4,
 "nbformat_minor": 2
}
